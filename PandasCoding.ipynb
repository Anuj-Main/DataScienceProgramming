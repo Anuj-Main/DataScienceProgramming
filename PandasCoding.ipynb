{
  "nbformat": 4,
  "nbformat_minor": 0,
  "metadata": {
    "colab": {
      "name": "PandasCoding.ipynb",
      "provenance": [],
      "authorship_tag": "ABX9TyM0FGp41I07xXezPumQOQhT",
      "include_colab_link": true
    },
    "kernelspec": {
      "name": "python3",
      "display_name": "Python 3"
    },
    "language_info": {
      "name": "python"
    }
  },
  "cells": [
    {
      "cell_type": "markdown",
      "metadata": {
        "id": "view-in-github",
        "colab_type": "text"
      },
      "source": [
        "<a href=\"https://colab.research.google.com/github/Anuj-Main/DataScienceProgramming/blob/main/PandasCoding.ipynb\" target=\"_parent\"><img src=\"https://colab.research.google.com/assets/colab-badge.svg\" alt=\"Open In Colab\"/></a>"
      ]
    },
    {
      "cell_type": "markdown",
      "metadata": {
        "id": "pkcIXoAmR3Kr"
      },
      "source": [
        "# Pandas Coding"
      ]
    },
    {
      "cell_type": "code",
      "metadata": {
        "id": "MqEqDGTZIWnH"
      },
      "source": [
        "import pandas as pd"
      ],
      "execution_count": 4,
      "outputs": []
    },
    {
      "cell_type": "markdown",
      "metadata": {
        "id": "sQxlHoTZJYP4"
      },
      "source": [
        "**Series**"
      ]
    },
    {
      "cell_type": "code",
      "metadata": {
        "colab": {
          "base_uri": "https://localhost:8080/"
        },
        "id": "Ju7gMAxjJRBU",
        "outputId": "2006c585-c5c7-44b4-9ac3-52eeba6494aa"
      },
      "source": [
        "Age = pd.Series([10, 20, 30, 40, 50], index=['Age1', 'Age2', 'Age3', 'Age4', 'Age5'])\n",
        "print(Age)"
      ],
      "execution_count": 5,
      "outputs": [
        {
          "output_type": "stream",
          "text": [
            "Age1    10\n",
            "Age2    20\n",
            "Age3    30\n",
            "Age4    40\n",
            "Age5    50\n",
            "dtype: int64\n"
          ],
          "name": "stdout"
        }
      ]
    },
    {
      "cell_type": "code",
      "metadata": {
        "colab": {
          "base_uri": "https://localhost:8080/"
        },
        "id": "fDov-w_ZJjXd",
        "outputId": "5e3e225a-028d-4578-8d00-ea45773aa289"
      },
      "source": [
        "Age_call=AGE.Age5\n",
        "print(Age_call)"
      ],
      "execution_count": 6,
      "outputs": [
        {
          "output_type": "stream",
          "text": [
            "50\n"
          ],
          "name": "stdout"
        }
      ]
    },
    {
      "cell_type": "code",
      "metadata": {
        "colab": {
          "base_uri": "https://localhost:8080/"
        },
        "id": "YcG-FaSMLnsV",
        "outputId": "97baae65-7232-4f4a-97af-f46a5cb35f37"
      },
      "source": [
        "Filter_Age=Age[Age>30]\n",
        "print(Filter_Age)"
      ],
      "execution_count": 7,
      "outputs": [
        {
          "output_type": "stream",
          "text": [
            "Age4    40\n",
            "Age5    50\n",
            "dtype: int64\n"
          ],
          "name": "stdout"
        }
      ]
    },
    {
      "cell_type": "markdown",
      "metadata": {
        "id": "Youxx5qsNQyE"
      },
      "source": [
        "Change the indexes"
      ]
    },
    {
      "cell_type": "code",
      "metadata": {
        "colab": {
          "base_uri": "https://localhost:8080/"
        },
        "id": "ryJHv4L6McMp",
        "outputId": "7841379c-1767-40ea-8c52-a405a9f777ba"
      },
      "source": [
        "Age.index=['A1','A2', 'A3', 'A4', 'A5']\n",
        "print(Age)"
      ],
      "execution_count": 8,
      "outputs": [
        {
          "output_type": "stream",
          "text": [
            "A1    10\n",
            "A2    20\n",
            "A3    30\n",
            "A4    40\n",
            "A5    50\n",
            "dtype: int64\n"
          ],
          "name": "stdout"
        }
      ]
    },
    {
      "cell_type": "markdown",
      "metadata": {
        "id": "odKdqMKGNmVW"
      },
      "source": [
        "**DataFrames**"
      ]
    },
    {
      "cell_type": "code",
      "metadata": {
        "colab": {
          "base_uri": "https://localhost:8080/"
        },
        "id": "Pus3ci9mNf16",
        "outputId": "9859d95a-a67c-4344-a06e-8f752b12ba41"
      },
      "source": [
        "import numpy as np\n",
        "Df=np.array([[40,48,36,42,27],[29,35,25,46,45],[33,41,16,47,22],[32,19,39,42,45]])\n",
        "print(Df)"
      ],
      "execution_count": 9,
      "outputs": [
        {
          "output_type": "stream",
          "text": [
            "[[40 48 36 42 27]\n",
            " [29 35 25 46 45]\n",
            " [33 41 16 47 22]\n",
            " [32 19 39 42 45]]\n"
          ],
          "name": "stdout"
        }
      ]
    },
    {
      "cell_type": "code",
      "metadata": {
        "colab": {
          "base_uri": "https://localhost:8080/"
        },
        "id": "4idDemTAOfBi",
        "outputId": "924ab411-4ea4-43b5-eb23-21f3f5bdf74e"
      },
      "source": [
        "Data_Set=pd.DataFrame(Df)\n",
        "print(Data_Set)"
      ],
      "execution_count": 10,
      "outputs": [
        {
          "output_type": "stream",
          "text": [
            "    0   1   2   3   4\n",
            "0  40  48  36  42  27\n",
            "1  29  35  25  46  45\n",
            "2  33  41  16  47  22\n",
            "3  32  19  39  42  45\n"
          ],
          "name": "stdout"
        }
      ]
    },
    {
      "cell_type": "code",
      "metadata": {
        "colab": {
          "base_uri": "https://localhost:8080/"
        },
        "id": "z-wU6HWrSxXS",
        "outputId": "25102a1e-a0f4-4631-cfe4-2b38f9950929"
      },
      "source": [
        "Data_Set=pd.DataFrame(Df,index=['S1','S2','S3','S4'],columns=['Physics','Chemistry','Maths','English','Hindi'])\n",
        "print(Data_Set)"
      ],
      "execution_count": 11,
      "outputs": [
        {
          "output_type": "stream",
          "text": [
            "    Physics  Chemistry  Maths  English  Hindi\n",
            "S1       40         48     36       42     27\n",
            "S2       29         35     25       46     45\n",
            "S3       33         41     16       47     22\n",
            "S4       32         19     39       42     45\n"
          ],
          "name": "stdout"
        }
      ]
    },
    {
      "cell_type": "code",
      "metadata": {
        "colab": {
          "base_uri": "https://localhost:8080/"
        },
        "id": "FL4eFhHaTFB3",
        "outputId": "1a995756-04da-46d2-ce2a-aaaa4ea4c1bb"
      },
      "source": [
        "Data_Set['Bio']=[28,27,39,40]\n",
        "print(Data_Set)"
      ],
      "execution_count": 12,
      "outputs": [
        {
          "output_type": "stream",
          "text": [
            "    Physics  Chemistry  Maths  English  Hindi  Bio\n",
            "S1       40         48     36       42     27   28\n",
            "S2       29         35     25       46     45   27\n",
            "S3       33         41     16       47     22   39\n",
            "S4       32         19     39       42     45   40\n"
          ],
          "name": "stdout"
        }
      ]
    },
    {
      "cell_type": "code",
      "metadata": {
        "id": "bVQf-Vl1d1u7",
        "outputId": "7d29bee5-fd3b-4377-9b66-d202fd033aef",
        "colab": {
          "base_uri": "https://localhost:8080/"
        }
      },
      "source": [
        "Row_A=Data_Set.loc['S1']\n",
        "print(Row_A)"
      ],
      "execution_count": 13,
      "outputs": [
        {
          "output_type": "stream",
          "text": [
            "Physics      40\n",
            "Chemistry    48\n",
            "Maths        36\n",
            "English      42\n",
            "Hindi        27\n",
            "Bio          28\n",
            "Name: S1, dtype: int64\n"
          ],
          "name": "stdout"
        }
      ]
    },
    {
      "cell_type": "code",
      "metadata": {
        "id": "jPO4AIWiFcdp",
        "outputId": "ad13df8e-9c58-4e5d-c58e-79970a2a19c3",
        "colab": {
          "base_uri": "https://localhost:8080/"
        }
      },
      "source": [
        "S4=Data_Set.loc['S4']['Bio']\n",
        "print(S4)"
      ],
      "execution_count": 15,
      "outputs": [
        {
          "output_type": "stream",
          "text": [
            "40\n"
          ],
          "name": "stdout"
        }
      ]
    },
    {
      "cell_type": "markdown",
      "metadata": {
        "id": "OtcddJQPHGWD"
      },
      "source": [
        "Now we are using iloc to get specific details because in loc function we can only use alphabets or index names not the indexes."
      ]
    },
    {
      "cell_type": "code",
      "metadata": {
        "id": "gavkGkfgG849",
        "outputId": "c7007281-39d4-4a75-f83a-e5ec5b312228",
        "colab": {
          "base_uri": "https://localhost:8080/"
        }
      },
      "source": [
        "individualS3=Data_Set.iloc[2][3]\n",
        "print(individualS3)"
      ],
      "execution_count": 16,
      "outputs": [
        {
          "output_type": "stream",
          "text": [
            "47\n"
          ],
          "name": "stdout"
        }
      ]
    },
    {
      "cell_type": "code",
      "metadata": {
        "id": "n6WqA6YSHdn2",
        "outputId": "9b01a6b7-db2a-46bf-8e4d-e06121fac2a9",
        "colab": {
          "base_uri": "https://localhost:8080/"
        }
      },
      "source": [
        "All_Rows=Data_Set.iloc[:,2]\n",
        "print(All_Rows)"
      ],
      "execution_count": 17,
      "outputs": [
        {
          "output_type": "stream",
          "text": [
            "S1    36\n",
            "S2    25\n",
            "S3    16\n",
            "S4    39\n",
            "Name: Maths, dtype: int64\n"
          ],
          "name": "stdout"
        }
      ]
    },
    {
      "cell_type": "code",
      "metadata": {
        "id": "DaxILQ0IIMRN",
        "outputId": "5ac8c383-c7db-44fb-c05d-6ccd2f81143a",
        "colab": {
          "base_uri": "https://localhost:8080/"
        }
      },
      "source": [
        "Filtered_Columns=Data_Set.iloc[:,1:3]\n",
        "print(Filtered_Columns)"
      ],
      "execution_count": 18,
      "outputs": [
        {
          "output_type": "stream",
          "text": [
            "    Chemistry  Maths\n",
            "S1         48     36\n",
            "S2         35     25\n",
            "S3         41     16\n",
            "S4         19     39\n"
          ],
          "name": "stdout"
        }
      ]
    },
    {
      "cell_type": "markdown",
      "metadata": {
        "id": "0u8L61CkJdN6"
      },
      "source": [
        "Removing the Column or Rows (Drop Function)"
      ]
    },
    {
      "cell_type": "code",
      "metadata": {
        "id": "jOu4rMYZI819",
        "outputId": "8cd52a26-36b2-4654-f5e4-24785506d962",
        "colab": {
          "base_uri": "https://localhost:8080/"
        }
      },
      "source": [
        "Re_move=Data_Set.drop('Hindi',axis=1)\n",
        "print(Re_move)"
      ],
      "execution_count": 19,
      "outputs": [
        {
          "output_type": "stream",
          "text": [
            "    Physics  Chemistry  Maths  English  Bio\n",
            "S1       40         48     36       42   28\n",
            "S2       29         35     25       46   27\n",
            "S3       33         41     16       47   39\n",
            "S4       32         19     39       42   40\n"
          ],
          "name": "stdout"
        }
      ]
    },
    {
      "cell_type": "code",
      "metadata": {
        "id": "wHofjTVtJ-8v",
        "outputId": "c82af36c-dcbe-4137-cca3-db34c41f8ab9",
        "colab": {
          "base_uri": "https://localhost:8080/"
        }
      },
      "source": [
        "print(Data_Set)"
      ],
      "execution_count": 21,
      "outputs": [
        {
          "output_type": "stream",
          "text": [
            "    Physics  Chemistry  Maths  English  Hindi  Bio\n",
            "S1       40         48     36       42     27   28\n",
            "S2       29         35     25       46     45   27\n",
            "S3       33         41     16       47     22   39\n",
            "S4       32         19     39       42     45   40\n"
          ],
          "name": "stdout"
        }
      ]
    },
    {
      "cell_type": "markdown",
      "metadata": {
        "id": "oACtPVb_K756"
      },
      "source": [
        "If you want to change the real data set you have to use all these function under data set.\n",
        "Example = Data_Set=Data_Set.functionname()"
      ]
    },
    {
      "cell_type": "code",
      "metadata": {
        "id": "uCX-zAROKMVb",
        "outputId": "27ba2738-d66e-4aeb-a4d9-ecdfbeb7789a",
        "colab": {
          "base_uri": "https://localhost:8080/"
        }
      },
      "source": [
        "Re_place=Data_Set.replace(16,35)\n",
        "print(Re_place)"
      ],
      "execution_count": 22,
      "outputs": [
        {
          "output_type": "stream",
          "text": [
            "    Physics  Chemistry  Maths  English  Hindi  Bio\n",
            "S1       40         48     36       42     27   28\n",
            "S2       29         35     25       46     45   27\n",
            "S3       33         41     35       47     22   39\n",
            "S4       32         19     39       42     45   40\n"
          ],
          "name": "stdout"
        }
      ]
    },
    {
      "cell_type": "markdown",
      "metadata": {
        "id": "WQV9jUhILlnM"
      },
      "source": [
        "Now change the multiple value"
      ]
    },
    {
      "cell_type": "code",
      "metadata": {
        "id": "BhXEFmS5Lc1Z",
        "outputId": "088661cd-a205-486d-b02f-e0bfd4aacea8",
        "colab": {
          "base_uri": "https://localhost:8080/"
        }
      },
      "source": [
        "Multi_Value=Data_Set.replace({27:32,35:42})\n",
        "print(Multi_Value)"
      ],
      "execution_count": 23,
      "outputs": [
        {
          "output_type": "stream",
          "text": [
            "    Physics  Chemistry  Maths  English  Hindi  Bio\n",
            "S1       40         48     36       42     32   28\n",
            "S2       29         42     25       46     45   32\n",
            "S3       33         41     16       47     22   39\n",
            "S4       32         19     39       42     45   40\n"
          ],
          "name": "stdout"
        }
      ]
    },
    {
      "cell_type": "markdown",
      "metadata": {
        "id": "RPNaVaPqM4Ut"
      },
      "source": [
        "If we have large data then we use head and tail"
      ]
    },
    {
      "cell_type": "code",
      "metadata": {
        "id": "ZjQ622qlMa7f",
        "outputId": "0fcc06c9-db0e-4e74-f117-23b57aa2e635",
        "colab": {
          "base_uri": "https://localhost:8080/",
          "height": 172
        }
      },
      "source": [
        "Data_Set.head()"
      ],
      "execution_count": 26,
      "outputs": [
        {
          "output_type": "execute_result",
          "data": {
            "text/html": [
              "<div>\n",
              "<style scoped>\n",
              "    .dataframe tbody tr th:only-of-type {\n",
              "        vertical-align: middle;\n",
              "    }\n",
              "\n",
              "    .dataframe tbody tr th {\n",
              "        vertical-align: top;\n",
              "    }\n",
              "\n",
              "    .dataframe thead th {\n",
              "        text-align: right;\n",
              "    }\n",
              "</style>\n",
              "<table border=\"1\" class=\"dataframe\">\n",
              "  <thead>\n",
              "    <tr style=\"text-align: right;\">\n",
              "      <th></th>\n",
              "      <th>Physics</th>\n",
              "      <th>Chemistry</th>\n",
              "      <th>Maths</th>\n",
              "      <th>English</th>\n",
              "      <th>Hindi</th>\n",
              "      <th>Bio</th>\n",
              "    </tr>\n",
              "  </thead>\n",
              "  <tbody>\n",
              "    <tr>\n",
              "      <th>S1</th>\n",
              "      <td>40</td>\n",
              "      <td>48</td>\n",
              "      <td>36</td>\n",
              "      <td>42</td>\n",
              "      <td>27</td>\n",
              "      <td>28</td>\n",
              "    </tr>\n",
              "    <tr>\n",
              "      <th>S2</th>\n",
              "      <td>29</td>\n",
              "      <td>35</td>\n",
              "      <td>25</td>\n",
              "      <td>46</td>\n",
              "      <td>45</td>\n",
              "      <td>27</td>\n",
              "    </tr>\n",
              "    <tr>\n",
              "      <th>S3</th>\n",
              "      <td>33</td>\n",
              "      <td>41</td>\n",
              "      <td>16</td>\n",
              "      <td>47</td>\n",
              "      <td>22</td>\n",
              "      <td>39</td>\n",
              "    </tr>\n",
              "    <tr>\n",
              "      <th>S4</th>\n",
              "      <td>32</td>\n",
              "      <td>19</td>\n",
              "      <td>39</td>\n",
              "      <td>42</td>\n",
              "      <td>45</td>\n",
              "      <td>40</td>\n",
              "    </tr>\n",
              "  </tbody>\n",
              "</table>\n",
              "</div>"
            ],
            "text/plain": [
              "    Physics  Chemistry  Maths  English  Hindi  Bio\n",
              "S1       40         48     36       42     27   28\n",
              "S2       29         35     25       46     45   27\n",
              "S3       33         41     16       47     22   39\n",
              "S4       32         19     39       42     45   40"
            ]
          },
          "metadata": {
            "tags": []
          },
          "execution_count": 26
        }
      ]
    },
    {
      "cell_type": "code",
      "metadata": {
        "id": "AKH4KoNuND0h",
        "outputId": "c765f4a7-cd68-4c2d-b76b-29239eb7a71a",
        "colab": {
          "base_uri": "https://localhost:8080/",
          "height": 110
        }
      },
      "source": [
        "Data_Set.head(2)"
      ],
      "execution_count": 27,
      "outputs": [
        {
          "output_type": "execute_result",
          "data": {
            "text/html": [
              "<div>\n",
              "<style scoped>\n",
              "    .dataframe tbody tr th:only-of-type {\n",
              "        vertical-align: middle;\n",
              "    }\n",
              "\n",
              "    .dataframe tbody tr th {\n",
              "        vertical-align: top;\n",
              "    }\n",
              "\n",
              "    .dataframe thead th {\n",
              "        text-align: right;\n",
              "    }\n",
              "</style>\n",
              "<table border=\"1\" class=\"dataframe\">\n",
              "  <thead>\n",
              "    <tr style=\"text-align: right;\">\n",
              "      <th></th>\n",
              "      <th>Physics</th>\n",
              "      <th>Chemistry</th>\n",
              "      <th>Maths</th>\n",
              "      <th>English</th>\n",
              "      <th>Hindi</th>\n",
              "      <th>Bio</th>\n",
              "    </tr>\n",
              "  </thead>\n",
              "  <tbody>\n",
              "    <tr>\n",
              "      <th>S1</th>\n",
              "      <td>40</td>\n",
              "      <td>48</td>\n",
              "      <td>36</td>\n",
              "      <td>42</td>\n",
              "      <td>27</td>\n",
              "      <td>28</td>\n",
              "    </tr>\n",
              "    <tr>\n",
              "      <th>S2</th>\n",
              "      <td>29</td>\n",
              "      <td>35</td>\n",
              "      <td>25</td>\n",
              "      <td>46</td>\n",
              "      <td>45</td>\n",
              "      <td>27</td>\n",
              "    </tr>\n",
              "  </tbody>\n",
              "</table>\n",
              "</div>"
            ],
            "text/plain": [
              "    Physics  Chemistry  Maths  English  Hindi  Bio\n",
              "S1       40         48     36       42     27   28\n",
              "S2       29         35     25       46     45   27"
            ]
          },
          "metadata": {
            "tags": []
          },
          "execution_count": 27
        }
      ]
    },
    {
      "cell_type": "code",
      "metadata": {
        "id": "hoihg4OzNLHk",
        "outputId": "e4f108a1-1ea4-4af6-b248-a4fcf84d3c54",
        "colab": {
          "base_uri": "https://localhost:8080/",
          "height": 110
        }
      },
      "source": [
        "Data_Set.tail(2)"
      ],
      "execution_count": 29,
      "outputs": [
        {
          "output_type": "execute_result",
          "data": {
            "text/html": [
              "<div>\n",
              "<style scoped>\n",
              "    .dataframe tbody tr th:only-of-type {\n",
              "        vertical-align: middle;\n",
              "    }\n",
              "\n",
              "    .dataframe tbody tr th {\n",
              "        vertical-align: top;\n",
              "    }\n",
              "\n",
              "    .dataframe thead th {\n",
              "        text-align: right;\n",
              "    }\n",
              "</style>\n",
              "<table border=\"1\" class=\"dataframe\">\n",
              "  <thead>\n",
              "    <tr style=\"text-align: right;\">\n",
              "      <th></th>\n",
              "      <th>Physics</th>\n",
              "      <th>Chemistry</th>\n",
              "      <th>Maths</th>\n",
              "      <th>English</th>\n",
              "      <th>Hindi</th>\n",
              "      <th>Bio</th>\n",
              "    </tr>\n",
              "  </thead>\n",
              "  <tbody>\n",
              "    <tr>\n",
              "      <th>S3</th>\n",
              "      <td>33</td>\n",
              "      <td>41</td>\n",
              "      <td>16</td>\n",
              "      <td>47</td>\n",
              "      <td>22</td>\n",
              "      <td>39</td>\n",
              "    </tr>\n",
              "    <tr>\n",
              "      <th>S4</th>\n",
              "      <td>32</td>\n",
              "      <td>19</td>\n",
              "      <td>39</td>\n",
              "      <td>42</td>\n",
              "      <td>45</td>\n",
              "      <td>40</td>\n",
              "    </tr>\n",
              "  </tbody>\n",
              "</table>\n",
              "</div>"
            ],
            "text/plain": [
              "    Physics  Chemistry  Maths  English  Hindi  Bio\n",
              "S3       33         41     16       47     22   39\n",
              "S4       32         19     39       42     45   40"
            ]
          },
          "metadata": {
            "tags": []
          },
          "execution_count": 29
        }
      ]
    },
    {
      "cell_type": "markdown",
      "metadata": {
        "id": "-GWBwccAN9Ts"
      },
      "source": [
        "Sorting the values in Rows and Columns"
      ]
    },
    {
      "cell_type": "code",
      "metadata": {
        "id": "hv8HP9WoNPAY",
        "outputId": "b47d0dab-a404-4e4a-cbf6-8675e59ab69c",
        "colab": {
          "base_uri": "https://localhost:8080/",
          "height": 172
        }
      },
      "source": [
        "Data_Set.sort_values('Maths',ascending=True)"
      ],
      "execution_count": 30,
      "outputs": [
        {
          "output_type": "execute_result",
          "data": {
            "text/html": [
              "<div>\n",
              "<style scoped>\n",
              "    .dataframe tbody tr th:only-of-type {\n",
              "        vertical-align: middle;\n",
              "    }\n",
              "\n",
              "    .dataframe tbody tr th {\n",
              "        vertical-align: top;\n",
              "    }\n",
              "\n",
              "    .dataframe thead th {\n",
              "        text-align: right;\n",
              "    }\n",
              "</style>\n",
              "<table border=\"1\" class=\"dataframe\">\n",
              "  <thead>\n",
              "    <tr style=\"text-align: right;\">\n",
              "      <th></th>\n",
              "      <th>Physics</th>\n",
              "      <th>Chemistry</th>\n",
              "      <th>Maths</th>\n",
              "      <th>English</th>\n",
              "      <th>Hindi</th>\n",
              "      <th>Bio</th>\n",
              "    </tr>\n",
              "  </thead>\n",
              "  <tbody>\n",
              "    <tr>\n",
              "      <th>S3</th>\n",
              "      <td>33</td>\n",
              "      <td>41</td>\n",
              "      <td>16</td>\n",
              "      <td>47</td>\n",
              "      <td>22</td>\n",
              "      <td>39</td>\n",
              "    </tr>\n",
              "    <tr>\n",
              "      <th>S2</th>\n",
              "      <td>29</td>\n",
              "      <td>35</td>\n",
              "      <td>25</td>\n",
              "      <td>46</td>\n",
              "      <td>45</td>\n",
              "      <td>27</td>\n",
              "    </tr>\n",
              "    <tr>\n",
              "      <th>S1</th>\n",
              "      <td>40</td>\n",
              "      <td>48</td>\n",
              "      <td>36</td>\n",
              "      <td>42</td>\n",
              "      <td>27</td>\n",
              "      <td>28</td>\n",
              "    </tr>\n",
              "    <tr>\n",
              "      <th>S4</th>\n",
              "      <td>32</td>\n",
              "      <td>19</td>\n",
              "      <td>39</td>\n",
              "      <td>42</td>\n",
              "      <td>45</td>\n",
              "      <td>40</td>\n",
              "    </tr>\n",
              "  </tbody>\n",
              "</table>\n",
              "</div>"
            ],
            "text/plain": [
              "    Physics  Chemistry  Maths  English  Hindi  Bio\n",
              "S3       33         41     16       47     22   39\n",
              "S2       29         35     25       46     45   27\n",
              "S1       40         48     36       42     27   28\n",
              "S4       32         19     39       42     45   40"
            ]
          },
          "metadata": {
            "tags": []
          },
          "execution_count": 30
        }
      ]
    },
    {
      "cell_type": "code",
      "metadata": {
        "id": "yDbU4cPYOL6P",
        "outputId": "8c530756-3dba-4544-ff92-d86111ede2f8",
        "colab": {
          "base_uri": "https://localhost:8080/",
          "height": 172
        }
      },
      "source": [
        "Data_Set.sort_index(axis=0,ascending=False)"
      ],
      "execution_count": 32,
      "outputs": [
        {
          "output_type": "execute_result",
          "data": {
            "text/html": [
              "<div>\n",
              "<style scoped>\n",
              "    .dataframe tbody tr th:only-of-type {\n",
              "        vertical-align: middle;\n",
              "    }\n",
              "\n",
              "    .dataframe tbody tr th {\n",
              "        vertical-align: top;\n",
              "    }\n",
              "\n",
              "    .dataframe thead th {\n",
              "        text-align: right;\n",
              "    }\n",
              "</style>\n",
              "<table border=\"1\" class=\"dataframe\">\n",
              "  <thead>\n",
              "    <tr style=\"text-align: right;\">\n",
              "      <th></th>\n",
              "      <th>Physics</th>\n",
              "      <th>Chemistry</th>\n",
              "      <th>Maths</th>\n",
              "      <th>English</th>\n",
              "      <th>Hindi</th>\n",
              "      <th>Bio</th>\n",
              "    </tr>\n",
              "  </thead>\n",
              "  <tbody>\n",
              "    <tr>\n",
              "      <th>S4</th>\n",
              "      <td>32</td>\n",
              "      <td>19</td>\n",
              "      <td>39</td>\n",
              "      <td>42</td>\n",
              "      <td>45</td>\n",
              "      <td>40</td>\n",
              "    </tr>\n",
              "    <tr>\n",
              "      <th>S3</th>\n",
              "      <td>33</td>\n",
              "      <td>41</td>\n",
              "      <td>16</td>\n",
              "      <td>47</td>\n",
              "      <td>22</td>\n",
              "      <td>39</td>\n",
              "    </tr>\n",
              "    <tr>\n",
              "      <th>S2</th>\n",
              "      <td>29</td>\n",
              "      <td>35</td>\n",
              "      <td>25</td>\n",
              "      <td>46</td>\n",
              "      <td>45</td>\n",
              "      <td>27</td>\n",
              "    </tr>\n",
              "    <tr>\n",
              "      <th>S1</th>\n",
              "      <td>40</td>\n",
              "      <td>48</td>\n",
              "      <td>36</td>\n",
              "      <td>42</td>\n",
              "      <td>27</td>\n",
              "      <td>28</td>\n",
              "    </tr>\n",
              "  </tbody>\n",
              "</table>\n",
              "</div>"
            ],
            "text/plain": [
              "    Physics  Chemistry  Maths  English  Hindi  Bio\n",
              "S4       32         19     39       42     45   40\n",
              "S3       33         41     16       47     22   39\n",
              "S2       29         35     25       46     45   27\n",
              "S1       40         48     36       42     27   28"
            ]
          },
          "metadata": {
            "tags": []
          },
          "execution_count": 32
        }
      ]
    },
    {
      "cell_type": "code",
      "metadata": {
        "id": "JMJftrpiOWnT"
      },
      "source": [
        ""
      ],
      "execution_count": null,
      "outputs": []
    }
  ]
}