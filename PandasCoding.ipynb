{
  "nbformat": 4,
  "nbformat_minor": 0,
  "metadata": {
    "colab": {
      "name": "PandasCoding.ipynb",
      "provenance": [],
      "authorship_tag": "ABX9TyMMr5mQactPOpfQs6F4Jpqg",
      "include_colab_link": true
    },
    "kernelspec": {
      "name": "python3",
      "display_name": "Python 3"
    },
    "language_info": {
      "name": "python"
    }
  },
  "cells": [
    {
      "cell_type": "markdown",
      "metadata": {
        "id": "view-in-github",
        "colab_type": "text"
      },
      "source": [
        "<a href=\"https://colab.research.google.com/github/Anuj-Main/DataScienceProgramming/blob/main/PandasCoding.ipynb\" target=\"_parent\"><img src=\"https://colab.research.google.com/assets/colab-badge.svg\" alt=\"Open In Colab\"/></a>"
      ]
    },
    {
      "cell_type": "markdown",
      "metadata": {
        "id": "pkcIXoAmR3Kr"
      },
      "source": [
        "# Pandas Coding"
      ]
    },
    {
      "cell_type": "code",
      "metadata": {
        "id": "MqEqDGTZIWnH"
      },
      "source": [
        "import pandas as pd"
      ],
      "execution_count": 34,
      "outputs": []
    },
    {
      "cell_type": "markdown",
      "metadata": {
        "id": "sQxlHoTZJYP4"
      },
      "source": [
        "**Series**"
      ]
    },
    {
      "cell_type": "code",
      "metadata": {
        "colab": {
          "base_uri": "https://localhost:8080/"
        },
        "id": "Ju7gMAxjJRBU",
        "outputId": "b6d41757-f358-49d2-c460-93dcfb7de208"
      },
      "source": [
        "AGE = pd.Series([10, 20, 30, 40, 50], index=['Age1', 'Age2', 'Age3', 'Age4', 'Age5'])\n",
        "print(Age)"
      ],
      "execution_count": 35,
      "outputs": [
        {
          "output_type": "stream",
          "text": [
            "A1    10\n",
            "A2    20\n",
            "A3    30\n",
            "A4    40\n",
            "A5    50\n",
            "dtype: int64\n"
          ],
          "name": "stdout"
        }
      ]
    },
    {
      "cell_type": "code",
      "metadata": {
        "colab": {
          "base_uri": "https://localhost:8080/"
        },
        "id": "fDov-w_ZJjXd",
        "outputId": "ca6b6c1b-d220-48e9-e5c2-b3beb02a4e88"
      },
      "source": [
        "Age_call=AGE.Age5\n",
        "print(Age_call)"
      ],
      "execution_count": 36,
      "outputs": [
        {
          "output_type": "stream",
          "text": [
            "50\n"
          ],
          "name": "stdout"
        }
      ]
    },
    {
      "cell_type": "code",
      "metadata": {
        "colab": {
          "base_uri": "https://localhost:8080/"
        },
        "id": "YcG-FaSMLnsV",
        "outputId": "68d25889-fee9-4985-e61a-69183f96e1a9"
      },
      "source": [
        "Filter_Age=Age[Age>30]\n",
        "print(Filter_Age)"
      ],
      "execution_count": 37,
      "outputs": [
        {
          "output_type": "stream",
          "text": [
            "A4    40\n",
            "A5    50\n",
            "dtype: int64\n"
          ],
          "name": "stdout"
        }
      ]
    },
    {
      "cell_type": "markdown",
      "metadata": {
        "id": "Youxx5qsNQyE"
      },
      "source": [
        "Change the indexes"
      ]
    },
    {
      "cell_type": "code",
      "metadata": {
        "colab": {
          "base_uri": "https://localhost:8080/"
        },
        "id": "ryJHv4L6McMp",
        "outputId": "9708e028-342c-4290-e712-8f08d11568a6"
      },
      "source": [
        "Age.index=['A1','A2', 'A3', 'A4', 'A5']\n",
        "print(Age)"
      ],
      "execution_count": 38,
      "outputs": [
        {
          "output_type": "stream",
          "text": [
            "A1    10\n",
            "A2    20\n",
            "A3    30\n",
            "A4    40\n",
            "A5    50\n",
            "dtype: int64\n"
          ],
          "name": "stdout"
        }
      ]
    },
    {
      "cell_type": "markdown",
      "metadata": {
        "id": "odKdqMKGNmVW"
      },
      "source": [
        "**DataFrames**"
      ]
    },
    {
      "cell_type": "code",
      "metadata": {
        "colab": {
          "base_uri": "https://localhost:8080/"
        },
        "id": "Pus3ci9mNf16",
        "outputId": "ee2b3f52-e615-4e86-fef0-4e10383b7003"
      },
      "source": [
        "import numpy as np\n",
        "Df=np.array([[40,48,36,42,27],[29,35,25,46,45],[33,41,16,47,22],[32,19,39,42,45]])\n",
        "print(Df)"
      ],
      "execution_count": 39,
      "outputs": [
        {
          "output_type": "stream",
          "text": [
            "[[40 48 36 42 27]\n",
            " [29 35 25 46 45]\n",
            " [33 41 16 47 22]\n",
            " [32 19 39 42 45]]\n"
          ],
          "name": "stdout"
        }
      ]
    },
    {
      "cell_type": "code",
      "metadata": {
        "colab": {
          "base_uri": "https://localhost:8080/"
        },
        "id": "4idDemTAOfBi",
        "outputId": "c423a07e-e518-4294-9cf0-7740abd1422a"
      },
      "source": [
        "Data_Set=pd.DataFrame(Df)\n",
        "print(Data_Set)"
      ],
      "execution_count": 44,
      "outputs": [
        {
          "output_type": "stream",
          "text": [
            "    0   1   2   3   4\n",
            "0  40  48  36  42  27\n",
            "1  29  35  25  46  45\n",
            "2  33  41  16  47  22\n",
            "3  32  19  39  42  45\n"
          ],
          "name": "stdout"
        }
      ]
    },
    {
      "cell_type": "code",
      "metadata": {
        "colab": {
          "base_uri": "https://localhost:8080/"
        },
        "id": "z-wU6HWrSxXS",
        "outputId": "6ab428ec-5683-4079-c383-8c920f6402c1"
      },
      "source": [
        "Data_Set=pd.DataFrame(Df,index=['S1','S2','S3','S4'],columns=['Physics','Chemistry','Maths','English','Hindi'])\n",
        "print(Data_Set)"
      ],
      "execution_count": 47,
      "outputs": [
        {
          "output_type": "stream",
          "text": [
            "    Physics  Chemistry  Maths  English  Hindi\n",
            "S1       40         48     36       42     27\n",
            "S2       29         35     25       46     45\n",
            "S3       33         41     16       47     22\n",
            "S4       32         19     39       42     45\n"
          ],
          "name": "stdout"
        }
      ]
    },
    {
      "cell_type": "code",
      "metadata": {
        "colab": {
          "base_uri": "https://localhost:8080/"
        },
        "id": "FL4eFhHaTFB3",
        "outputId": "8de3df68-e2e1-46e9-e882-5d3b73a5944f"
      },
      "source": [
        "Data_Set['Bio']=[28,27,39,40]\n",
        "print(Data_Set)"
      ],
      "execution_count": 48,
      "outputs": [
        {
          "output_type": "stream",
          "text": [
            "    Physics  Chemistry  Maths  English  Hindi  Bio\n",
            "S1       40         48     36       42     27   28\n",
            "S2       29         35     25       46     45   27\n",
            "S3       33         41     16       47     22   39\n",
            "S4       32         19     39       42     45   40\n"
          ],
          "name": "stdout"
        }
      ]
    },
    {
      "cell_type": "code",
      "metadata": {
        "id": "bVQf-Vl1d1u7"
      },
      "source": [
        ""
      ],
      "execution_count": null,
      "outputs": []
    }
  ]
}