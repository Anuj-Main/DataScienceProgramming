{
  "nbformat": 4,
  "nbformat_minor": 0,
  "metadata": {
    "colab": {
      "name": "NumPyCoding.ipynb",
      "provenance": [],
      "collapsed_sections": [],
      "authorship_tag": "ABX9TyOzrSQwl2kWB5xAx+3eFoQi",
      "include_colab_link": true
    },
    "kernelspec": {
      "name": "python3",
      "display_name": "Python 3"
    },
    "language_info": {
      "name": "python"
    }
  },
  "cells": [
    {
      "cell_type": "markdown",
      "metadata": {
        "id": "view-in-github",
        "colab_type": "text"
      },
      "source": [
        "<a href=\"https://colab.research.google.com/github/Anuj-Main/DataScienceProgramming/blob/main/NumPyCoding.ipynb\" target=\"_parent\"><img src=\"https://colab.research.google.com/assets/colab-badge.svg\" alt=\"Open In Colab\"/></a>"
      ]
    },
    {
      "cell_type": "markdown",
      "metadata": {
        "id": "UPGRtZ_BRIvZ"
      },
      "source": [
        "# NumPy Coding\n"
      ]
    },
    {
      "cell_type": "code",
      "metadata": {
        "colab": {
          "base_uri": "https://localhost:8080/"
        },
        "id": "RcYN0wj5RJ5m",
        "outputId": "3b21ddb3-2661-4ae2-f8cd-6abee29ba182"
      },
      "source": [
        "import numpy as np\n",
        "Numpy_Array=np.array([[1,2,3],[4,5,6]])\n",
        "print(Numpy_Array)"
      ],
      "execution_count": 136,
      "outputs": [
        {
          "output_type": "stream",
          "text": [
            "[[1 2 3]\n",
            " [4 5 6]]\n"
          ],
          "name": "stdout"
        }
      ]
    },
    {
      "cell_type": "markdown",
      "metadata": {
        "id": "60M0Hv7qI6yy"
      },
      "source": [
        "**Simple Mathematics**"
      ]
    },
    {
      "cell_type": "code",
      "metadata": {
        "colab": {
          "base_uri": "https://localhost:8080/"
        },
        "id": "1ztw3lDtROOL",
        "outputId": "28900b25-6bc4-47ed-aa5b-9c63e9218d9f"
      },
      "source": [
        "NP1=np.array([[1,3],[4,5]])\n",
        "NP2=np.array([[3,4],[5,7]])\n",
        "MNP=NP1@NP2\n",
        "print(MNP)"
      ],
      "execution_count": 137,
      "outputs": [
        {
          "output_type": "stream",
          "text": [
            "[[18 25]\n",
            " [37 51]]\n"
          ],
          "name": "stdout"
        }
      ]
    },
    {
      "cell_type": "code",
      "metadata": {
        "colab": {
          "base_uri": "https://localhost:8080/"
        },
        "id": "Ry-CfLywUEG1",
        "outputId": "c96fd966-2309-4c9a-dfc6-d393e44c7e5b"
      },
      "source": [
        "MNP2=NP1*NP2\n",
        "print(MNP2)"
      ],
      "execution_count": 138,
      "outputs": [
        {
          "output_type": "stream",
          "text": [
            "[[ 3 12]\n",
            " [20 35]]\n"
          ],
          "name": "stdout"
        }
      ]
    },
    {
      "cell_type": "code",
      "metadata": {
        "colab": {
          "base_uri": "https://localhost:8080/"
        },
        "id": "Sdfiz8KxUi2v",
        "outputId": "95999066-961b-44b4-d7e6-663f8f396f82"
      },
      "source": [
        "MNP3=np.dot(NP1,NP2)\n",
        "print(MNP3)"
      ],
      "execution_count": 139,
      "outputs": [
        {
          "output_type": "stream",
          "text": [
            "[[18 25]\n",
            " [37 51]]\n"
          ],
          "name": "stdout"
        }
      ]
    },
    {
      "cell_type": "code",
      "metadata": {
        "colab": {
          "base_uri": "https://localhost:8080/"
        },
        "id": "mWrE-bGrU_cn",
        "outputId": "3072257a-7830-4606-e97d-e8dbcacbb689"
      },
      "source": [
        "MNP4=np.multiply(NP1,NP2)\n",
        "print(MNP4)"
      ],
      "execution_count": 140,
      "outputs": [
        {
          "output_type": "stream",
          "text": [
            "[[ 3 12]\n",
            " [20 35]]\n"
          ],
          "name": "stdout"
        }
      ]
    },
    {
      "cell_type": "code",
      "metadata": {
        "colab": {
          "base_uri": "https://localhost:8080/"
        },
        "id": "-iAOKHqaVZhg",
        "outputId": "2b2552d6-bd5e-49cf-8b00-cbff40466f67"
      },
      "source": [
        "sum=NP1+NP2\n",
        "print(sum)"
      ],
      "execution_count": 141,
      "outputs": [
        {
          "output_type": "stream",
          "text": [
            "[[ 4  7]\n",
            " [ 9 12]]\n"
          ],
          "name": "stdout"
        }
      ]
    },
    {
      "cell_type": "code",
      "metadata": {
        "colab": {
          "base_uri": "https://localhost:8080/"
        },
        "id": "1p7AGya2bqPH",
        "outputId": "f1240ce8-5d55-4711-ee06-8e499167bcf0"
      },
      "source": [
        "sub=NP1-NP2\n",
        "print(sub)"
      ],
      "execution_count": 142,
      "outputs": [
        {
          "output_type": "stream",
          "text": [
            "[[-2 -1]\n",
            " [-1 -2]]\n"
          ],
          "name": "stdout"
        }
      ]
    },
    {
      "cell_type": "code",
      "metadata": {
        "colab": {
          "base_uri": "https://localhost:8080/"
        },
        "id": "0UnrSs14b43Z",
        "outputId": "bffae89b-ca4b-48c1-e59a-9558c66989e6"
      },
      "source": [
        "sub1=np.subtract(NP1,NP2)\n",
        "print(sub1)"
      ],
      "execution_count": 143,
      "outputs": [
        {
          "output_type": "stream",
          "text": [
            "[[-2 -1]\n",
            " [-1 -2]]\n"
          ],
          "name": "stdout"
        }
      ]
    },
    {
      "cell_type": "code",
      "metadata": {
        "colab": {
          "base_uri": "https://localhost:8080/"
        },
        "id": "PJG9PBEzcMLv",
        "outputId": "791fcd95-b81e-46d6-f08e-6fca1597e0fa"
      },
      "source": [
        "sum1=np.sum(NP1)\n",
        "print(sum1)"
      ],
      "execution_count": 144,
      "outputs": [
        {
          "output_type": "stream",
          "text": [
            "13\n"
          ],
          "name": "stdout"
        }
      ]
    },
    {
      "cell_type": "code",
      "metadata": {
        "colab": {
          "base_uri": "https://localhost:8080/"
        },
        "id": "Jz7hj9DKcXB9",
        "outputId": "fbf07ff0-2867-40da-ad9c-908902468e20"
      },
      "source": [
        "add_array=NP1+3\n",
        "print(add_array)"
      ],
      "execution_count": 145,
      "outputs": [
        {
          "output_type": "stream",
          "text": [
            "[[4 6]\n",
            " [7 8]]\n"
          ],
          "name": "stdout"
        }
      ]
    },
    {
      "cell_type": "code",
      "metadata": {
        "colab": {
          "base_uri": "https://localhost:8080/"
        },
        "id": "NAh3XHGqdJ3M",
        "outputId": "33007951-2ccd-4290-a1eb-3cfa0c27a9d5"
      },
      "source": [
        "NP3=np.array([[3,4]])\n",
        "Add_Array=NP1+NP3\n",
        "print(Add_Array)"
      ],
      "execution_count": 146,
      "outputs": [
        {
          "output_type": "stream",
          "text": [
            "[[4 7]\n",
            " [7 9]]\n"
          ],
          "name": "stdout"
        }
      ]
    },
    {
      "cell_type": "code",
      "metadata": {
        "colab": {
          "base_uri": "https://localhost:8080/"
        },
        "id": "yHKtthWzdok2",
        "outputId": "33f9b36b-87be-4bb7-ea41-4b35f79eecd9"
      },
      "source": [
        "D=np.divide([12,14,16],5)\n",
        "print(D)"
      ],
      "execution_count": 147,
      "outputs": [
        {
          "output_type": "stream",
          "text": [
            "[2.4 2.8 3.2]\n"
          ],
          "name": "stdout"
        }
      ]
    },
    {
      "cell_type": "code",
      "metadata": {
        "colab": {
          "base_uri": "https://localhost:8080/"
        },
        "id": "Q1sd6mbtenpX",
        "outputId": "2d3eabf5-623a-40ef-c10c-db40ec8ba4d2"
      },
      "source": [
        "D=np.floor_divide([12,14,16],5)\n",
        "print(D)"
      ],
      "execution_count": 148,
      "outputs": [
        {
          "output_type": "stream",
          "text": [
            "[2 2 3]\n"
          ],
          "name": "stdout"
        }
      ]
    },
    {
      "cell_type": "code",
      "metadata": {
        "colab": {
          "base_uri": "https://localhost:8080/"
        },
        "id": "24SX3zjye7E-",
        "outputId": "a1f396ef-4f33-491f-c8ea-543d67a179a7"
      },
      "source": [
        "sq_root=np.math.sqrt(10)\n",
        "print(sq_root)"
      ],
      "execution_count": 149,
      "outputs": [
        {
          "output_type": "stream",
          "text": [
            "3.1622776601683795\n"
          ],
          "name": "stdout"
        }
      ]
    },
    {
      "cell_type": "markdown",
      "metadata": {
        "id": "W1bDWZ5PgYt_"
      },
      "source": [
        "**Normal and Uniform Distribution**"
      ]
    },
    {
      "cell_type": "code",
      "metadata": {
        "colab": {
          "base_uri": "https://localhost:8080/"
        },
        "id": "oeswMoGLfeZl",
        "outputId": "b642ee49-94f0-430a-d22c-c21858a2fe8d"
      },
      "source": [
        "Normal_Dist=np.random.standard_normal((3,4))\n",
        "print(Normal_Dist)"
      ],
      "execution_count": 150,
      "outputs": [
        {
          "output_type": "stream",
          "text": [
            "[[-1.70273266 -0.12896247  1.26617567 -0.78991636]\n",
            " [-0.92013154  0.54384006  0.26273968  0.89980273]\n",
            " [ 1.16922766  0.12455946  3.08370044  0.18605726]]\n"
          ],
          "name": "stdout"
        }
      ]
    },
    {
      "cell_type": "code",
      "metadata": {
        "colab": {
          "base_uri": "https://localhost:8080/"
        },
        "id": "SEq3r0IRgR0A",
        "outputId": "beeafdc6-6ab9-4c4c-f94e-046e2de85ea3"
      },
      "source": [
        "Uniform_Dist=np.random.uniform(1,12,(3,4))\n",
        "print(Uniform_Dist)"
      ],
      "execution_count": 151,
      "outputs": [
        {
          "output_type": "stream",
          "text": [
            "[[ 4.80933523 10.56379407  6.4194418   1.71304903]\n",
            " [10.13537069  4.09002079  2.41761241  6.28290906]\n",
            " [ 8.87700793  7.7042848   7.08167866  9.14604532]]\n"
          ],
          "name": "stdout"
        }
      ]
    },
    {
      "cell_type": "code",
      "metadata": {
        "colab": {
          "base_uri": "https://localhost:8080/"
        },
        "id": "qr6AnND8iDC9",
        "outputId": "fb235c29-c40a-44c4-f212-c5bf620e45cc"
      },
      "source": [
        "Random_intarray=np.random.randint(1,50,(2,5))\n",
        "print(Random_intarray)"
      ],
      "execution_count": 152,
      "outputs": [
        {
          "output_type": "stream",
          "text": [
            "[[44 17 32 47 29]\n",
            " [22 18 18 18 14]]\n"
          ],
          "name": "stdout"
        }
      ]
    },
    {
      "cell_type": "markdown",
      "metadata": {
        "id": "leQsANQnFLk3"
      },
      "source": [
        "**Generate Random Zeroes and Random Numbers**\n",
        "\n"
      ]
    },
    {
      "cell_type": "code",
      "metadata": {
        "id": "JiWbnwgEi7Wv",
        "colab": {
          "base_uri": "https://localhost:8080/"
        },
        "outputId": "daf7f384-30b6-4b5c-8f62-599f7b95055c"
      },
      "source": [
        "Random_Ze=np.zeros((3,4))\n",
        "print(Random_Ze)"
      ],
      "execution_count": 153,
      "outputs": [
        {
          "output_type": "stream",
          "text": [
            "[[0. 0. 0. 0.]\n",
            " [0. 0. 0. 0.]\n",
            " [0. 0. 0. 0.]]\n"
          ],
          "name": "stdout"
        }
      ]
    },
    {
      "cell_type": "code",
      "metadata": {
        "colab": {
          "base_uri": "https://localhost:8080/"
        },
        "id": "xIqFgAQOFvxC",
        "outputId": "080a44f5-3498-4a2b-a943-6bbbefd5a516"
      },
      "source": [
        "Random_1=np.ones((3,4))\n",
        "print(Random_1)"
      ],
      "execution_count": 154,
      "outputs": [
        {
          "output_type": "stream",
          "text": [
            "[[1. 1. 1. 1.]\n",
            " [1. 1. 1. 1.]\n",
            " [1. 1. 1. 1.]]\n"
          ],
          "name": "stdout"
        }
      ]
    },
    {
      "cell_type": "markdown",
      "metadata": {
        "id": "tY_izTkqGSQS"
      },
      "source": [
        "**Filter the Array**"
      ]
    },
    {
      "cell_type": "code",
      "metadata": {
        "colab": {
          "base_uri": "https://localhost:8080/"
        },
        "id": "Tk8lpNkGGE3Y",
        "outputId": "4a048a80-83e0-4608-9901-c86c9f104402"
      },
      "source": [
        "Filter_Array=np.logical_and(Random_intarray>30,Random_intarray<50)\n",
        "print(Filter_Array)"
      ],
      "execution_count": 155,
      "outputs": [
        {
          "output_type": "stream",
          "text": [
            "[[ True False  True  True False]\n",
            " [False False False False False]]\n"
          ],
          "name": "stdout"
        }
      ]
    },
    {
      "cell_type": "code",
      "metadata": {
        "colab": {
          "base_uri": "https://localhost:8080/"
        },
        "id": "iyT79MDRHIvM",
        "outputId": "32a3b8a8-9ba2-4b39-b8f7-f98ffcd5fbe2"
      },
      "source": [
        "Filter_Random_Array=Random_intarray[Filter_Array]\n",
        "print(Filter_Random_Array)"
      ],
      "execution_count": 156,
      "outputs": [
        {
          "output_type": "stream",
          "text": [
            "[44 32 47]\n"
          ],
          "name": "stdout"
        }
      ]
    },
    {
      "cell_type": "markdown",
      "metadata": {
        "id": "CyUTrrGNLZxb"
      },
      "source": [
        "**Statistical Part of NumPy**"
      ]
    },
    {
      "cell_type": "code",
      "metadata": {
        "colab": {
          "base_uri": "https://localhost:8080/"
        },
        "id": "yoIKr2y0H8zP",
        "outputId": "d8a5a8ea-7b47-43b9-8453-a7baea672470"
      },
      "source": [
        "Statistic_Data=np.array([1,2,3,4,5,6])\n",
        "print(Statistic_Data)"
      ],
      "execution_count": 157,
      "outputs": [
        {
          "output_type": "stream",
          "text": [
            "[1 2 3 4 5 6]\n"
          ],
          "name": "stdout"
        }
      ]
    },
    {
      "cell_type": "code",
      "metadata": {
        "id": "XUPmjJD7Mavb",
        "outputId": "6caeb1ee-50d8-4458-ee36-b9623df402c9",
        "colab": {
          "base_uri": "https://localhost:8080/"
        }
      },
      "source": [
        "Mean_Statistic_Data=np.mean(Statistic_Data)\n",
        "print(Mean_Statistic_Data)"
      ],
      "execution_count": 158,
      "outputs": [
        {
          "output_type": "stream",
          "text": [
            "3.5\n"
          ],
          "name": "stdout"
        }
      ]
    },
    {
      "cell_type": "code",
      "metadata": {
        "id": "L6OfbehxM0fv",
        "outputId": "7771aebe-2475-4570-d04b-6ffb9c87eb6e",
        "colab": {
          "base_uri": "https://localhost:8080/"
        }
      },
      "source": [
        "Median_Statistic_Data=np.median(Statistic_Data)\n",
        "print(Median_Statistic_Data)"
      ],
      "execution_count": 159,
      "outputs": [
        {
          "output_type": "stream",
          "text": [
            "3.5\n"
          ],
          "name": "stdout"
        }
      ]
    },
    {
      "cell_type": "code",
      "metadata": {
        "id": "-UIgdVmANb7L",
        "outputId": "36db58c0-508f-4eac-e4cb-9d2530f03da0",
        "colab": {
          "base_uri": "https://localhost:8080/"
        }
      },
      "source": [
        "Variance_Statistic_Data=np.var(Statistic_Data)\n",
        "print(Variance_Statistic_Data)"
      ],
      "execution_count": 160,
      "outputs": [
        {
          "output_type": "stream",
          "text": [
            "2.9166666666666665\n"
          ],
          "name": "stdout"
        }
      ]
    },
    {
      "cell_type": "code",
      "metadata": {
        "id": "HWefNaDvOKvE",
        "outputId": "286351ae-fc7a-4163-ed77-e23193779ed7",
        "colab": {
          "base_uri": "https://localhost:8080/"
        }
      },
      "source": [
        "SDeviation_Statistic_Data=np.std(Statistic_Data)\n",
        "print(SDeviation_Statistic_Data)"
      ],
      "execution_count": 161,
      "outputs": [
        {
          "output_type": "stream",
          "text": [
            "1.707825127659933\n"
          ],
          "name": "stdout"
        }
      ]
    },
    {
      "cell_type": "markdown",
      "metadata": {
        "id": "cMRMeGl8PK0E"
      },
      "source": [
        "**For More Column and Rows**"
      ]
    },
    {
      "cell_type": "code",
      "metadata": {
        "id": "CHbf3c22OYKL",
        "outputId": "cd5a442c-8a58-4a4f-8060-e58dd3fa1ea8",
        "colab": {
          "base_uri": "https://localhost:8080/"
        }
      },
      "source": [
        "Variance_Numpy_Array=np.var(Numpy_Array)\n",
        "print(Variance_Numpy_Array)"
      ],
      "execution_count": 162,
      "outputs": [
        {
          "output_type": "stream",
          "text": [
            "2.9166666666666665\n"
          ],
          "name": "stdout"
        }
      ]
    },
    {
      "cell_type": "code",
      "metadata": {
        "id": "u8tgB9-_PzDP",
        "outputId": "5b572ab2-7030-4a5e-8d3b-6a3e0c761595",
        "colab": {
          "base_uri": "https://localhost:8080/"
        }
      },
      "source": [
        "Variance_Numpy_Array=np.var(Numpy_Array,axis=1)\n",
        "print(Variance_Numpy_Array)"
      ],
      "execution_count": 163,
      "outputs": [
        {
          "output_type": "stream",
          "text": [
            "[0.66666667 0.66666667]\n"
          ],
          "name": "stdout"
        }
      ]
    },
    {
      "cell_type": "code",
      "metadata": {
        "id": "LOvDbh5aQqst",
        "outputId": "45305cda-b6d1-498e-cac3-da194d18dcb9",
        "colab": {
          "base_uri": "https://localhost:8080/"
        }
      },
      "source": [
        "Variance_Numpy_Array2=np.var(Numpy_Array,axis=0)\n",
        "print(Variance_Numpy_Array2)"
      ],
      "execution_count": 164,
      "outputs": [
        {
          "output_type": "stream",
          "text": [
            "[2.25 2.25 2.25]\n"
          ],
          "name": "stdout"
        }
      ]
    },
    {
      "cell_type": "markdown",
      "metadata": {
        "id": "E3Rdv8LHRG3P"
      },
      "source": [
        "#End of NumPy"
      ]
    }
  ]
}