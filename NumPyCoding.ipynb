{
  "nbformat": 4,
  "nbformat_minor": 0,
  "metadata": {
    "colab": {
      "name": "NumPyCoding.ipynb",
      "provenance": [],
      "collapsed_sections": [],
      "authorship_tag": "ABX9TyMG/7Q6lZRPfHnitbZehTDx",
      "include_colab_link": true
    },
    "kernelspec": {
      "name": "python3",
      "display_name": "Python 3"
    },
    "language_info": {
      "name": "python"
    }
  },
  "cells": [
    {
      "cell_type": "markdown",
      "metadata": {
        "id": "view-in-github",
        "colab_type": "text"
      },
      "source": [
        "<a href=\"https://colab.research.google.com/github/Anuj-Main/DataScienceProgramming/blob/main/NumPyCoding.ipynb\" target=\"_parent\"><img src=\"https://colab.research.google.com/assets/colab-badge.svg\" alt=\"Open In Colab\"/></a>"
      ]
    },
    {
      "cell_type": "markdown",
      "metadata": {
        "id": "UPGRtZ_BRIvZ"
      },
      "source": [
        "Numpy Coding\n"
      ]
    },
    {
      "cell_type": "code",
      "metadata": {
        "colab": {
          "base_uri": "https://localhost:8080/"
        },
        "id": "RcYN0wj5RJ5m",
        "outputId": "5824318d-7632-4bc2-c25b-5c0616d4b9ac"
      },
      "source": [
        "import numpy as np\n",
        "numpy_array=np.array([[1,2,3],[4,5,6]])\n",
        "print(numpy_array)"
      ],
      "execution_count": 3,
      "outputs": [
        {
          "output_type": "stream",
          "text": [
            "[[1 2 3]\n",
            " [4 5 6]]\n"
          ],
          "name": "stdout"
        }
      ]
    },
    {
      "cell_type": "code",
      "metadata": {
        "colab": {
          "base_uri": "https://localhost:8080/"
        },
        "id": "1ztw3lDtROOL",
        "outputId": "5d4e70fa-7712-485d-e2c7-3e80ece3e4ef"
      },
      "source": [
        "NP1=np.array([[1,3],[4,5]])\n",
        "NP2=np.array([[3,4],[5,7]])\n",
        "MNP=NP1@NP2\n",
        "print(MNP)"
      ],
      "execution_count": 4,
      "outputs": [
        {
          "output_type": "stream",
          "text": [
            "[[18 25]\n",
            " [37 51]]\n"
          ],
          "name": "stdout"
        }
      ]
    },
    {
      "cell_type": "code",
      "metadata": {
        "colab": {
          "base_uri": "https://localhost:8080/"
        },
        "id": "Ry-CfLywUEG1",
        "outputId": "5bccd1ae-9c7b-4833-8c23-d576c0923981"
      },
      "source": [
        "MNP2=NP1*NP2\n",
        "print(MNP2)"
      ],
      "execution_count": 5,
      "outputs": [
        {
          "output_type": "stream",
          "text": [
            "[[ 3 12]\n",
            " [20 35]]\n"
          ],
          "name": "stdout"
        }
      ]
    },
    {
      "cell_type": "code",
      "metadata": {
        "colab": {
          "base_uri": "https://localhost:8080/"
        },
        "id": "Sdfiz8KxUi2v",
        "outputId": "e900cbb2-2d38-4faf-8e2a-f1cd2ed83d56"
      },
      "source": [
        "MNP3=np.dot(NP1,NP2)\n",
        "print(MNP3)"
      ],
      "execution_count": 7,
      "outputs": [
        {
          "output_type": "stream",
          "text": [
            "[[18 25]\n",
            " [37 51]]\n"
          ],
          "name": "stdout"
        }
      ]
    },
    {
      "cell_type": "code",
      "metadata": {
        "colab": {
          "base_uri": "https://localhost:8080/"
        },
        "id": "mWrE-bGrU_cn",
        "outputId": "db0da25d-a092-4735-97cd-a4befccd0fcb"
      },
      "source": [
        "MNP4=np.multiply(NP1,NP2)\n",
        "print(MNP4)"
      ],
      "execution_count": 9,
      "outputs": [
        {
          "output_type": "stream",
          "text": [
            "[[ 3 12]\n",
            " [20 35]]\n"
          ],
          "name": "stdout"
        }
      ]
    },
    {
      "cell_type": "code",
      "metadata": {
        "id": "-iAOKHqaVZhg"
      },
      "source": [
        ""
      ],
      "execution_count": null,
      "outputs": []
    }
  ]
}