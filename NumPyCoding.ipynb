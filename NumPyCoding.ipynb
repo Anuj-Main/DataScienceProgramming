{
  "nbformat": 4,
  "nbformat_minor": 0,
  "metadata": {
    "colab": {
      "name": "NumPyCoding.ipynb",
      "provenance": [],
      "collapsed_sections": [],
      "authorship_tag": "ABX9TyNyURDOsBV1iANkd6qzFQE1",
      "include_colab_link": true
    },
    "kernelspec": {
      "name": "python3",
      "display_name": "Python 3"
    },
    "language_info": {
      "name": "python"
    }
  },
  "cells": [
    {
      "cell_type": "markdown",
      "metadata": {
        "id": "view-in-github",
        "colab_type": "text"
      },
      "source": [
        "<a href=\"https://colab.research.google.com/github/Anuj-Main/DataScienceProgramming/blob/main/NumPyCoding.ipynb\" target=\"_parent\"><img src=\"https://colab.research.google.com/assets/colab-badge.svg\" alt=\"Open In Colab\"/></a>"
      ]
    },
    {
      "cell_type": "markdown",
      "metadata": {
        "id": "UPGRtZ_BRIvZ"
      },
      "source": [
        " **NumPy Coding**\n"
      ]
    },
    {
      "cell_type": "code",
      "metadata": {
        "colab": {
          "base_uri": "https://localhost:8080/"
        },
        "id": "RcYN0wj5RJ5m",
        "outputId": "4c010c55-2566-4d98-8d80-3e0feb0af8c9"
      },
      "source": [
        "import numpy as np\n",
        "numpy_array=np.array([[1,2,3],[4,5,6]])\n",
        "print(numpy_array)"
      ],
      "execution_count": 22,
      "outputs": [
        {
          "output_type": "stream",
          "text": [
            "[[1 2 3]\n",
            " [4 5 6]]\n"
          ],
          "name": "stdout"
        }
      ]
    },
    {
      "cell_type": "code",
      "metadata": {
        "colab": {
          "base_uri": "https://localhost:8080/"
        },
        "id": "1ztw3lDtROOL",
        "outputId": "228686f0-8336-4414-e042-3c403cc5e291"
      },
      "source": [
        "NP1=np.array([[1,3],[4,5]])\n",
        "NP2=np.array([[3,4],[5,7]])\n",
        "MNP=NP1@NP2\n",
        "print(MNP)"
      ],
      "execution_count": 23,
      "outputs": [
        {
          "output_type": "stream",
          "text": [
            "[[18 25]\n",
            " [37 51]]\n"
          ],
          "name": "stdout"
        }
      ]
    },
    {
      "cell_type": "code",
      "metadata": {
        "colab": {
          "base_uri": "https://localhost:8080/"
        },
        "id": "Ry-CfLywUEG1",
        "outputId": "c85808bd-565f-42be-c8ce-ac7c24118bed"
      },
      "source": [
        "MNP2=NP1*NP2\n",
        "print(MNP2)"
      ],
      "execution_count": 24,
      "outputs": [
        {
          "output_type": "stream",
          "text": [
            "[[ 3 12]\n",
            " [20 35]]\n"
          ],
          "name": "stdout"
        }
      ]
    },
    {
      "cell_type": "code",
      "metadata": {
        "colab": {
          "base_uri": "https://localhost:8080/"
        },
        "id": "Sdfiz8KxUi2v",
        "outputId": "b79825c4-a108-4536-b63f-0917f268cded"
      },
      "source": [
        "MNP3=np.dot(NP1,NP2)\n",
        "print(MNP3)"
      ],
      "execution_count": 25,
      "outputs": [
        {
          "output_type": "stream",
          "text": [
            "[[18 25]\n",
            " [37 51]]\n"
          ],
          "name": "stdout"
        }
      ]
    },
    {
      "cell_type": "code",
      "metadata": {
        "colab": {
          "base_uri": "https://localhost:8080/"
        },
        "id": "mWrE-bGrU_cn",
        "outputId": "fe08da20-a188-4230-923e-2436a5ee9a91"
      },
      "source": [
        "MNP4=np.multiply(NP1,NP2)\n",
        "print(MNP4)"
      ],
      "execution_count": 26,
      "outputs": [
        {
          "output_type": "stream",
          "text": [
            "[[ 3 12]\n",
            " [20 35]]\n"
          ],
          "name": "stdout"
        }
      ]
    },
    {
      "cell_type": "code",
      "metadata": {
        "colab": {
          "base_uri": "https://localhost:8080/"
        },
        "id": "-iAOKHqaVZhg",
        "outputId": "eed8069d-5104-4ef3-be50-215c71639771"
      },
      "source": [
        "sum=NP1+NP2\n",
        "print(sum)"
      ],
      "execution_count": 27,
      "outputs": [
        {
          "output_type": "stream",
          "text": [
            "[[ 4  7]\n",
            " [ 9 12]]\n"
          ],
          "name": "stdout"
        }
      ]
    },
    {
      "cell_type": "code",
      "metadata": {
        "colab": {
          "base_uri": "https://localhost:8080/"
        },
        "id": "1p7AGya2bqPH",
        "outputId": "bc85180f-e2be-4b82-b12b-5022dc3064e4"
      },
      "source": [
        "sub=NP1-NP2\n",
        "print(sub)"
      ],
      "execution_count": 28,
      "outputs": [
        {
          "output_type": "stream",
          "text": [
            "[[-2 -1]\n",
            " [-1 -2]]\n"
          ],
          "name": "stdout"
        }
      ]
    },
    {
      "cell_type": "code",
      "metadata": {
        "colab": {
          "base_uri": "https://localhost:8080/"
        },
        "id": "0UnrSs14b43Z",
        "outputId": "8058d711-43c3-43e1-8694-1adffb64c66f"
      },
      "source": [
        "sub1=np.subtract(NP1,NP2)\n",
        "print(sub1)"
      ],
      "execution_count": 29,
      "outputs": [
        {
          "output_type": "stream",
          "text": [
            "[[-2 -1]\n",
            " [-1 -2]]\n"
          ],
          "name": "stdout"
        }
      ]
    },
    {
      "cell_type": "code",
      "metadata": {
        "colab": {
          "base_uri": "https://localhost:8080/"
        },
        "id": "PJG9PBEzcMLv",
        "outputId": "e38b3631-f225-403f-b175-de8a08ca62ef"
      },
      "source": [
        "sum1=np.sum(NP1)\n",
        "print(sum1)"
      ],
      "execution_count": 33,
      "outputs": [
        {
          "output_type": "stream",
          "text": [
            "13\n"
          ],
          "name": "stdout"
        }
      ]
    },
    {
      "cell_type": "code",
      "metadata": {
        "colab": {
          "base_uri": "https://localhost:8080/"
        },
        "id": "Jz7hj9DKcXB9",
        "outputId": "fa12b237-1213-4486-bfbe-f15f196be20b"
      },
      "source": [
        "add_array=NP1+3\n",
        "print(add_array)"
      ],
      "execution_count": 35,
      "outputs": [
        {
          "output_type": "stream",
          "text": [
            "[[4 6]\n",
            " [7 8]]\n"
          ],
          "name": "stdout"
        }
      ]
    },
    {
      "cell_type": "code",
      "metadata": {
        "colab": {
          "base_uri": "https://localhost:8080/"
        },
        "id": "NAh3XHGqdJ3M",
        "outputId": "a3fc0fd3-b9a1-480b-86ff-4f77bbd9d7d4"
      },
      "source": [
        "NP3=np.array([[3,4]])\n",
        "Add_Array=NP1+NP3\n",
        "print(Add_Array)"
      ],
      "execution_count": 36,
      "outputs": [
        {
          "output_type": "stream",
          "text": [
            "[[4 7]\n",
            " [7 9]]\n"
          ],
          "name": "stdout"
        }
      ]
    },
    {
      "cell_type": "code",
      "metadata": {
        "colab": {
          "base_uri": "https://localhost:8080/"
        },
        "id": "yHKtthWzdok2",
        "outputId": "bfd04e69-a5c8-42de-ac3a-002caa544293"
      },
      "source": [
        "D=np.divide([12,14,16],5)\n",
        "print(D)"
      ],
      "execution_count": 37,
      "outputs": [
        {
          "output_type": "stream",
          "text": [
            "[2.4 2.8 3.2]\n"
          ],
          "name": "stdout"
        }
      ]
    },
    {
      "cell_type": "code",
      "metadata": {
        "colab": {
          "base_uri": "https://localhost:8080/"
        },
        "id": "Q1sd6mbtenpX",
        "outputId": "06ec8f11-b15a-4bc2-fe48-54a4acb763d7"
      },
      "source": [
        "D=np.floor_divide([12,14,16],5)\n",
        "print(D)"
      ],
      "execution_count": 38,
      "outputs": [
        {
          "output_type": "stream",
          "text": [
            "[2 2 3]\n"
          ],
          "name": "stdout"
        }
      ]
    },
    {
      "cell_type": "code",
      "metadata": {
        "colab": {
          "base_uri": "https://localhost:8080/"
        },
        "id": "24SX3zjye7E-",
        "outputId": "7d38a325-fe34-48e0-ebe8-c57f4ac5eab5"
      },
      "source": [
        "sq_root=np.math.sqrt(10)\n",
        "print(sq_root)"
      ],
      "execution_count": 39,
      "outputs": [
        {
          "output_type": "stream",
          "text": [
            "3.1622776601683795\n"
          ],
          "name": "stdout"
        }
      ]
    },
    {
      "cell_type": "markdown",
      "metadata": {
        "id": "W1bDWZ5PgYt_"
      },
      "source": [
        "**Normal and Uniform Distribution**"
      ]
    },
    {
      "cell_type": "code",
      "metadata": {
        "colab": {
          "base_uri": "https://localhost:8080/"
        },
        "id": "oeswMoGLfeZl",
        "outputId": "7ed1c24a-aee2-4b29-a4c5-e1539a4df3d0"
      },
      "source": [
        "Normal_Dist=np.random.standard_normal((3,4))\n",
        "print(Normal_Dist)"
      ],
      "execution_count": 40,
      "outputs": [
        {
          "output_type": "stream",
          "text": [
            "[[ 0.06190893 -1.25026995 -1.45915928  2.07897382]\n",
            " [-0.84937084  0.26385822 -0.91742714  0.88316879]\n",
            " [ 0.33878049 -0.83254361  0.3586431   0.88407002]]\n"
          ],
          "name": "stdout"
        }
      ]
    },
    {
      "cell_type": "code",
      "metadata": {
        "colab": {
          "base_uri": "https://localhost:8080/"
        },
        "id": "SEq3r0IRgR0A",
        "outputId": "a3700d25-b529-4f23-daa6-d63ffe472564"
      },
      "source": [
        "Uniform_Dist=np.random.uniform(1,12,(3,4))\n",
        "print(Uniform_Dist)"
      ],
      "execution_count": 42,
      "outputs": [
        {
          "output_type": "stream",
          "text": [
            "[[10.6103973  10.66278625  1.2638584   9.15442194]\n",
            " [ 8.56821051 11.26046968  7.00857803 10.52178853]\n",
            " [ 2.48241937 10.58978961  9.95304112  5.75996705]]\n"
          ],
          "name": "stdout"
        }
      ]
    },
    {
      "cell_type": "code",
      "metadata": {
        "colab": {
          "base_uri": "https://localhost:8080/"
        },
        "id": "qr6AnND8iDC9",
        "outputId": "e5bb9b69-4762-43e6-c247-f29b4a7d001a"
      },
      "source": [
        "Random_intarray=np.random.randint(1,50,(2,5))\n",
        "print(Random_intarray)"
      ],
      "execution_count": 45,
      "outputs": [
        {
          "output_type": "stream",
          "text": [
            "[[11 44  2 36 10]\n",
            " [ 7 23 36 37 34]]\n"
          ],
          "name": "stdout"
        }
      ]
    },
    {
      "cell_type": "code",
      "metadata": {
        "colab": {
          "base_uri": "https://localhost:8080/",
          "height": 279
        },
        "id": "HivTmKrThHw7",
        "outputId": "fd52f4a8-c919-4fe8-d044-b2dd90d3a2ea"
      },
      "source": [
        "Random_floatarray=np.random.rand(1,50,(2,5))\n",
        "print(Random_floatarray)"
      ],
      "execution_count": 46,
      "outputs": [
        {
          "output_type": "error",
          "ename": "TypeError",
          "evalue": "ignored",
          "traceback": [
            "\u001b[0;31m---------------------------------------------------------------------------\u001b[0m",
            "\u001b[0;31mTypeError\u001b[0m                                 Traceback (most recent call last)",
            "\u001b[0;32m<ipython-input-46-67e8c78b51e5>\u001b[0m in \u001b[0;36m<module>\u001b[0;34m()\u001b[0m\n\u001b[0;32m----> 1\u001b[0;31m \u001b[0mRandom_floatarray\u001b[0m\u001b[0;34m=\u001b[0m\u001b[0mnp\u001b[0m\u001b[0;34m.\u001b[0m\u001b[0mrandom\u001b[0m\u001b[0;34m.\u001b[0m\u001b[0mrand\u001b[0m\u001b[0;34m(\u001b[0m\u001b[0;36m1\u001b[0m\u001b[0;34m,\u001b[0m\u001b[0;36m50\u001b[0m\u001b[0;34m,\u001b[0m\u001b[0;34m(\u001b[0m\u001b[0;36m2\u001b[0m\u001b[0;34m,\u001b[0m\u001b[0;36m5\u001b[0m\u001b[0;34m)\u001b[0m\u001b[0;34m)\u001b[0m\u001b[0;34m\u001b[0m\u001b[0;34m\u001b[0m\u001b[0m\n\u001b[0m\u001b[1;32m      2\u001b[0m \u001b[0mprint\u001b[0m\u001b[0;34m(\u001b[0m\u001b[0mRandom_floatarray\u001b[0m\u001b[0;34m)\u001b[0m\u001b[0;34m\u001b[0m\u001b[0;34m\u001b[0m\u001b[0m\n",
            "\u001b[0;32mmtrand.pyx\u001b[0m in \u001b[0;36mnumpy.random.mtrand.RandomState.rand\u001b[0;34m()\u001b[0m\n",
            "\u001b[0;32mmtrand.pyx\u001b[0m in \u001b[0;36mnumpy.random.mtrand.RandomState.random_sample\u001b[0;34m()\u001b[0m\n",
            "\u001b[0;32m_common.pyx\u001b[0m in \u001b[0;36mnumpy.random._common.double_fill\u001b[0;34m()\u001b[0m\n",
            "\u001b[0;31mTypeError\u001b[0m: 'tuple' object cannot be interpreted as an integer"
          ]
        }
      ]
    },
    {
      "cell_type": "code",
      "metadata": {
        "id": "JiWbnwgEi7Wv"
      },
      "source": [
        ""
      ],
      "execution_count": null,
      "outputs": []
    }
  ]
}