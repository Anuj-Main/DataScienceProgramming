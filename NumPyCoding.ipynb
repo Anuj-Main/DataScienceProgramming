{
  "nbformat": 4,
  "nbformat_minor": 0,
  "metadata": {
    "colab": {
      "name": "NumPyCoding.ipynb",
      "provenance": [],
      "collapsed_sections": [],
      "authorship_tag": "ABX9TyPeH+wT8FDPPqHRBCHowMM6",
      "include_colab_link": true
    },
    "kernelspec": {
      "name": "python3",
      "display_name": "Python 3"
    },
    "language_info": {
      "name": "python"
    }
  },
  "cells": [
    {
      "cell_type": "markdown",
      "metadata": {
        "id": "view-in-github",
        "colab_type": "text"
      },
      "source": [
        "<a href=\"https://colab.research.google.com/github/Anuj-Main/DataScienceProgramming/blob/main/NumPyCoding.ipynb\" target=\"_parent\"><img src=\"https://colab.research.google.com/assets/colab-badge.svg\" alt=\"Open In Colab\"/></a>"
      ]
    },
    {
      "cell_type": "markdown",
      "metadata": {
        "id": "UPGRtZ_BRIvZ"
      },
      "source": [
        " **NumPy Coding**\n"
      ]
    },
    {
      "cell_type": "code",
      "metadata": {
        "colab": {
          "base_uri": "https://localhost:8080/"
        },
        "id": "RcYN0wj5RJ5m",
        "outputId": "168272c7-13ea-446b-d3e7-7aa4e1eb6bd0"
      },
      "source": [
        "import numpy as np\n",
        "numpy_array=np.array([[1,2,3],[4,5,6]])\n",
        "print(numpy_array)"
      ],
      "execution_count": 1,
      "outputs": [
        {
          "output_type": "stream",
          "text": [
            "[[1 2 3]\n",
            " [4 5 6]]\n"
          ],
          "name": "stdout"
        }
      ]
    },
    {
      "cell_type": "code",
      "metadata": {
        "colab": {
          "base_uri": "https://localhost:8080/"
        },
        "id": "1ztw3lDtROOL",
        "outputId": "e8e8a62a-7908-4dff-aea2-426527d6edfa"
      },
      "source": [
        "NP1=np.array([[1,3],[4,5]])\n",
        "NP2=np.array([[3,4],[5,7]])\n",
        "MNP=NP1@NP2\n",
        "print(MNP)"
      ],
      "execution_count": 2,
      "outputs": [
        {
          "output_type": "stream",
          "text": [
            "[[18 25]\n",
            " [37 51]]\n"
          ],
          "name": "stdout"
        }
      ]
    },
    {
      "cell_type": "code",
      "metadata": {
        "colab": {
          "base_uri": "https://localhost:8080/"
        },
        "id": "Ry-CfLywUEG1",
        "outputId": "60fc0327-cbc9-4f56-ba89-f7dafa2e9fe9"
      },
      "source": [
        "MNP2=NP1*NP2\n",
        "print(MNP2)"
      ],
      "execution_count": 3,
      "outputs": [
        {
          "output_type": "stream",
          "text": [
            "[[ 3 12]\n",
            " [20 35]]\n"
          ],
          "name": "stdout"
        }
      ]
    },
    {
      "cell_type": "code",
      "metadata": {
        "colab": {
          "base_uri": "https://localhost:8080/"
        },
        "id": "Sdfiz8KxUi2v",
        "outputId": "25f44d50-cb25-43ff-b24f-203ad7fc5f8d"
      },
      "source": [
        "MNP3=np.dot(NP1,NP2)\n",
        "print(MNP3)"
      ],
      "execution_count": 4,
      "outputs": [
        {
          "output_type": "stream",
          "text": [
            "[[18 25]\n",
            " [37 51]]\n"
          ],
          "name": "stdout"
        }
      ]
    },
    {
      "cell_type": "code",
      "metadata": {
        "colab": {
          "base_uri": "https://localhost:8080/"
        },
        "id": "mWrE-bGrU_cn",
        "outputId": "2d4fb1d9-3df9-44e8-800a-39c70c6d6113"
      },
      "source": [
        "MNP4=np.multiply(NP1,NP2)\n",
        "print(MNP4)"
      ],
      "execution_count": 5,
      "outputs": [
        {
          "output_type": "stream",
          "text": [
            "[[ 3 12]\n",
            " [20 35]]\n"
          ],
          "name": "stdout"
        }
      ]
    },
    {
      "cell_type": "code",
      "metadata": {
        "colab": {
          "base_uri": "https://localhost:8080/"
        },
        "id": "-iAOKHqaVZhg",
        "outputId": "ddebcb88-81f7-4900-d467-bd41cccb5df3"
      },
      "source": [
        "sum=NP1+NP2\n",
        "print(sum)"
      ],
      "execution_count": 6,
      "outputs": [
        {
          "output_type": "stream",
          "text": [
            "[[ 4  7]\n",
            " [ 9 12]]\n"
          ],
          "name": "stdout"
        }
      ]
    },
    {
      "cell_type": "code",
      "metadata": {
        "colab": {
          "base_uri": "https://localhost:8080/"
        },
        "id": "1p7AGya2bqPH",
        "outputId": "3fb7a93b-b0a1-4217-85e4-e28bd53b9404"
      },
      "source": [
        "sub=NP1-NP2\n",
        "print(sub)"
      ],
      "execution_count": 7,
      "outputs": [
        {
          "output_type": "stream",
          "text": [
            "[[-2 -1]\n",
            " [-1 -2]]\n"
          ],
          "name": "stdout"
        }
      ]
    },
    {
      "cell_type": "code",
      "metadata": {
        "colab": {
          "base_uri": "https://localhost:8080/"
        },
        "id": "0UnrSs14b43Z",
        "outputId": "487b6ae9-8b40-4156-ad96-11b292352f7e"
      },
      "source": [
        "sub1=np.subtract(NP1,NP2)\n",
        "print(sub1)"
      ],
      "execution_count": 8,
      "outputs": [
        {
          "output_type": "stream",
          "text": [
            "[[-2 -1]\n",
            " [-1 -2]]\n"
          ],
          "name": "stdout"
        }
      ]
    },
    {
      "cell_type": "code",
      "metadata": {
        "colab": {
          "base_uri": "https://localhost:8080/"
        },
        "id": "PJG9PBEzcMLv",
        "outputId": "cb62eb07-a732-472c-cc23-d6a35f4c3f06"
      },
      "source": [
        "sum1=np.sum(NP1)\n",
        "print(sum1)"
      ],
      "execution_count": 9,
      "outputs": [
        {
          "output_type": "stream",
          "text": [
            "13\n"
          ],
          "name": "stdout"
        }
      ]
    },
    {
      "cell_type": "code",
      "metadata": {
        "colab": {
          "base_uri": "https://localhost:8080/"
        },
        "id": "Jz7hj9DKcXB9",
        "outputId": "4c3f6608-bb62-404a-ad76-25e9b2a1f791"
      },
      "source": [
        "add_array=NP1+3\n",
        "print(add_array)"
      ],
      "execution_count": 10,
      "outputs": [
        {
          "output_type": "stream",
          "text": [
            "[[4 6]\n",
            " [7 8]]\n"
          ],
          "name": "stdout"
        }
      ]
    },
    {
      "cell_type": "code",
      "metadata": {
        "colab": {
          "base_uri": "https://localhost:8080/"
        },
        "id": "NAh3XHGqdJ3M",
        "outputId": "06ca2a09-a640-46ff-b8f8-8a8f8d7ee126"
      },
      "source": [
        "NP3=np.array([[3,4]])\n",
        "Add_Array=NP1+NP3\n",
        "print(Add_Array)"
      ],
      "execution_count": 11,
      "outputs": [
        {
          "output_type": "stream",
          "text": [
            "[[4 7]\n",
            " [7 9]]\n"
          ],
          "name": "stdout"
        }
      ]
    },
    {
      "cell_type": "code",
      "metadata": {
        "colab": {
          "base_uri": "https://localhost:8080/"
        },
        "id": "yHKtthWzdok2",
        "outputId": "0bb0b913-19cb-455b-bfa2-4bcc7d6235f0"
      },
      "source": [
        "D=np.divide([12,14,16],5)\n",
        "print(D)"
      ],
      "execution_count": 12,
      "outputs": [
        {
          "output_type": "stream",
          "text": [
            "[2.4 2.8 3.2]\n"
          ],
          "name": "stdout"
        }
      ]
    },
    {
      "cell_type": "code",
      "metadata": {
        "colab": {
          "base_uri": "https://localhost:8080/"
        },
        "id": "Q1sd6mbtenpX",
        "outputId": "c74d9773-a354-41b9-b13a-63c6a46472a6"
      },
      "source": [
        "D=np.floor_divide([12,14,16],5)\n",
        "print(D)"
      ],
      "execution_count": 13,
      "outputs": [
        {
          "output_type": "stream",
          "text": [
            "[2 2 3]\n"
          ],
          "name": "stdout"
        }
      ]
    },
    {
      "cell_type": "code",
      "metadata": {
        "colab": {
          "base_uri": "https://localhost:8080/"
        },
        "id": "24SX3zjye7E-",
        "outputId": "fb30c55d-1589-4c32-e4a6-921542753470"
      },
      "source": [
        "sq_root=np.math.sqrt(10)\n",
        "print(sq_root)"
      ],
      "execution_count": 14,
      "outputs": [
        {
          "output_type": "stream",
          "text": [
            "3.1622776601683795\n"
          ],
          "name": "stdout"
        }
      ]
    },
    {
      "cell_type": "markdown",
      "metadata": {
        "id": "W1bDWZ5PgYt_"
      },
      "source": [
        "**Normal and Uniform Distribution**"
      ]
    },
    {
      "cell_type": "code",
      "metadata": {
        "colab": {
          "base_uri": "https://localhost:8080/"
        },
        "id": "oeswMoGLfeZl",
        "outputId": "60f5ac08-4562-4c0a-8006-c0642eb668d6"
      },
      "source": [
        "Normal_Dist=np.random.standard_normal((3,4))\n",
        "print(Normal_Dist)"
      ],
      "execution_count": 15,
      "outputs": [
        {
          "output_type": "stream",
          "text": [
            "[[ 1.95641550e-01  2.41549111e+00  8.42166581e-01 -4.69989143e-01]\n",
            " [-1.81239563e-01  1.99694437e-04  1.46562697e+00 -6.70798899e-01]\n",
            " [-1.51140634e+00 -1.23644183e+00  8.45309713e-01 -3.32496350e-01]]\n"
          ],
          "name": "stdout"
        }
      ]
    },
    {
      "cell_type": "code",
      "metadata": {
        "colab": {
          "base_uri": "https://localhost:8080/"
        },
        "id": "SEq3r0IRgR0A",
        "outputId": "42ae3ed6-4471-4134-ac3e-a26d97474350"
      },
      "source": [
        "Uniform_Dist=np.random.uniform(1,12,(3,4))\n",
        "print(Uniform_Dist)"
      ],
      "execution_count": 16,
      "outputs": [
        {
          "output_type": "stream",
          "text": [
            "[[ 9.96551797  8.45227376 11.16628408  1.98670166]\n",
            " [ 9.42035616  1.82643373 10.24798142  5.30389187]\n",
            " [10.75031315  2.44967138 10.85515957  3.86440683]]\n"
          ],
          "name": "stdout"
        }
      ]
    },
    {
      "cell_type": "code",
      "metadata": {
        "colab": {
          "base_uri": "https://localhost:8080/"
        },
        "id": "qr6AnND8iDC9",
        "outputId": "fda727b3-80f6-4ff8-8d35-55d32c3fda7d"
      },
      "source": [
        "Random_intarray=np.random.randint(1,50,(2,5))\n",
        "print(Random_intarray)"
      ],
      "execution_count": 17,
      "outputs": [
        {
          "output_type": "stream",
          "text": [
            "[[15  8 36  5 12]\n",
            " [19 27 35 39 47]]\n"
          ],
          "name": "stdout"
        }
      ]
    },
    {
      "cell_type": "markdown",
      "metadata": {
        "id": "leQsANQnFLk3"
      },
      "source": [
        "**Generate Random Zeroes and Random Numbers**\n",
        "\n"
      ]
    },
    {
      "cell_type": "code",
      "metadata": {
        "id": "JiWbnwgEi7Wv",
        "colab": {
          "base_uri": "https://localhost:8080/"
        },
        "outputId": "7ed683c4-79ce-4639-b85c-73655e114c9a"
      },
      "source": [
        "Random_Ze=np.zeros((3,4))\n",
        "print(Random_Ze)"
      ],
      "execution_count": 25,
      "outputs": [
        {
          "output_type": "stream",
          "text": [
            "[[0. 0. 0. 0.]\n",
            " [0. 0. 0. 0.]\n",
            " [0. 0. 0. 0.]]\n"
          ],
          "name": "stdout"
        }
      ]
    },
    {
      "cell_type": "code",
      "metadata": {
        "colab": {
          "base_uri": "https://localhost:8080/"
        },
        "id": "xIqFgAQOFvxC",
        "outputId": "ec6384b7-9203-409b-e7fe-526ee59380e5"
      },
      "source": [
        "Random_1=np.ones((3,4))\n",
        "print(Random_1)"
      ],
      "execution_count": 26,
      "outputs": [
        {
          "output_type": "stream",
          "text": [
            "[[1. 1. 1. 1.]\n",
            " [1. 1. 1. 1.]\n",
            " [1. 1. 1. 1.]]\n"
          ],
          "name": "stdout"
        }
      ]
    },
    {
      "cell_type": "markdown",
      "metadata": {
        "id": "tY_izTkqGSQS"
      },
      "source": [
        "**Filter the Array**"
      ]
    },
    {
      "cell_type": "code",
      "metadata": {
        "colab": {
          "base_uri": "https://localhost:8080/"
        },
        "id": "Tk8lpNkGGE3Y",
        "outputId": "2e9b541b-844e-47ae-c39f-8aa15580b398"
      },
      "source": [
        "Filter_Array=np.logical_and(Random_intarray>30,Random_intarray<50)\n",
        "print(Filter_Array)"
      ],
      "execution_count": 27,
      "outputs": [
        {
          "output_type": "stream",
          "text": [
            "[[False False  True False False]\n",
            " [False False  True  True  True]]\n"
          ],
          "name": "stdout"
        }
      ]
    },
    {
      "cell_type": "code",
      "metadata": {
        "colab": {
          "base_uri": "https://localhost:8080/"
        },
        "id": "iyT79MDRHIvM",
        "outputId": "18e9bfe5-e8a2-4324-c843-0f04b054056d"
      },
      "source": [
        "Filter_Random_Array=Random_intarray[Filter_Array]\n",
        "print(Filter_Random_Array)"
      ],
      "execution_count": 28,
      "outputs": [
        {
          "output_type": "stream",
          "text": [
            "[36 35 39 47]\n"
          ],
          "name": "stdout"
        }
      ]
    },
    {
      "cell_type": "code",
      "metadata": {
        "id": "yoIKr2y0H8zP"
      },
      "source": [
        ""
      ],
      "execution_count": null,
      "outputs": []
    }
  ]
}