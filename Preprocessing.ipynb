{
  "nbformat": 4,
  "nbformat_minor": 0,
  "metadata": {
    "colab": {
      "name": "Preprocessing.ipynb",
      "provenance": [],
      "collapsed_sections": [],
      "authorship_tag": "ABX9TyOwdz+999PAQ4mccJz0vwre",
      "include_colab_link": true
    },
    "kernelspec": {
      "name": "python3",
      "display_name": "Python 3"
    },
    "language_info": {
      "name": "python"
    }
  },
  "cells": [
    {
      "cell_type": "markdown",
      "metadata": {
        "id": "view-in-github",
        "colab_type": "text"
      },
      "source": [
        "<a href=\"https://colab.research.google.com/github/Anuj-Main/DataScienceProgramming/blob/main/Preprocessing.ipynb\" target=\"_parent\"><img src=\"https://colab.research.google.com/assets/colab-badge.svg\" alt=\"Open In Colab\"/></a>"
      ]
    },
    {
      "cell_type": "markdown",
      "metadata": {
        "id": "UYnPGA-1rZAp"
      },
      "source": [
        "# Data Preprocessing\n",
        "Data Modfying or Data Cleaning "
      ]
    },
    {
      "cell_type": "markdown",
      "metadata": {
        "id": "17nLw5cLsL4s"
      },
      "source": [
        "First we importing Libraries"
      ]
    },
    {
      "cell_type": "code",
      "metadata": {
        "id": "aGUCstVartNT"
      },
      "source": [
        "import numpy as np\n",
        "import pandas as pd\n",
        "import matplotlib.pyplot as plt\n",
        "import seaborn as sns\n",
        "from sklearn.impute import SimpleImputer"
      ],
      "execution_count": 80,
      "outputs": []
    },
    {
      "cell_type": "code",
      "metadata": {
        "colab": {
          "base_uri": "https://localhost:8080/",
          "height": 237
        },
        "id": "D6fMHU9csmVt",
        "outputId": "089e0ea4-95a9-473e-b33b-57f34867d014"
      },
      "source": [
        "Test_homedata=pd.read_csv('/content/Home_Consumption.csv')\n",
        "Test_homedata.head()"
      ],
      "execution_count": 81,
      "outputs": [
        {
          "output_type": "execute_result",
          "data": {
            "text/html": [
              "<div>\n",
              "<style scoped>\n",
              "    .dataframe tbody tr th:only-of-type {\n",
              "        vertical-align: middle;\n",
              "    }\n",
              "\n",
              "    .dataframe tbody tr th {\n",
              "        vertical-align: top;\n",
              "    }\n",
              "\n",
              "    .dataframe thead th {\n",
              "        text-align: right;\n",
              "    }\n",
              "</style>\n",
              "<table border=\"1\" class=\"dataframe\">\n",
              "  <thead>\n",
              "    <tr style=\"text-align: right;\">\n",
              "      <th></th>\n",
              "      <th>Name of the data = Home Consumption</th>\n",
              "      <th>Unnamed: 1</th>\n",
              "      <th>Unnamed: 2</th>\n",
              "      <th>Unnamed: 3</th>\n",
              "      <th>Unnamed: 4</th>\n",
              "      <th>Unnamed: 5</th>\n",
              "    </tr>\n",
              "  </thead>\n",
              "  <tbody>\n",
              "    <tr>\n",
              "      <th>0</th>\n",
              "      <td>Unit = kW and $/kW</td>\n",
              "      <td>NaN</td>\n",
              "      <td>NaN</td>\n",
              "      <td>NaN</td>\n",
              "      <td>NaN</td>\n",
              "      <td>NaN</td>\n",
              "    </tr>\n",
              "    <tr>\n",
              "      <th>1</th>\n",
              "      <td>Time</td>\n",
              "      <td>E_Plug</td>\n",
              "      <td>E_Heat</td>\n",
              "      <td>Price</td>\n",
              "      <td>Temperature</td>\n",
              "      <td>No. Occupants</td>\n",
              "    </tr>\n",
              "    <tr>\n",
              "      <th>2</th>\n",
              "      <td>1</td>\n",
              "      <td>24</td>\n",
              "      <td>28</td>\n",
              "      <td>10</td>\n",
              "      <td>-15</td>\n",
              "      <td>12</td>\n",
              "    </tr>\n",
              "    <tr>\n",
              "      <th>3</th>\n",
              "      <td>2</td>\n",
              "      <td>17</td>\n",
              "      <td>32</td>\n",
              "      <td>12</td>\n",
              "      <td>-17</td>\n",
              "      <td>12</td>\n",
              "    </tr>\n",
              "    <tr>\n",
              "      <th>4</th>\n",
              "      <td>3</td>\n",
              "      <td>16</td>\n",
              "      <td>34</td>\n",
              "      <td>11</td>\n",
              "      <td>-19</td>\n",
              "      <td>12</td>\n",
              "    </tr>\n",
              "  </tbody>\n",
              "</table>\n",
              "</div>"
            ],
            "text/plain": [
              "  Name of the data = Home Consumption Unnamed: 1  ...   Unnamed: 4     Unnamed: 5\n",
              "0                  Unit = kW and $/kW        NaN  ...          NaN            NaN\n",
              "1                                Time     E_Plug  ...  Temperature  No. Occupants\n",
              "2                                   1         24  ...          -15             12\n",
              "3                                   2         17  ...          -17             12\n",
              "4                                   3         16  ...          -19             12\n",
              "\n",
              "[5 rows x 6 columns]"
            ]
          },
          "metadata": {
            "tags": []
          },
          "execution_count": 81
        }
      ]
    },
    {
      "cell_type": "code",
      "metadata": {
        "colab": {
          "base_uri": "https://localhost:8080/",
          "height": 203
        },
        "id": "gSb3dvK_swAj",
        "outputId": "f4114281-7132-486c-a8f6-2f96950ac2a4"
      },
      "source": [
        "Test_homedata2=pd.read_csv('/content/Home_Consumption.csv',header=2)\n",
        "Test_homedata2.head()"
      ],
      "execution_count": 82,
      "outputs": [
        {
          "output_type": "execute_result",
          "data": {
            "text/html": [
              "<div>\n",
              "<style scoped>\n",
              "    .dataframe tbody tr th:only-of-type {\n",
              "        vertical-align: middle;\n",
              "    }\n",
              "\n",
              "    .dataframe tbody tr th {\n",
              "        vertical-align: top;\n",
              "    }\n",
              "\n",
              "    .dataframe thead th {\n",
              "        text-align: right;\n",
              "    }\n",
              "</style>\n",
              "<table border=\"1\" class=\"dataframe\">\n",
              "  <thead>\n",
              "    <tr style=\"text-align: right;\">\n",
              "      <th></th>\n",
              "      <th>Time</th>\n",
              "      <th>E_Plug</th>\n",
              "      <th>E_Heat</th>\n",
              "      <th>Price</th>\n",
              "      <th>Temperature</th>\n",
              "      <th>No. Occupants</th>\n",
              "    </tr>\n",
              "  </thead>\n",
              "  <tbody>\n",
              "    <tr>\n",
              "      <th>0</th>\n",
              "      <td>1</td>\n",
              "      <td>24.0</td>\n",
              "      <td>28</td>\n",
              "      <td>10</td>\n",
              "      <td>-15</td>\n",
              "      <td>12</td>\n",
              "    </tr>\n",
              "    <tr>\n",
              "      <th>1</th>\n",
              "      <td>2</td>\n",
              "      <td>17.0</td>\n",
              "      <td>32</td>\n",
              "      <td>12</td>\n",
              "      <td>-17</td>\n",
              "      <td>12</td>\n",
              "    </tr>\n",
              "    <tr>\n",
              "      <th>2</th>\n",
              "      <td>3</td>\n",
              "      <td>16.0</td>\n",
              "      <td>34</td>\n",
              "      <td>11</td>\n",
              "      <td>-19</td>\n",
              "      <td>12</td>\n",
              "    </tr>\n",
              "    <tr>\n",
              "      <th>3</th>\n",
              "      <td>3</td>\n",
              "      <td>16.0</td>\n",
              "      <td>34</td>\n",
              "      <td>11</td>\n",
              "      <td>-19</td>\n",
              "      <td>12</td>\n",
              "    </tr>\n",
              "    <tr>\n",
              "      <th>4</th>\n",
              "      <td>4</td>\n",
              "      <td>16.0</td>\n",
              "      <td>33</td>\n",
              "      <td>12</td>\n",
              "      <td>-18</td>\n",
              "      <td>12</td>\n",
              "    </tr>\n",
              "  </tbody>\n",
              "</table>\n",
              "</div>"
            ],
            "text/plain": [
              "   Time  E_Plug  E_Heat Price  Temperature  No. Occupants\n",
              "0     1    24.0      28    10          -15             12\n",
              "1     2    17.0      32    12          -17             12\n",
              "2     3    16.0      34    11          -19             12\n",
              "3     3    16.0      34    11          -19             12\n",
              "4     4    16.0      33    12          -18             12"
            ]
          },
          "metadata": {
            "tags": []
          },
          "execution_count": 82
        }
      ]
    },
    {
      "cell_type": "markdown",
      "metadata": {
        "id": "fbuDvn4gvBN0"
      },
      "source": [
        "You can see I remove the Unnecessary Rows for the analysis"
      ]
    },
    {
      "cell_type": "code",
      "metadata": {
        "colab": {
          "base_uri": "https://localhost:8080/",
          "height": 203
        },
        "id": "y0AHsHzZtvAB",
        "outputId": "27517e01-044e-4b5d-c72d-0a347330913e"
      },
      "source": [
        "Test_homedata2.rename(columns={'Temperature':'Temp'})\n",
        "Test_homedata2.head()"
      ],
      "execution_count": 83,
      "outputs": [
        {
          "output_type": "execute_result",
          "data": {
            "text/html": [
              "<div>\n",
              "<style scoped>\n",
              "    .dataframe tbody tr th:only-of-type {\n",
              "        vertical-align: middle;\n",
              "    }\n",
              "\n",
              "    .dataframe tbody tr th {\n",
              "        vertical-align: top;\n",
              "    }\n",
              "\n",
              "    .dataframe thead th {\n",
              "        text-align: right;\n",
              "    }\n",
              "</style>\n",
              "<table border=\"1\" class=\"dataframe\">\n",
              "  <thead>\n",
              "    <tr style=\"text-align: right;\">\n",
              "      <th></th>\n",
              "      <th>Time</th>\n",
              "      <th>E_Plug</th>\n",
              "      <th>E_Heat</th>\n",
              "      <th>Price</th>\n",
              "      <th>Temperature</th>\n",
              "      <th>No. Occupants</th>\n",
              "    </tr>\n",
              "  </thead>\n",
              "  <tbody>\n",
              "    <tr>\n",
              "      <th>0</th>\n",
              "      <td>1</td>\n",
              "      <td>24.0</td>\n",
              "      <td>28</td>\n",
              "      <td>10</td>\n",
              "      <td>-15</td>\n",
              "      <td>12</td>\n",
              "    </tr>\n",
              "    <tr>\n",
              "      <th>1</th>\n",
              "      <td>2</td>\n",
              "      <td>17.0</td>\n",
              "      <td>32</td>\n",
              "      <td>12</td>\n",
              "      <td>-17</td>\n",
              "      <td>12</td>\n",
              "    </tr>\n",
              "    <tr>\n",
              "      <th>2</th>\n",
              "      <td>3</td>\n",
              "      <td>16.0</td>\n",
              "      <td>34</td>\n",
              "      <td>11</td>\n",
              "      <td>-19</td>\n",
              "      <td>12</td>\n",
              "    </tr>\n",
              "    <tr>\n",
              "      <th>3</th>\n",
              "      <td>3</td>\n",
              "      <td>16.0</td>\n",
              "      <td>34</td>\n",
              "      <td>11</td>\n",
              "      <td>-19</td>\n",
              "      <td>12</td>\n",
              "    </tr>\n",
              "    <tr>\n",
              "      <th>4</th>\n",
              "      <td>4</td>\n",
              "      <td>16.0</td>\n",
              "      <td>33</td>\n",
              "      <td>12</td>\n",
              "      <td>-18</td>\n",
              "      <td>12</td>\n",
              "    </tr>\n",
              "  </tbody>\n",
              "</table>\n",
              "</div>"
            ],
            "text/plain": [
              "   Time  E_Plug  E_Heat Price  Temperature  No. Occupants\n",
              "0     1    24.0      28    10          -15             12\n",
              "1     2    17.0      32    12          -17             12\n",
              "2     3    16.0      34    11          -19             12\n",
              "3     3    16.0      34    11          -19             12\n",
              "4     4    16.0      33    12          -18             12"
            ]
          },
          "metadata": {
            "tags": []
          },
          "execution_count": 83
        }
      ]
    },
    {
      "cell_type": "markdown",
      "metadata": {
        "id": "TRJZSamwvdpS"
      },
      "source": [
        "We can use this renmae function to change the Columns Name."
      ]
    },
    {
      "cell_type": "markdown",
      "metadata": {
        "id": "4rxm13_tvKmg"
      },
      "source": [
        "**Now we use Drop Function**\n",
        "\n",
        "In drop function or drop function is used for dropping the column or delete the column which are not useful."
      ]
    },
    {
      "cell_type": "code",
      "metadata": {
        "colab": {
          "base_uri": "https://localhost:8080/",
          "height": 203
        },
        "id": "zh_FK_0cupxb",
        "outputId": "ca5413c4-746b-4cc7-fc0c-3f4026d0db02"
      },
      "source": [
        "Drop_col=Test_homedata2.drop('No. Occupants',axis=1)\n",
        "Drop_col.head()"
      ],
      "execution_count": 84,
      "outputs": [
        {
          "output_type": "execute_result",
          "data": {
            "text/html": [
              "<div>\n",
              "<style scoped>\n",
              "    .dataframe tbody tr th:only-of-type {\n",
              "        vertical-align: middle;\n",
              "    }\n",
              "\n",
              "    .dataframe tbody tr th {\n",
              "        vertical-align: top;\n",
              "    }\n",
              "\n",
              "    .dataframe thead th {\n",
              "        text-align: right;\n",
              "    }\n",
              "</style>\n",
              "<table border=\"1\" class=\"dataframe\">\n",
              "  <thead>\n",
              "    <tr style=\"text-align: right;\">\n",
              "      <th></th>\n",
              "      <th>Time</th>\n",
              "      <th>E_Plug</th>\n",
              "      <th>E_Heat</th>\n",
              "      <th>Price</th>\n",
              "      <th>Temperature</th>\n",
              "    </tr>\n",
              "  </thead>\n",
              "  <tbody>\n",
              "    <tr>\n",
              "      <th>0</th>\n",
              "      <td>1</td>\n",
              "      <td>24.0</td>\n",
              "      <td>28</td>\n",
              "      <td>10</td>\n",
              "      <td>-15</td>\n",
              "    </tr>\n",
              "    <tr>\n",
              "      <th>1</th>\n",
              "      <td>2</td>\n",
              "      <td>17.0</td>\n",
              "      <td>32</td>\n",
              "      <td>12</td>\n",
              "      <td>-17</td>\n",
              "    </tr>\n",
              "    <tr>\n",
              "      <th>2</th>\n",
              "      <td>3</td>\n",
              "      <td>16.0</td>\n",
              "      <td>34</td>\n",
              "      <td>11</td>\n",
              "      <td>-19</td>\n",
              "    </tr>\n",
              "    <tr>\n",
              "      <th>3</th>\n",
              "      <td>3</td>\n",
              "      <td>16.0</td>\n",
              "      <td>34</td>\n",
              "      <td>11</td>\n",
              "      <td>-19</td>\n",
              "    </tr>\n",
              "    <tr>\n",
              "      <th>4</th>\n",
              "      <td>4</td>\n",
              "      <td>16.0</td>\n",
              "      <td>33</td>\n",
              "      <td>12</td>\n",
              "      <td>-18</td>\n",
              "    </tr>\n",
              "  </tbody>\n",
              "</table>\n",
              "</div>"
            ],
            "text/plain": [
              "   Time  E_Plug  E_Heat Price  Temperature\n",
              "0     1    24.0      28    10          -15\n",
              "1     2    17.0      32    12          -17\n",
              "2     3    16.0      34    11          -19\n",
              "3     3    16.0      34    11          -19\n",
              "4     4    16.0      33    12          -18"
            ]
          },
          "metadata": {
            "tags": []
          },
          "execution_count": 84
        }
      ]
    },
    {
      "cell_type": "markdown",
      "metadata": {
        "id": "4WOSmcu5xQqL"
      },
      "source": [
        "Now we drop the column\n",
        "\n",
        "*If you want to change this in main dataset.*\n",
        "*you have to just write direectly Test_homedata2.drop() instead of using variable.* "
      ]
    },
    {
      "cell_type": "code",
      "metadata": {
        "colab": {
          "base_uri": "https://localhost:8080/",
          "height": 203
        },
        "id": "aLBBX_Vn9sRB",
        "outputId": "562a6776-7e0b-4116-d347-70641e000167"
      },
      "source": [
        "Test_homedata2.head()"
      ],
      "execution_count": 85,
      "outputs": [
        {
          "output_type": "execute_result",
          "data": {
            "text/html": [
              "<div>\n",
              "<style scoped>\n",
              "    .dataframe tbody tr th:only-of-type {\n",
              "        vertical-align: middle;\n",
              "    }\n",
              "\n",
              "    .dataframe tbody tr th {\n",
              "        vertical-align: top;\n",
              "    }\n",
              "\n",
              "    .dataframe thead th {\n",
              "        text-align: right;\n",
              "    }\n",
              "</style>\n",
              "<table border=\"1\" class=\"dataframe\">\n",
              "  <thead>\n",
              "    <tr style=\"text-align: right;\">\n",
              "      <th></th>\n",
              "      <th>Time</th>\n",
              "      <th>E_Plug</th>\n",
              "      <th>E_Heat</th>\n",
              "      <th>Price</th>\n",
              "      <th>Temperature</th>\n",
              "      <th>No. Occupants</th>\n",
              "    </tr>\n",
              "  </thead>\n",
              "  <tbody>\n",
              "    <tr>\n",
              "      <th>0</th>\n",
              "      <td>1</td>\n",
              "      <td>24.0</td>\n",
              "      <td>28</td>\n",
              "      <td>10</td>\n",
              "      <td>-15</td>\n",
              "      <td>12</td>\n",
              "    </tr>\n",
              "    <tr>\n",
              "      <th>1</th>\n",
              "      <td>2</td>\n",
              "      <td>17.0</td>\n",
              "      <td>32</td>\n",
              "      <td>12</td>\n",
              "      <td>-17</td>\n",
              "      <td>12</td>\n",
              "    </tr>\n",
              "    <tr>\n",
              "      <th>2</th>\n",
              "      <td>3</td>\n",
              "      <td>16.0</td>\n",
              "      <td>34</td>\n",
              "      <td>11</td>\n",
              "      <td>-19</td>\n",
              "      <td>12</td>\n",
              "    </tr>\n",
              "    <tr>\n",
              "      <th>3</th>\n",
              "      <td>3</td>\n",
              "      <td>16.0</td>\n",
              "      <td>34</td>\n",
              "      <td>11</td>\n",
              "      <td>-19</td>\n",
              "      <td>12</td>\n",
              "    </tr>\n",
              "    <tr>\n",
              "      <th>4</th>\n",
              "      <td>4</td>\n",
              "      <td>16.0</td>\n",
              "      <td>33</td>\n",
              "      <td>12</td>\n",
              "      <td>-18</td>\n",
              "      <td>12</td>\n",
              "    </tr>\n",
              "  </tbody>\n",
              "</table>\n",
              "</div>"
            ],
            "text/plain": [
              "   Time  E_Plug  E_Heat Price  Temperature  No. Occupants\n",
              "0     1    24.0      28    10          -15             12\n",
              "1     2    17.0      32    12          -17             12\n",
              "2     3    16.0      34    11          -19             12\n",
              "3     3    16.0      34    11          -19             12\n",
              "4     4    16.0      33    12          -18             12"
            ]
          },
          "metadata": {
            "tags": []
          },
          "execution_count": 85
        }
      ]
    },
    {
      "cell_type": "code",
      "metadata": {
        "colab": {
          "base_uri": "https://localhost:8080/",
          "height": 819
        },
        "id": "G3YcpW5V9G8j",
        "outputId": "44c82608-be1a-44ea-9e5e-dcf7cb3991ce"
      },
      "source": [
        "Test_homedata2.drop('No. Occupants',axis=1)"
      ],
      "execution_count": 86,
      "outputs": [
        {
          "output_type": "execute_result",
          "data": {
            "text/html": [
              "<div>\n",
              "<style scoped>\n",
              "    .dataframe tbody tr th:only-of-type {\n",
              "        vertical-align: middle;\n",
              "    }\n",
              "\n",
              "    .dataframe tbody tr th {\n",
              "        vertical-align: top;\n",
              "    }\n",
              "\n",
              "    .dataframe thead th {\n",
              "        text-align: right;\n",
              "    }\n",
              "</style>\n",
              "<table border=\"1\" class=\"dataframe\">\n",
              "  <thead>\n",
              "    <tr style=\"text-align: right;\">\n",
              "      <th></th>\n",
              "      <th>Time</th>\n",
              "      <th>E_Plug</th>\n",
              "      <th>E_Heat</th>\n",
              "      <th>Price</th>\n",
              "      <th>Temperature</th>\n",
              "    </tr>\n",
              "  </thead>\n",
              "  <tbody>\n",
              "    <tr>\n",
              "      <th>0</th>\n",
              "      <td>1</td>\n",
              "      <td>24.0</td>\n",
              "      <td>28</td>\n",
              "      <td>10</td>\n",
              "      <td>-15</td>\n",
              "    </tr>\n",
              "    <tr>\n",
              "      <th>1</th>\n",
              "      <td>2</td>\n",
              "      <td>17.0</td>\n",
              "      <td>32</td>\n",
              "      <td>12</td>\n",
              "      <td>-17</td>\n",
              "    </tr>\n",
              "    <tr>\n",
              "      <th>2</th>\n",
              "      <td>3</td>\n",
              "      <td>16.0</td>\n",
              "      <td>34</td>\n",
              "      <td>11</td>\n",
              "      <td>-19</td>\n",
              "    </tr>\n",
              "    <tr>\n",
              "      <th>3</th>\n",
              "      <td>3</td>\n",
              "      <td>16.0</td>\n",
              "      <td>34</td>\n",
              "      <td>11</td>\n",
              "      <td>-19</td>\n",
              "    </tr>\n",
              "    <tr>\n",
              "      <th>4</th>\n",
              "      <td>4</td>\n",
              "      <td>16.0</td>\n",
              "      <td>33</td>\n",
              "      <td>12</td>\n",
              "      <td>-18</td>\n",
              "    </tr>\n",
              "    <tr>\n",
              "      <th>5</th>\n",
              "      <td>5</td>\n",
              "      <td>16.0</td>\n",
              "      <td>30</td>\n",
              "      <td>10</td>\n",
              "      <td>-14</td>\n",
              "    </tr>\n",
              "    <tr>\n",
              "      <th>6</th>\n",
              "      <td>6</td>\n",
              "      <td>16.0</td>\n",
              "      <td>31</td>\n",
              "      <td>10</td>\n",
              "      <td>-16</td>\n",
              "    </tr>\n",
              "    <tr>\n",
              "      <th>7</th>\n",
              "      <td>7</td>\n",
              "      <td>19.0</td>\n",
              "      <td>28</td>\n",
              "      <td>14</td>\n",
              "      <td>-14</td>\n",
              "    </tr>\n",
              "    <tr>\n",
              "      <th>8</th>\n",
              "      <td>8</td>\n",
              "      <td>22.0</td>\n",
              "      <td>29</td>\n",
              "      <td>12</td>\n",
              "      <td>-15</td>\n",
              "    </tr>\n",
              "    <tr>\n",
              "      <th>9</th>\n",
              "      <td>9</td>\n",
              "      <td>25.0</td>\n",
              "      <td>26</td>\n",
              "      <td>12</td>\n",
              "      <td>-12</td>\n",
              "    </tr>\n",
              "    <tr>\n",
              "      <th>10</th>\n",
              "      <td>10</td>\n",
              "      <td>26.0</td>\n",
              "      <td>24</td>\n",
              "      <td>14</td>\n",
              "      <td>-8</td>\n",
              "    </tr>\n",
              "    <tr>\n",
              "      <th>11</th>\n",
              "      <td>11</td>\n",
              "      <td>27.0</td>\n",
              "      <td>20</td>\n",
              "      <td>14</td>\n",
              "      <td>-4</td>\n",
              "    </tr>\n",
              "    <tr>\n",
              "      <th>12</th>\n",
              "      <td>12</td>\n",
              "      <td>30.0</td>\n",
              "      <td>19</td>\n",
              "      <td>16</td>\n",
              "      <td>0</td>\n",
              "    </tr>\n",
              "    <tr>\n",
              "      <th>13</th>\n",
              "      <td>13</td>\n",
              "      <td>30.0</td>\n",
              "      <td>19</td>\n",
              "      <td>16</td>\n",
              "      <td>0</td>\n",
              "    </tr>\n",
              "    <tr>\n",
              "      <th>14</th>\n",
              "      <td>14</td>\n",
              "      <td>NaN</td>\n",
              "      <td>13</td>\n",
              "      <td>17</td>\n",
              "      <td>2</td>\n",
              "    </tr>\n",
              "    <tr>\n",
              "      <th>15</th>\n",
              "      <td>15</td>\n",
              "      <td>27.0</td>\n",
              "      <td>14</td>\n",
              "      <td>17</td>\n",
              "      <td>3</td>\n",
              "    </tr>\n",
              "    <tr>\n",
              "      <th>16</th>\n",
              "      <td>16</td>\n",
              "      <td>27.0</td>\n",
              "      <td>16</td>\n",
              "      <td>17</td>\n",
              "      <td>2</td>\n",
              "    </tr>\n",
              "    <tr>\n",
              "      <th>17</th>\n",
              "      <td>17</td>\n",
              "      <td>28.0</td>\n",
              "      <td>-4</td>\n",
              "      <td>18</td>\n",
              "      <td>0</td>\n",
              "    </tr>\n",
              "    <tr>\n",
              "      <th>18</th>\n",
              "      <td>18</td>\n",
              "      <td>33.0</td>\n",
              "      <td>26</td>\n",
              "      <td>20</td>\n",
              "      <td>-6</td>\n",
              "    </tr>\n",
              "    <tr>\n",
              "      <th>19</th>\n",
              "      <td>19</td>\n",
              "      <td>42.0</td>\n",
              "      <td>32</td>\n",
              "      <td>21</td>\n",
              "      <td>-8</td>\n",
              "    </tr>\n",
              "    <tr>\n",
              "      <th>20</th>\n",
              "      <td>20</td>\n",
              "      <td>120.0</td>\n",
              "      <td>33</td>\n",
              "      <td>21</td>\n",
              "      <td>-12</td>\n",
              "    </tr>\n",
              "    <tr>\n",
              "      <th>21</th>\n",
              "      <td>21</td>\n",
              "      <td>47.0</td>\n",
              "      <td>32</td>\n",
              "      <td>21</td>\n",
              "      <td>-16</td>\n",
              "    </tr>\n",
              "    <tr>\n",
              "      <th>22</th>\n",
              "      <td>22</td>\n",
              "      <td>44.0</td>\n",
              "      <td>30</td>\n",
              "      <td>22</td>\n",
              "      <td>-18</td>\n",
              "    </tr>\n",
              "    <tr>\n",
              "      <th>23</th>\n",
              "      <td>23</td>\n",
              "      <td>36.0</td>\n",
              "      <td>35</td>\n",
              "      <td>!</td>\n",
              "      <td>-19</td>\n",
              "    </tr>\n",
              "    <tr>\n",
              "      <th>24</th>\n",
              "      <td>24</td>\n",
              "      <td>37.0</td>\n",
              "      <td>36</td>\n",
              "      <td>18</td>\n",
              "      <td>-22</td>\n",
              "    </tr>\n",
              "  </tbody>\n",
              "</table>\n",
              "</div>"
            ],
            "text/plain": [
              "    Time  E_Plug  E_Heat Price  Temperature\n",
              "0      1    24.0      28    10          -15\n",
              "1      2    17.0      32    12          -17\n",
              "2      3    16.0      34    11          -19\n",
              "3      3    16.0      34    11          -19\n",
              "4      4    16.0      33    12          -18\n",
              "5      5    16.0      30    10          -14\n",
              "6      6    16.0      31    10          -16\n",
              "7      7    19.0      28    14          -14\n",
              "8      8    22.0      29    12          -15\n",
              "9      9    25.0      26    12          -12\n",
              "10    10    26.0      24    14           -8\n",
              "11    11    27.0      20    14           -4\n",
              "12    12    30.0      19    16            0\n",
              "13    13    30.0      19    16            0\n",
              "14    14     NaN      13    17            2\n",
              "15    15    27.0      14    17            3\n",
              "16    16    27.0      16    17            2\n",
              "17    17    28.0      -4    18            0\n",
              "18    18    33.0      26    20           -6\n",
              "19    19    42.0      32    21           -8\n",
              "20    20   120.0      33    21          -12\n",
              "21    21    47.0      32    21          -16\n",
              "22    22    44.0      30    22          -18\n",
              "23    23    36.0      35     !          -19\n",
              "24    24    37.0      36    18          -22"
            ]
          },
          "metadata": {
            "tags": []
          },
          "execution_count": 86
        }
      ]
    },
    {
      "cell_type": "markdown",
      "metadata": {
        "id": "ocHzpY0Q9lYs"
      },
      "source": [
        "As we can see we change our main data set."
      ]
    },
    {
      "cell_type": "code",
      "metadata": {
        "colab": {
          "base_uri": "https://localhost:8080/",
          "height": 203
        },
        "id": "OsMYyaGFzy8_",
        "outputId": "3a4f0b43-2372-4a1e-b36a-af3909506c35"
      },
      "source": [
        "Test_homedata2.drop(2,axis=0)\n",
        "Test_homedata2.head()"
      ],
      "execution_count": 87,
      "outputs": [
        {
          "output_type": "execute_result",
          "data": {
            "text/html": [
              "<div>\n",
              "<style scoped>\n",
              "    .dataframe tbody tr th:only-of-type {\n",
              "        vertical-align: middle;\n",
              "    }\n",
              "\n",
              "    .dataframe tbody tr th {\n",
              "        vertical-align: top;\n",
              "    }\n",
              "\n",
              "    .dataframe thead th {\n",
              "        text-align: right;\n",
              "    }\n",
              "</style>\n",
              "<table border=\"1\" class=\"dataframe\">\n",
              "  <thead>\n",
              "    <tr style=\"text-align: right;\">\n",
              "      <th></th>\n",
              "      <th>Time</th>\n",
              "      <th>E_Plug</th>\n",
              "      <th>E_Heat</th>\n",
              "      <th>Price</th>\n",
              "      <th>Temperature</th>\n",
              "      <th>No. Occupants</th>\n",
              "    </tr>\n",
              "  </thead>\n",
              "  <tbody>\n",
              "    <tr>\n",
              "      <th>0</th>\n",
              "      <td>1</td>\n",
              "      <td>24.0</td>\n",
              "      <td>28</td>\n",
              "      <td>10</td>\n",
              "      <td>-15</td>\n",
              "      <td>12</td>\n",
              "    </tr>\n",
              "    <tr>\n",
              "      <th>1</th>\n",
              "      <td>2</td>\n",
              "      <td>17.0</td>\n",
              "      <td>32</td>\n",
              "      <td>12</td>\n",
              "      <td>-17</td>\n",
              "      <td>12</td>\n",
              "    </tr>\n",
              "    <tr>\n",
              "      <th>2</th>\n",
              "      <td>3</td>\n",
              "      <td>16.0</td>\n",
              "      <td>34</td>\n",
              "      <td>11</td>\n",
              "      <td>-19</td>\n",
              "      <td>12</td>\n",
              "    </tr>\n",
              "    <tr>\n",
              "      <th>3</th>\n",
              "      <td>3</td>\n",
              "      <td>16.0</td>\n",
              "      <td>34</td>\n",
              "      <td>11</td>\n",
              "      <td>-19</td>\n",
              "      <td>12</td>\n",
              "    </tr>\n",
              "    <tr>\n",
              "      <th>4</th>\n",
              "      <td>4</td>\n",
              "      <td>16.0</td>\n",
              "      <td>33</td>\n",
              "      <td>12</td>\n",
              "      <td>-18</td>\n",
              "      <td>12</td>\n",
              "    </tr>\n",
              "  </tbody>\n",
              "</table>\n",
              "</div>"
            ],
            "text/plain": [
              "   Time  E_Plug  E_Heat Price  Temperature  No. Occupants\n",
              "0     1    24.0      28    10          -15             12\n",
              "1     2    17.0      32    12          -17             12\n",
              "2     3    16.0      34    11          -19             12\n",
              "3     3    16.0      34    11          -19             12\n",
              "4     4    16.0      33    12          -18             12"
            ]
          },
          "metadata": {
            "tags": []
          },
          "execution_count": 87
        }
      ]
    },
    {
      "cell_type": "markdown",
      "metadata": {
        "id": "vdnFnJJs0POB"
      },
      "source": [
        "As we can see we delete the row. which are same. but the index our vary so we have corrrect them"
      ]
    },
    {
      "cell_type": "code",
      "metadata": {
        "colab": {
          "base_uri": "https://localhost:8080/",
          "height": 203
        },
        "id": "D82Bva1f0NTJ",
        "outputId": "d5bba0d4-9a3c-4dcd-ab39-01980ed59f2b"
      },
      "source": [
        "Corrt_index=Test_homedata2.reset_index(drop=True)\n",
        "Corrt_index.head()"
      ],
      "execution_count": 88,
      "outputs": [
        {
          "output_type": "execute_result",
          "data": {
            "text/html": [
              "<div>\n",
              "<style scoped>\n",
              "    .dataframe tbody tr th:only-of-type {\n",
              "        vertical-align: middle;\n",
              "    }\n",
              "\n",
              "    .dataframe tbody tr th {\n",
              "        vertical-align: top;\n",
              "    }\n",
              "\n",
              "    .dataframe thead th {\n",
              "        text-align: right;\n",
              "    }\n",
              "</style>\n",
              "<table border=\"1\" class=\"dataframe\">\n",
              "  <thead>\n",
              "    <tr style=\"text-align: right;\">\n",
              "      <th></th>\n",
              "      <th>Time</th>\n",
              "      <th>E_Plug</th>\n",
              "      <th>E_Heat</th>\n",
              "      <th>Price</th>\n",
              "      <th>Temperature</th>\n",
              "      <th>No. Occupants</th>\n",
              "    </tr>\n",
              "  </thead>\n",
              "  <tbody>\n",
              "    <tr>\n",
              "      <th>0</th>\n",
              "      <td>1</td>\n",
              "      <td>24.0</td>\n",
              "      <td>28</td>\n",
              "      <td>10</td>\n",
              "      <td>-15</td>\n",
              "      <td>12</td>\n",
              "    </tr>\n",
              "    <tr>\n",
              "      <th>1</th>\n",
              "      <td>2</td>\n",
              "      <td>17.0</td>\n",
              "      <td>32</td>\n",
              "      <td>12</td>\n",
              "      <td>-17</td>\n",
              "      <td>12</td>\n",
              "    </tr>\n",
              "    <tr>\n",
              "      <th>2</th>\n",
              "      <td>3</td>\n",
              "      <td>16.0</td>\n",
              "      <td>34</td>\n",
              "      <td>11</td>\n",
              "      <td>-19</td>\n",
              "      <td>12</td>\n",
              "    </tr>\n",
              "    <tr>\n",
              "      <th>3</th>\n",
              "      <td>3</td>\n",
              "      <td>16.0</td>\n",
              "      <td>34</td>\n",
              "      <td>11</td>\n",
              "      <td>-19</td>\n",
              "      <td>12</td>\n",
              "    </tr>\n",
              "    <tr>\n",
              "      <th>4</th>\n",
              "      <td>4</td>\n",
              "      <td>16.0</td>\n",
              "      <td>33</td>\n",
              "      <td>12</td>\n",
              "      <td>-18</td>\n",
              "      <td>12</td>\n",
              "    </tr>\n",
              "  </tbody>\n",
              "</table>\n",
              "</div>"
            ],
            "text/plain": [
              "   Time  E_Plug  E_Heat Price  Temperature  No. Occupants\n",
              "0     1    24.0      28    10          -15             12\n",
              "1     2    17.0      32    12          -17             12\n",
              "2     3    16.0      34    11          -19             12\n",
              "3     3    16.0      34    11          -19             12\n",
              "4     4    16.0      33    12          -18             12"
            ]
          },
          "metadata": {
            "tags": []
          },
          "execution_count": 88
        }
      ]
    },
    {
      "cell_type": "markdown",
      "metadata": {
        "id": "bCjUBETl02hb"
      },
      "source": [
        "We correct the indexes. all things are set."
      ]
    },
    {
      "cell_type": "markdown",
      "metadata": {
        "id": "y3IbKcuayhE5"
      },
      "source": [
        "# **Statistics**"
      ]
    },
    {
      "cell_type": "code",
      "metadata": {
        "colab": {
          "base_uri": "https://localhost:8080/",
          "height": 295
        },
        "id": "gY7bQAnwwVXH",
        "outputId": "93438503-397f-40b9-964d-b57b63aa5823"
      },
      "source": [
        "Test_homedata2.describe()"
      ],
      "execution_count": 89,
      "outputs": [
        {
          "output_type": "execute_result",
          "data": {
            "text/html": [
              "<div>\n",
              "<style scoped>\n",
              "    .dataframe tbody tr th:only-of-type {\n",
              "        vertical-align: middle;\n",
              "    }\n",
              "\n",
              "    .dataframe tbody tr th {\n",
              "        vertical-align: top;\n",
              "    }\n",
              "\n",
              "    .dataframe thead th {\n",
              "        text-align: right;\n",
              "    }\n",
              "</style>\n",
              "<table border=\"1\" class=\"dataframe\">\n",
              "  <thead>\n",
              "    <tr style=\"text-align: right;\">\n",
              "      <th></th>\n",
              "      <th>Time</th>\n",
              "      <th>E_Plug</th>\n",
              "      <th>E_Heat</th>\n",
              "      <th>Temperature</th>\n",
              "      <th>No. Occupants</th>\n",
              "    </tr>\n",
              "  </thead>\n",
              "  <tbody>\n",
              "    <tr>\n",
              "      <th>count</th>\n",
              "      <td>25.000000</td>\n",
              "      <td>24.000</td>\n",
              "      <td>25.000000</td>\n",
              "      <td>25.00000</td>\n",
              "      <td>25.000000</td>\n",
              "    </tr>\n",
              "    <tr>\n",
              "      <th>mean</th>\n",
              "      <td>12.120000</td>\n",
              "      <td>30.875</td>\n",
              "      <td>26.000000</td>\n",
              "      <td>-10.60000</td>\n",
              "      <td>9.560000</td>\n",
              "    </tr>\n",
              "    <tr>\n",
              "      <th>std</th>\n",
              "      <td>7.178208</td>\n",
              "      <td>21.107</td>\n",
              "      <td>9.219544</td>\n",
              "      <td>7.99479</td>\n",
              "      <td>2.987195</td>\n",
              "    </tr>\n",
              "    <tr>\n",
              "      <th>min</th>\n",
              "      <td>1.000000</td>\n",
              "      <td>16.000</td>\n",
              "      <td>-4.000000</td>\n",
              "      <td>-22.00000</td>\n",
              "      <td>4.000000</td>\n",
              "    </tr>\n",
              "    <tr>\n",
              "      <th>25%</th>\n",
              "      <td>6.000000</td>\n",
              "      <td>18.500</td>\n",
              "      <td>20.000000</td>\n",
              "      <td>-17.00000</td>\n",
              "      <td>8.000000</td>\n",
              "    </tr>\n",
              "    <tr>\n",
              "      <th>50%</th>\n",
              "      <td>12.000000</td>\n",
              "      <td>27.000</td>\n",
              "      <td>29.000000</td>\n",
              "      <td>-14.00000</td>\n",
              "      <td>12.000000</td>\n",
              "    </tr>\n",
              "    <tr>\n",
              "      <th>75%</th>\n",
              "      <td>18.000000</td>\n",
              "      <td>33.750</td>\n",
              "      <td>32.000000</td>\n",
              "      <td>-4.00000</td>\n",
              "      <td>12.000000</td>\n",
              "    </tr>\n",
              "    <tr>\n",
              "      <th>max</th>\n",
              "      <td>24.000000</td>\n",
              "      <td>120.000</td>\n",
              "      <td>36.000000</td>\n",
              "      <td>3.00000</td>\n",
              "      <td>12.000000</td>\n",
              "    </tr>\n",
              "  </tbody>\n",
              "</table>\n",
              "</div>"
            ],
            "text/plain": [
              "            Time   E_Plug     E_Heat  Temperature  No. Occupants\n",
              "count  25.000000   24.000  25.000000     25.00000      25.000000\n",
              "mean   12.120000   30.875  26.000000    -10.60000       9.560000\n",
              "std     7.178208   21.107   9.219544      7.99479       2.987195\n",
              "min     1.000000   16.000  -4.000000    -22.00000       4.000000\n",
              "25%     6.000000   18.500  20.000000    -17.00000       8.000000\n",
              "50%    12.000000   27.000  29.000000    -14.00000      12.000000\n",
              "75%    18.000000   33.750  32.000000     -4.00000      12.000000\n",
              "max    24.000000  120.000  36.000000      3.00000      12.000000"
            ]
          },
          "metadata": {
            "tags": []
          },
          "execution_count": 89
        }
      ]
    },
    {
      "cell_type": "markdown",
      "metadata": {
        "id": "AZDecEAz1bYO"
      },
      "source": [
        "This is our current data set information we have all things like mean, count, standard deviation and quartile too. In this We can see the missing value."
      ]
    },
    {
      "cell_type": "code",
      "metadata": {
        "colab": {
          "base_uri": "https://localhost:8080/"
        },
        "id": "Lj9bT2OD1Jsj",
        "outputId": "db7b3df4-903c-4eba-cab4-1db2ea21aba7"
      },
      "source": [
        "Test_homedata2.info()"
      ],
      "execution_count": 90,
      "outputs": [
        {
          "output_type": "stream",
          "text": [
            "<class 'pandas.core.frame.DataFrame'>\n",
            "RangeIndex: 25 entries, 0 to 24\n",
            "Data columns (total 6 columns):\n",
            " #   Column         Non-Null Count  Dtype  \n",
            "---  ------         --------------  -----  \n",
            " 0   Time           25 non-null     int64  \n",
            " 1   E_Plug         24 non-null     float64\n",
            " 2   E_Heat         25 non-null     int64  \n",
            " 3   Price          25 non-null     object \n",
            " 4   Temperature    25 non-null     int64  \n",
            " 5   No. Occupants  25 non-null     int64  \n",
            "dtypes: float64(1), int64(4), object(1)\n",
            "memory usage: 1.3+ KB\n"
          ],
          "name": "stdout"
        }
      ]
    },
    {
      "cell_type": "markdown",
      "metadata": {
        "id": "P-1peGJd1-sP"
      },
      "source": [
        "We can use info to easily the missing values in our data set. In E_Plug we have missing value"
      ]
    },
    {
      "cell_type": "markdown",
      "metadata": {
        "id": "uN1OXANp2i1z"
      },
      "source": [
        "Now we find minimum in our data"
      ]
    },
    {
      "cell_type": "code",
      "metadata": {
        "colab": {
          "base_uri": "https://localhost:8080/"
        },
        "id": "pjochX1314Tj",
        "outputId": "86e9638b-4279-41b1-a081-5a3891d8f24c"
      },
      "source": [
        "Min_value=Test_homedata2['E_Heat'].min()\n",
        "Test_homedata2['E_Heat'][Test_homedata2['E_Heat']==Min_value]"
      ],
      "execution_count": 91,
      "outputs": [
        {
          "output_type": "execute_result",
          "data": {
            "text/plain": [
              "17   -4\n",
              "Name: E_Heat, dtype: int64"
            ]
          },
          "metadata": {
            "tags": []
          },
          "execution_count": 91
        }
      ]
    },
    {
      "cell_type": "markdown",
      "metadata": {
        "id": "oUioWS8l4Icl"
      },
      "source": [
        "Test_homedata2['E_Heat'] this command says - Go to the Test_homedata2 dataset \n",
        "\n",
        "[Test_homedata2['E_Heat']==Min_value] this will say - In this data set find minimum value"
      ]
    },
    {
      "cell_type": "markdown",
      "metadata": {
        "id": "marn3ZMN4g3D"
      },
      "source": [
        "Now we replace that minimum that is -4 to 25"
      ]
    },
    {
      "cell_type": "code",
      "metadata": {
        "colab": {
          "base_uri": "https://localhost:8080/",
          "height": 203
        },
        "id": "9wMIix_k22u4",
        "outputId": "681b3ad9-8085-464d-d1ed-9c573261b37a"
      },
      "source": [
        "Test_homedata2.replace(-4,25,inplace=True)\n",
        "Test_homedata2.head(5)"
      ],
      "execution_count": 92,
      "outputs": [
        {
          "output_type": "execute_result",
          "data": {
            "text/html": [
              "<div>\n",
              "<style scoped>\n",
              "    .dataframe tbody tr th:only-of-type {\n",
              "        vertical-align: middle;\n",
              "    }\n",
              "\n",
              "    .dataframe tbody tr th {\n",
              "        vertical-align: top;\n",
              "    }\n",
              "\n",
              "    .dataframe thead th {\n",
              "        text-align: right;\n",
              "    }\n",
              "</style>\n",
              "<table border=\"1\" class=\"dataframe\">\n",
              "  <thead>\n",
              "    <tr style=\"text-align: right;\">\n",
              "      <th></th>\n",
              "      <th>Time</th>\n",
              "      <th>E_Plug</th>\n",
              "      <th>E_Heat</th>\n",
              "      <th>Price</th>\n",
              "      <th>Temperature</th>\n",
              "      <th>No. Occupants</th>\n",
              "    </tr>\n",
              "  </thead>\n",
              "  <tbody>\n",
              "    <tr>\n",
              "      <th>0</th>\n",
              "      <td>1</td>\n",
              "      <td>24.0</td>\n",
              "      <td>28</td>\n",
              "      <td>10</td>\n",
              "      <td>-15</td>\n",
              "      <td>12</td>\n",
              "    </tr>\n",
              "    <tr>\n",
              "      <th>1</th>\n",
              "      <td>2</td>\n",
              "      <td>17.0</td>\n",
              "      <td>32</td>\n",
              "      <td>12</td>\n",
              "      <td>-17</td>\n",
              "      <td>12</td>\n",
              "    </tr>\n",
              "    <tr>\n",
              "      <th>2</th>\n",
              "      <td>3</td>\n",
              "      <td>16.0</td>\n",
              "      <td>34</td>\n",
              "      <td>11</td>\n",
              "      <td>-19</td>\n",
              "      <td>12</td>\n",
              "    </tr>\n",
              "    <tr>\n",
              "      <th>3</th>\n",
              "      <td>3</td>\n",
              "      <td>16.0</td>\n",
              "      <td>34</td>\n",
              "      <td>11</td>\n",
              "      <td>-19</td>\n",
              "      <td>12</td>\n",
              "    </tr>\n",
              "    <tr>\n",
              "      <th>4</th>\n",
              "      <td>4</td>\n",
              "      <td>16.0</td>\n",
              "      <td>33</td>\n",
              "      <td>12</td>\n",
              "      <td>-18</td>\n",
              "      <td>12</td>\n",
              "    </tr>\n",
              "  </tbody>\n",
              "</table>\n",
              "</div>"
            ],
            "text/plain": [
              "   Time  E_Plug  E_Heat Price  Temperature  No. Occupants\n",
              "0     1    24.0      28    10          -15             12\n",
              "1     2    17.0      32    12          -17             12\n",
              "2     3    16.0      34    11          -19             12\n",
              "3     3    16.0      34    11          -19             12\n",
              "4     4    16.0      33    12          -18             12"
            ]
          },
          "metadata": {
            "tags": []
          },
          "execution_count": 92
        }
      ]
    },
    {
      "cell_type": "markdown",
      "metadata": {
        "id": "1061XF3t5Q12"
      },
      "source": [
        "#Covariance"
      ]
    },
    {
      "cell_type": "code",
      "metadata": {
        "colab": {
          "base_uri": "https://localhost:8080/",
          "height": 203
        },
        "id": "iWlINyUs4wmw",
        "outputId": "ee49010d-f3bb-420e-d74d-5e7f1e3986a1"
      },
      "source": [
        "Test_homedata2.cov()"
      ],
      "execution_count": 93,
      "outputs": [
        {
          "output_type": "execute_result",
          "data": {
            "text/html": [
              "<div>\n",
              "<style scoped>\n",
              "    .dataframe tbody tr th:only-of-type {\n",
              "        vertical-align: middle;\n",
              "    }\n",
              "\n",
              "    .dataframe tbody tr th {\n",
              "        vertical-align: top;\n",
              "    }\n",
              "\n",
              "    .dataframe thead th {\n",
              "        text-align: right;\n",
              "    }\n",
              "</style>\n",
              "<table border=\"1\" class=\"dataframe\">\n",
              "  <thead>\n",
              "    <tr style=\"text-align: right;\">\n",
              "      <th></th>\n",
              "      <th>Time</th>\n",
              "      <th>E_Plug</th>\n",
              "      <th>E_Heat</th>\n",
              "      <th>Temperature</th>\n",
              "      <th>No. Occupants</th>\n",
              "    </tr>\n",
              "  </thead>\n",
              "  <tbody>\n",
              "    <tr>\n",
              "      <th>Time</th>\n",
              "      <td>51.526667</td>\n",
              "      <td>90.788043</td>\n",
              "      <td>-2.436667</td>\n",
              "      <td>9.846667</td>\n",
              "      <td>-3.361667</td>\n",
              "    </tr>\n",
              "    <tr>\n",
              "      <th>E_Plug</th>\n",
              "      <td>90.788043</td>\n",
              "      <td>445.505435</td>\n",
              "      <td>19.880435</td>\n",
              "      <td>0.576087</td>\n",
              "      <td>5.885870</td>\n",
              "    </tr>\n",
              "    <tr>\n",
              "      <th>E_Heat</th>\n",
              "      <td>-2.436667</td>\n",
              "      <td>19.880435</td>\n",
              "      <td>46.140000</td>\n",
              "      <td>-58.510000</td>\n",
              "      <td>18.781667</td>\n",
              "    </tr>\n",
              "    <tr>\n",
              "      <th>Temperature</th>\n",
              "      <td>9.846667</td>\n",
              "      <td>0.576087</td>\n",
              "      <td>-58.510000</td>\n",
              "      <td>113.506667</td>\n",
              "      <td>-23.701667</td>\n",
              "    </tr>\n",
              "    <tr>\n",
              "      <th>No. Occupants</th>\n",
              "      <td>-3.361667</td>\n",
              "      <td>5.885870</td>\n",
              "      <td>18.781667</td>\n",
              "      <td>-23.701667</td>\n",
              "      <td>8.923333</td>\n",
              "    </tr>\n",
              "  </tbody>\n",
              "</table>\n",
              "</div>"
            ],
            "text/plain": [
              "                    Time      E_Plug     E_Heat  Temperature  No. Occupants\n",
              "Time           51.526667   90.788043  -2.436667     9.846667      -3.361667\n",
              "E_Plug         90.788043  445.505435  19.880435     0.576087       5.885870\n",
              "E_Heat         -2.436667   19.880435  46.140000   -58.510000      18.781667\n",
              "Temperature     9.846667    0.576087 -58.510000   113.506667     -23.701667\n",
              "No. Occupants  -3.361667    5.885870  18.781667   -23.701667       8.923333"
            ]
          },
          "metadata": {
            "tags": []
          },
          "execution_count": 93
        }
      ]
    },
    {
      "cell_type": "markdown",
      "metadata": {
        "id": "26D50u1_73sO"
      },
      "source": [
        "This is shows the columns variable how they are realtion to each other but its not easy to understand that's why we are using another method."
      ]
    },
    {
      "cell_type": "code",
      "metadata": {
        "colab": {
          "base_uri": "https://localhost:8080/",
          "height": 349
        },
        "id": "XOttogle7qMR",
        "outputId": "b42f9c4f-8761-43a2-cfad-6cb2b54bd9ba"
      },
      "source": [
        "sns.heatmap(Test_homedata2.corr())"
      ],
      "execution_count": 94,
      "outputs": [
        {
          "output_type": "execute_result",
          "data": {
            "text/plain": [
              "<matplotlib.axes._subplots.AxesSubplot at 0x7f10a80fd950>"
            ]
          },
          "metadata": {
            "tags": []
          },
          "execution_count": 94
        },
        {
          "output_type": "display_data",
          "data": {
            "image/png": "[encoded data removed]",
            "text/plain": [
              "<Figure size 432x288 with 2 Axes>"
            ]
          },
          "metadata": {
            "tags": [],
            "needs_background": "light"
          }
        }
      ]
    },
    {
      "cell_type": "markdown",
      "metadata": {
        "id": "PRmf829W8jTx"
      },
      "source": [
        "Now how beautiful to see the relation between variables"
      ]
    },
    {
      "cell_type": "markdown",
      "metadata": {
        "id": "116oiT7M-g9O"
      },
      "source": [
        "#Missing Value"
      ]
    },
    {
      "cell_type": "code",
      "metadata": {
        "colab": {
          "base_uri": "https://localhost:8080/"
        },
        "id": "YfVj4ceM8aTh",
        "outputId": "f199fb42-dbac-4d3a-95a3-6b8e94848c2d"
      },
      "source": [
        "Test_homedata2.info()"
      ],
      "execution_count": 95,
      "outputs": [
        {
          "output_type": "stream",
          "text": [
            "<class 'pandas.core.frame.DataFrame'>\n",
            "RangeIndex: 25 entries, 0 to 24\n",
            "Data columns (total 6 columns):\n",
            " #   Column         Non-Null Count  Dtype  \n",
            "---  ------         --------------  -----  \n",
            " 0   Time           25 non-null     int64  \n",
            " 1   E_Plug         24 non-null     float64\n",
            " 2   E_Heat         25 non-null     int64  \n",
            " 3   Price          25 non-null     object \n",
            " 4   Temperature    25 non-null     int64  \n",
            " 5   No. Occupants  25 non-null     int64  \n",
            "dtypes: float64(1), int64(4), object(1)\n",
            "memory usage: 1.3+ KB\n"
          ],
          "name": "stdout"
        }
      ]
    },
    {
      "cell_type": "markdown",
      "metadata": {
        "id": "EuA9n-6Y-shC"
      },
      "source": [
        "Now we have missing value in E_Plug column"
      ]
    },
    {
      "cell_type": "code",
      "metadata": {
        "colab": {
          "base_uri": "https://localhost:8080/",
          "height": 819
        },
        "id": "zAwq6zOd-pee",
        "outputId": "38831c5f-7db4-4930-96f7-06bb685fadb6"
      },
      "source": [
        "Reple_data=Test_homedata2.replace('!',np.NaN)\n",
        "Reple_data.head(25)"
      ],
      "execution_count": 96,
      "outputs": [
        {
          "output_type": "execute_result",
          "data": {
            "text/html": [
              "<div>\n",
              "<style scoped>\n",
              "    .dataframe tbody tr th:only-of-type {\n",
              "        vertical-align: middle;\n",
              "    }\n",
              "\n",
              "    .dataframe tbody tr th {\n",
              "        vertical-align: top;\n",
              "    }\n",
              "\n",
              "    .dataframe thead th {\n",
              "        text-align: right;\n",
              "    }\n",
              "</style>\n",
              "<table border=\"1\" class=\"dataframe\">\n",
              "  <thead>\n",
              "    <tr style=\"text-align: right;\">\n",
              "      <th></th>\n",
              "      <th>Time</th>\n",
              "      <th>E_Plug</th>\n",
              "      <th>E_Heat</th>\n",
              "      <th>Price</th>\n",
              "      <th>Temperature</th>\n",
              "      <th>No. Occupants</th>\n",
              "    </tr>\n",
              "  </thead>\n",
              "  <tbody>\n",
              "    <tr>\n",
              "      <th>0</th>\n",
              "      <td>1</td>\n",
              "      <td>24.0</td>\n",
              "      <td>28</td>\n",
              "      <td>10</td>\n",
              "      <td>-15</td>\n",
              "      <td>12</td>\n",
              "    </tr>\n",
              "    <tr>\n",
              "      <th>1</th>\n",
              "      <td>2</td>\n",
              "      <td>17.0</td>\n",
              "      <td>32</td>\n",
              "      <td>12</td>\n",
              "      <td>-17</td>\n",
              "      <td>12</td>\n",
              "    </tr>\n",
              "    <tr>\n",
              "      <th>2</th>\n",
              "      <td>3</td>\n",
              "      <td>16.0</td>\n",
              "      <td>34</td>\n",
              "      <td>11</td>\n",
              "      <td>-19</td>\n",
              "      <td>12</td>\n",
              "    </tr>\n",
              "    <tr>\n",
              "      <th>3</th>\n",
              "      <td>3</td>\n",
              "      <td>16.0</td>\n",
              "      <td>34</td>\n",
              "      <td>11</td>\n",
              "      <td>-19</td>\n",
              "      <td>12</td>\n",
              "    </tr>\n",
              "    <tr>\n",
              "      <th>4</th>\n",
              "      <td>4</td>\n",
              "      <td>16.0</td>\n",
              "      <td>33</td>\n",
              "      <td>12</td>\n",
              "      <td>-18</td>\n",
              "      <td>12</td>\n",
              "    </tr>\n",
              "    <tr>\n",
              "      <th>5</th>\n",
              "      <td>5</td>\n",
              "      <td>16.0</td>\n",
              "      <td>30</td>\n",
              "      <td>10</td>\n",
              "      <td>-14</td>\n",
              "      <td>12</td>\n",
              "    </tr>\n",
              "    <tr>\n",
              "      <th>6</th>\n",
              "      <td>6</td>\n",
              "      <td>16.0</td>\n",
              "      <td>31</td>\n",
              "      <td>10</td>\n",
              "      <td>-16</td>\n",
              "      <td>12</td>\n",
              "    </tr>\n",
              "    <tr>\n",
              "      <th>7</th>\n",
              "      <td>7</td>\n",
              "      <td>19.0</td>\n",
              "      <td>28</td>\n",
              "      <td>14</td>\n",
              "      <td>-14</td>\n",
              "      <td>12</td>\n",
              "    </tr>\n",
              "    <tr>\n",
              "      <th>8</th>\n",
              "      <td>8</td>\n",
              "      <td>22.0</td>\n",
              "      <td>29</td>\n",
              "      <td>12</td>\n",
              "      <td>-15</td>\n",
              "      <td>9</td>\n",
              "    </tr>\n",
              "    <tr>\n",
              "      <th>9</th>\n",
              "      <td>9</td>\n",
              "      <td>25.0</td>\n",
              "      <td>26</td>\n",
              "      <td>12</td>\n",
              "      <td>-12</td>\n",
              "      <td>8</td>\n",
              "    </tr>\n",
              "    <tr>\n",
              "      <th>10</th>\n",
              "      <td>10</td>\n",
              "      <td>26.0</td>\n",
              "      <td>24</td>\n",
              "      <td>14</td>\n",
              "      <td>-8</td>\n",
              "      <td>8</td>\n",
              "    </tr>\n",
              "    <tr>\n",
              "      <th>11</th>\n",
              "      <td>11</td>\n",
              "      <td>27.0</td>\n",
              "      <td>20</td>\n",
              "      <td>14</td>\n",
              "      <td>25</td>\n",
              "      <td>8</td>\n",
              "    </tr>\n",
              "    <tr>\n",
              "      <th>12</th>\n",
              "      <td>12</td>\n",
              "      <td>30.0</td>\n",
              "      <td>19</td>\n",
              "      <td>16</td>\n",
              "      <td>0</td>\n",
              "      <td>5</td>\n",
              "    </tr>\n",
              "    <tr>\n",
              "      <th>13</th>\n",
              "      <td>13</td>\n",
              "      <td>30.0</td>\n",
              "      <td>19</td>\n",
              "      <td>16</td>\n",
              "      <td>0</td>\n",
              "      <td>4</td>\n",
              "    </tr>\n",
              "    <tr>\n",
              "      <th>14</th>\n",
              "      <td>14</td>\n",
              "      <td>NaN</td>\n",
              "      <td>13</td>\n",
              "      <td>17</td>\n",
              "      <td>2</td>\n",
              "      <td>4</td>\n",
              "    </tr>\n",
              "    <tr>\n",
              "      <th>15</th>\n",
              "      <td>15</td>\n",
              "      <td>27.0</td>\n",
              "      <td>14</td>\n",
              "      <td>17</td>\n",
              "      <td>3</td>\n",
              "      <td>4</td>\n",
              "    </tr>\n",
              "    <tr>\n",
              "      <th>16</th>\n",
              "      <td>16</td>\n",
              "      <td>27.0</td>\n",
              "      <td>16</td>\n",
              "      <td>17</td>\n",
              "      <td>2</td>\n",
              "      <td>6</td>\n",
              "    </tr>\n",
              "    <tr>\n",
              "      <th>17</th>\n",
              "      <td>17</td>\n",
              "      <td>28.0</td>\n",
              "      <td>25</td>\n",
              "      <td>18</td>\n",
              "      <td>0</td>\n",
              "      <td>8</td>\n",
              "    </tr>\n",
              "    <tr>\n",
              "      <th>18</th>\n",
              "      <td>18</td>\n",
              "      <td>33.0</td>\n",
              "      <td>26</td>\n",
              "      <td>20</td>\n",
              "      <td>-6</td>\n",
              "      <td>9</td>\n",
              "    </tr>\n",
              "    <tr>\n",
              "      <th>19</th>\n",
              "      <td>19</td>\n",
              "      <td>42.0</td>\n",
              "      <td>32</td>\n",
              "      <td>21</td>\n",
              "      <td>-8</td>\n",
              "      <td>10</td>\n",
              "    </tr>\n",
              "    <tr>\n",
              "      <th>20</th>\n",
              "      <td>20</td>\n",
              "      <td>120.0</td>\n",
              "      <td>33</td>\n",
              "      <td>21</td>\n",
              "      <td>-12</td>\n",
              "      <td>12</td>\n",
              "    </tr>\n",
              "    <tr>\n",
              "      <th>21</th>\n",
              "      <td>21</td>\n",
              "      <td>47.0</td>\n",
              "      <td>32</td>\n",
              "      <td>21</td>\n",
              "      <td>-16</td>\n",
              "      <td>12</td>\n",
              "    </tr>\n",
              "    <tr>\n",
              "      <th>22</th>\n",
              "      <td>22</td>\n",
              "      <td>44.0</td>\n",
              "      <td>30</td>\n",
              "      <td>22</td>\n",
              "      <td>-18</td>\n",
              "      <td>12</td>\n",
              "    </tr>\n",
              "    <tr>\n",
              "      <th>23</th>\n",
              "      <td>23</td>\n",
              "      <td>36.0</td>\n",
              "      <td>35</td>\n",
              "      <td>NaN</td>\n",
              "      <td>-19</td>\n",
              "      <td>12</td>\n",
              "    </tr>\n",
              "    <tr>\n",
              "      <th>24</th>\n",
              "      <td>24</td>\n",
              "      <td>37.0</td>\n",
              "      <td>36</td>\n",
              "      <td>18</td>\n",
              "      <td>-22</td>\n",
              "      <td>12</td>\n",
              "    </tr>\n",
              "  </tbody>\n",
              "</table>\n",
              "</div>"
            ],
            "text/plain": [
              "    Time  E_Plug  E_Heat Price  Temperature  No. Occupants\n",
              "0      1    24.0      28    10          -15             12\n",
              "1      2    17.0      32    12          -17             12\n",
              "2      3    16.0      34    11          -19             12\n",
              "3      3    16.0      34    11          -19             12\n",
              "4      4    16.0      33    12          -18             12\n",
              "5      5    16.0      30    10          -14             12\n",
              "6      6    16.0      31    10          -16             12\n",
              "7      7    19.0      28    14          -14             12\n",
              "8      8    22.0      29    12          -15              9\n",
              "9      9    25.0      26    12          -12              8\n",
              "10    10    26.0      24    14           -8              8\n",
              "11    11    27.0      20    14           25              8\n",
              "12    12    30.0      19    16            0              5\n",
              "13    13    30.0      19    16            0              4\n",
              "14    14     NaN      13    17            2              4\n",
              "15    15    27.0      14    17            3              4\n",
              "16    16    27.0      16    17            2              6\n",
              "17    17    28.0      25    18            0              8\n",
              "18    18    33.0      26    20           -6              9\n",
              "19    19    42.0      32    21           -8             10\n",
              "20    20   120.0      33    21          -12             12\n",
              "21    21    47.0      32    21          -16             12\n",
              "22    22    44.0      30    22          -18             12\n",
              "23    23    36.0      35   NaN          -19             12\n",
              "24    24    37.0      36    18          -22             12"
            ]
          },
          "metadata": {
            "tags": []
          },
          "execution_count": 96
        }
      ]
    },
    {
      "cell_type": "code",
      "metadata": {
        "colab": {
          "base_uri": "https://localhost:8080/",
          "height": 819
        },
        "id": "zRwiSqXp_xse",
        "outputId": "6b3f152f-f47f-436b-acb5-6a451af28a62"
      },
      "source": [
        "Reple_data.isnull()"
      ],
      "execution_count": 97,
      "outputs": [
        {
          "output_type": "execute_result",
          "data": {
            "text/html": [
              "<div>\n",
              "<style scoped>\n",
              "    .dataframe tbody tr th:only-of-type {\n",
              "        vertical-align: middle;\n",
              "    }\n",
              "\n",
              "    .dataframe tbody tr th {\n",
              "        vertical-align: top;\n",
              "    }\n",
              "\n",
              "    .dataframe thead th {\n",
              "        text-align: right;\n",
              "    }\n",
              "</style>\n",
              "<table border=\"1\" class=\"dataframe\">\n",
              "  <thead>\n",
              "    <tr style=\"text-align: right;\">\n",
              "      <th></th>\n",
              "      <th>Time</th>\n",
              "      <th>E_Plug</th>\n",
              "      <th>E_Heat</th>\n",
              "      <th>Price</th>\n",
              "      <th>Temperature</th>\n",
              "      <th>No. Occupants</th>\n",
              "    </tr>\n",
              "  </thead>\n",
              "  <tbody>\n",
              "    <tr>\n",
              "      <th>0</th>\n",
              "      <td>False</td>\n",
              "      <td>False</td>\n",
              "      <td>False</td>\n",
              "      <td>False</td>\n",
              "      <td>False</td>\n",
              "      <td>False</td>\n",
              "    </tr>\n",
              "    <tr>\n",
              "      <th>1</th>\n",
              "      <td>False</td>\n",
              "      <td>False</td>\n",
              "      <td>False</td>\n",
              "      <td>False</td>\n",
              "      <td>False</td>\n",
              "      <td>False</td>\n",
              "    </tr>\n",
              "    <tr>\n",
              "      <th>2</th>\n",
              "      <td>False</td>\n",
              "      <td>False</td>\n",
              "      <td>False</td>\n",
              "      <td>False</td>\n",
              "      <td>False</td>\n",
              "      <td>False</td>\n",
              "    </tr>\n",
              "    <tr>\n",
              "      <th>3</th>\n",
              "      <td>False</td>\n",
              "      <td>False</td>\n",
              "      <td>False</td>\n",
              "      <td>False</td>\n",
              "      <td>False</td>\n",
              "      <td>False</td>\n",
              "    </tr>\n",
              "    <tr>\n",
              "      <th>4</th>\n",
              "      <td>False</td>\n",
              "      <td>False</td>\n",
              "      <td>False</td>\n",
              "      <td>False</td>\n",
              "      <td>False</td>\n",
              "      <td>False</td>\n",
              "    </tr>\n",
              "    <tr>\n",
              "      <th>5</th>\n",
              "      <td>False</td>\n",
              "      <td>False</td>\n",
              "      <td>False</td>\n",
              "      <td>False</td>\n",
              "      <td>False</td>\n",
              "      <td>False</td>\n",
              "    </tr>\n",
              "    <tr>\n",
              "      <th>6</th>\n",
              "      <td>False</td>\n",
              "      <td>False</td>\n",
              "      <td>False</td>\n",
              "      <td>False</td>\n",
              "      <td>False</td>\n",
              "      <td>False</td>\n",
              "    </tr>\n",
              "    <tr>\n",
              "      <th>7</th>\n",
              "      <td>False</td>\n",
              "      <td>False</td>\n",
              "      <td>False</td>\n",
              "      <td>False</td>\n",
              "      <td>False</td>\n",
              "      <td>False</td>\n",
              "    </tr>\n",
              "    <tr>\n",
              "      <th>8</th>\n",
              "      <td>False</td>\n",
              "      <td>False</td>\n",
              "      <td>False</td>\n",
              "      <td>False</td>\n",
              "      <td>False</td>\n",
              "      <td>False</td>\n",
              "    </tr>\n",
              "    <tr>\n",
              "      <th>9</th>\n",
              "      <td>False</td>\n",
              "      <td>False</td>\n",
              "      <td>False</td>\n",
              "      <td>False</td>\n",
              "      <td>False</td>\n",
              "      <td>False</td>\n",
              "    </tr>\n",
              "    <tr>\n",
              "      <th>10</th>\n",
              "      <td>False</td>\n",
              "      <td>False</td>\n",
              "      <td>False</td>\n",
              "      <td>False</td>\n",
              "      <td>False</td>\n",
              "      <td>False</td>\n",
              "    </tr>\n",
              "    <tr>\n",
              "      <th>11</th>\n",
              "      <td>False</td>\n",
              "      <td>False</td>\n",
              "      <td>False</td>\n",
              "      <td>False</td>\n",
              "      <td>False</td>\n",
              "      <td>False</td>\n",
              "    </tr>\n",
              "    <tr>\n",
              "      <th>12</th>\n",
              "      <td>False</td>\n",
              "      <td>False</td>\n",
              "      <td>False</td>\n",
              "      <td>False</td>\n",
              "      <td>False</td>\n",
              "      <td>False</td>\n",
              "    </tr>\n",
              "    <tr>\n",
              "      <th>13</th>\n",
              "      <td>False</td>\n",
              "      <td>False</td>\n",
              "      <td>False</td>\n",
              "      <td>False</td>\n",
              "      <td>False</td>\n",
              "      <td>False</td>\n",
              "    </tr>\n",
              "    <tr>\n",
              "      <th>14</th>\n",
              "      <td>False</td>\n",
              "      <td>True</td>\n",
              "      <td>False</td>\n",
              "      <td>False</td>\n",
              "      <td>False</td>\n",
              "      <td>False</td>\n",
              "    </tr>\n",
              "    <tr>\n",
              "      <th>15</th>\n",
              "      <td>False</td>\n",
              "      <td>False</td>\n",
              "      <td>False</td>\n",
              "      <td>False</td>\n",
              "      <td>False</td>\n",
              "      <td>False</td>\n",
              "    </tr>\n",
              "    <tr>\n",
              "      <th>16</th>\n",
              "      <td>False</td>\n",
              "      <td>False</td>\n",
              "      <td>False</td>\n",
              "      <td>False</td>\n",
              "      <td>False</td>\n",
              "      <td>False</td>\n",
              "    </tr>\n",
              "    <tr>\n",
              "      <th>17</th>\n",
              "      <td>False</td>\n",
              "      <td>False</td>\n",
              "      <td>False</td>\n",
              "      <td>False</td>\n",
              "      <td>False</td>\n",
              "      <td>False</td>\n",
              "    </tr>\n",
              "    <tr>\n",
              "      <th>18</th>\n",
              "      <td>False</td>\n",
              "      <td>False</td>\n",
              "      <td>False</td>\n",
              "      <td>False</td>\n",
              "      <td>False</td>\n",
              "      <td>False</td>\n",
              "    </tr>\n",
              "    <tr>\n",
              "      <th>19</th>\n",
              "      <td>False</td>\n",
              "      <td>False</td>\n",
              "      <td>False</td>\n",
              "      <td>False</td>\n",
              "      <td>False</td>\n",
              "      <td>False</td>\n",
              "    </tr>\n",
              "    <tr>\n",
              "      <th>20</th>\n",
              "      <td>False</td>\n",
              "      <td>False</td>\n",
              "      <td>False</td>\n",
              "      <td>False</td>\n",
              "      <td>False</td>\n",
              "      <td>False</td>\n",
              "    </tr>\n",
              "    <tr>\n",
              "      <th>21</th>\n",
              "      <td>False</td>\n",
              "      <td>False</td>\n",
              "      <td>False</td>\n",
              "      <td>False</td>\n",
              "      <td>False</td>\n",
              "      <td>False</td>\n",
              "    </tr>\n",
              "    <tr>\n",
              "      <th>22</th>\n",
              "      <td>False</td>\n",
              "      <td>False</td>\n",
              "      <td>False</td>\n",
              "      <td>False</td>\n",
              "      <td>False</td>\n",
              "      <td>False</td>\n",
              "    </tr>\n",
              "    <tr>\n",
              "      <th>23</th>\n",
              "      <td>False</td>\n",
              "      <td>False</td>\n",
              "      <td>False</td>\n",
              "      <td>True</td>\n",
              "      <td>False</td>\n",
              "      <td>False</td>\n",
              "    </tr>\n",
              "    <tr>\n",
              "      <th>24</th>\n",
              "      <td>False</td>\n",
              "      <td>False</td>\n",
              "      <td>False</td>\n",
              "      <td>False</td>\n",
              "      <td>False</td>\n",
              "      <td>False</td>\n",
              "    </tr>\n",
              "  </tbody>\n",
              "</table>\n",
              "</div>"
            ],
            "text/plain": [
              "     Time  E_Plug  E_Heat  Price  Temperature  No. Occupants\n",
              "0   False   False   False  False        False          False\n",
              "1   False   False   False  False        False          False\n",
              "2   False   False   False  False        False          False\n",
              "3   False   False   False  False        False          False\n",
              "4   False   False   False  False        False          False\n",
              "5   False   False   False  False        False          False\n",
              "6   False   False   False  False        False          False\n",
              "7   False   False   False  False        False          False\n",
              "8   False   False   False  False        False          False\n",
              "9   False   False   False  False        False          False\n",
              "10  False   False   False  False        False          False\n",
              "11  False   False   False  False        False          False\n",
              "12  False   False   False  False        False          False\n",
              "13  False   False   False  False        False          False\n",
              "14  False    True   False  False        False          False\n",
              "15  False   False   False  False        False          False\n",
              "16  False   False   False  False        False          False\n",
              "17  False   False   False  False        False          False\n",
              "18  False   False   False  False        False          False\n",
              "19  False   False   False  False        False          False\n",
              "20  False   False   False  False        False          False\n",
              "21  False   False   False  False        False          False\n",
              "22  False   False   False  False        False          False\n",
              "23  False   False   False   True        False          False\n",
              "24  False   False   False  False        False          False"
            ]
          },
          "metadata": {
            "tags": []
          },
          "execution_count": 97
        }
      ]
    },
    {
      "cell_type": "code",
      "metadata": {
        "colab": {
          "base_uri": "https://localhost:8080/"
        },
        "id": "slYEZk05AS5b",
        "outputId": "7ad3c3cf-da34-4743-f605-f29d1547eb91"
      },
      "source": [
        "Reple_data.isnull().sum()"
      ],
      "execution_count": 98,
      "outputs": [
        {
          "output_type": "execute_result",
          "data": {
            "text/plain": [
              "Time             0\n",
              "E_Plug           1\n",
              "E_Heat           0\n",
              "Price            1\n",
              "Temperature      0\n",
              "No. Occupants    0\n",
              "dtype: int64"
            ]
          },
          "metadata": {
            "tags": []
          },
          "execution_count": 98
        }
      ]
    },
    {
      "cell_type": "markdown",
      "metadata": {
        "id": "GGj5uEFkAgSb"
      },
      "source": [
        "This will show how much values are missing or as a NaN. we have to change or replace"
      ]
    },
    {
      "cell_type": "markdown",
      "metadata": {
        "id": "m0XRhBKhBCl-"
      },
      "source": [
        "We have a small data set so we can see that which columns or row have missing values"
      ]
    },
    {
      "cell_type": "code",
      "metadata": {
        "id": "pBFYOFv5AahD"
      },
      "source": [
        "Reple_data.drop(13,axis=0,inplace=True)\n",
        "Reple_data.dropna(axis=0,inplace=True)"
      ],
      "execution_count": 99,
      "outputs": []
    },
    {
      "cell_type": "code",
      "metadata": {
        "id": "tVh35SvABa4p"
      },
      "source": [
        "Fill_data=Reple_data.fillna(method='ffill')\n",
        "M_val=SimpleImputer(missing_values=np.nan,strategy='mean')"
      ],
      "execution_count": 100,
      "outputs": []
    },
    {
      "cell_type": "markdown",
      "metadata": {
        "id": "befSErpVESNE"
      },
      "source": [
        "SimpleImputer is a methtod to fill the missing values in sklearn libraries"
      ]
    },
    {
      "cell_type": "code",
      "metadata": {
        "id": "uzXNL5gQByXb"
      },
      "source": [
        "M_val.fit(Reple_data)\n",
        "Trans_data=M_val.transform(Reple_data)"
      ],
      "execution_count": 101,
      "outputs": []
    },
    {
      "cell_type": "markdown",
      "metadata": {
        "id": "b5VuTP1bPjCt"
      },
      "source": [
        "#Outlier"
      ]
    },
    {
      "cell_type": "code",
      "metadata": {
        "id": "ssQudZ10GM0F",
        "colab": {
          "base_uri": "https://localhost:8080/",
          "height": 266
        },
        "outputId": "7ef98420-103e-44e6-8d22-2ecec79d415d"
      },
      "source": [
        "Boxplot_filldata=Fill_data.boxplot()"
      ],
      "execution_count": 102,
      "outputs": [
        {
          "output_type": "display_data",
          "data": {
            "image/png": "[encoded data removed]",
            "text/plain": [
              "<Figure size 432x288 with 1 Axes>"
            ]
          },
          "metadata": {
            "tags": [],
            "needs_background": "light"
          }
        }
      ]
    },
    {
      "cell_type": "markdown",
      "metadata": {
        "id": "6p_4b5-tRUaW"
      },
      "source": [
        "As we can see in E_Plug there is maybe a outlier."
      ]
    },
    {
      "cell_type": "code",
      "metadata": {
        "colab": {
          "base_uri": "https://localhost:8080/"
        },
        "id": "voWinzTLRI7Q",
        "outputId": "e6d73f0d-d08f-49c5-f1a1-5073f73bd33d"
      },
      "source": [
        "quant_Data=Fill_data['E_Plug'].quantile(0.25)\n",
        "print(quant_Data)"
      ],
      "execution_count": 103,
      "outputs": [
        {
          "output_type": "stream",
          "text": [
            "17.5\n"
          ],
          "name": "stdout"
        }
      ]
    },
    {
      "cell_type": "code",
      "metadata": {
        "colab": {
          "base_uri": "https://localhost:8080/"
        },
        "id": "cObs2lf7RwFD",
        "outputId": "6317a795-cab2-4b65-bc6f-b412817c08a8"
      },
      "source": [
        "quant_Data=Fill_data['E_Plug'].quantile(0.75)\n",
        "print(quant_Data)\n"
      ],
      "execution_count": 104,
      "outputs": [
        {
          "output_type": "stream",
          "text": [
            "32.25\n"
          ],
          "name": "stdout"
        }
      ]
    },
    {
      "cell_type": "markdown",
      "metadata": {
        "id": "mAyjhVKWSBzs"
      },
      "source": [
        "\n",
        "Q1=17.5,\n",
        "\n",
        "Q3=32.25\n",
        "\n",
        "IQR= Q3-Q1\n",
        "IQR= 32.5-17.5=14.75\n",
        "\n",
        "Mild Outlier\n",
        "\n",
        "Lower bound= Q1-1.5*IQR,\n",
        "Lower bound= 17.5-1.5*14.75= 4.25\n",
        "\n",
        "upper bound= Q3+1.5*IQR\n",
        "Upper bound= 32.25+1.5*14.75= 54.37"
      ]
    },
    {
      "cell_type": "code",
      "metadata": {
        "colab": {
          "base_uri": "https://localhost:8080/"
        },
        "id": "MwtCq1B5R9xx",
        "outputId": "8f0790e4-704e-43c5-ebc4-9a6105851fd3"
      },
      "source": [
        "out_Data=Fill_data['E_Plug'].replace(120,42,inplace=True)\n",
        "print(out_Data)"
      ],
      "execution_count": 105,
      "outputs": [
        {
          "output_type": "stream",
          "text": [
            "None\n"
          ],
          "name": "stdout"
        }
      ]
    },
    {
      "cell_type": "code",
      "metadata": {
        "colab": {
          "base_uri": "https://localhost:8080/",
          "height": 269
        },
        "id": "fqWvydEcU7B8",
        "outputId": "904ebe8a-5eae-4533-8b5f-97cb3f14e891"
      },
      "source": [
        "Boxplot_filldata=Fill_data.boxplot()"
      ],
      "execution_count": 106,
      "outputs": [
        {
          "output_type": "display_data",
          "data": {
            "image/png": "[encoded data removed]",
            "text/plain": [
              "<Figure size 432x288 with 1 Axes>"
            ]
          },
          "metadata": {
            "tags": [],
            "needs_background": "light"
          }
        }
      ]
    },
    {
      "cell_type": "markdown",
      "metadata": {
        "id": "xdPxaF63Vim6"
      },
      "source": [
        "As we see there is no Outlier in the 'E_Plug' section"
      ]
    },
    {
      "cell_type": "markdown",
      "metadata": {
        "id": "d28g1KCTVper"
      },
      "source": [
        "#Concatenation"
      ]
    },
    {
      "cell_type": "code",
      "metadata": {
        "colab": {
          "base_uri": "https://localhost:8080/",
          "height": 203
        },
        "id": "4t1P8OrbVgdk",
        "outputId": "ee643fc6-c307-49d0-d07e-5eef04a12bee"
      },
      "source": [
        "New_data=pd.read_csv('/content/Data_New.csv')\n",
        "New_data.head()"
      ],
      "execution_count": 107,
      "outputs": [
        {
          "output_type": "execute_result",
          "data": {
            "text/html": [
              "<div>\n",
              "<style scoped>\n",
              "    .dataframe tbody tr th:only-of-type {\n",
              "        vertical-align: middle;\n",
              "    }\n",
              "\n",
              "    .dataframe tbody tr th {\n",
              "        vertical-align: top;\n",
              "    }\n",
              "\n",
              "    .dataframe thead th {\n",
              "        text-align: right;\n",
              "    }\n",
              "</style>\n",
              "<table border=\"1\" class=\"dataframe\">\n",
              "  <thead>\n",
              "    <tr style=\"text-align: right;\">\n",
              "      <th></th>\n",
              "      <th>P/OffP</th>\n",
              "    </tr>\n",
              "  </thead>\n",
              "  <tbody>\n",
              "    <tr>\n",
              "      <th>0</th>\n",
              "      <td>OffPeak</td>\n",
              "    </tr>\n",
              "    <tr>\n",
              "      <th>1</th>\n",
              "      <td>OffPeak</td>\n",
              "    </tr>\n",
              "    <tr>\n",
              "      <th>2</th>\n",
              "      <td>OffPeak</td>\n",
              "    </tr>\n",
              "    <tr>\n",
              "      <th>3</th>\n",
              "      <td>OffPeak</td>\n",
              "    </tr>\n",
              "    <tr>\n",
              "      <th>4</th>\n",
              "      <td>OffPeak</td>\n",
              "    </tr>\n",
              "  </tbody>\n",
              "</table>\n",
              "</div>"
            ],
            "text/plain": [
              "   P/OffP \n",
              "0  OffPeak\n",
              "1  OffPeak\n",
              "2  OffPeak\n",
              "3  OffPeak\n",
              "4  OffPeak"
            ]
          },
          "metadata": {
            "tags": []
          },
          "execution_count": 107
        }
      ]
    },
    {
      "cell_type": "markdown",
      "metadata": {
        "id": "2A0LBC35WlhW"
      },
      "source": [
        "Now we perform the concatenation"
      ]
    },
    {
      "cell_type": "code",
      "metadata": {
        "colab": {
          "base_uri": "https://localhost:8080/",
          "height": 203
        },
        "id": "k74gH4kVWUrL",
        "outputId": "bf033a11-c114-46d6-80f2-3abc143e4940"
      },
      "source": [
        "Concat_ination=pd.concat([Fill_data,New_data],axis=1)\n",
        "Concat_ination.head()"
      ],
      "execution_count": 108,
      "outputs": [
        {
          "output_type": "execute_result",
          "data": {
            "text/html": [
              "<div>\n",
              "<style scoped>\n",
              "    .dataframe tbody tr th:only-of-type {\n",
              "        vertical-align: middle;\n",
              "    }\n",
              "\n",
              "    .dataframe tbody tr th {\n",
              "        vertical-align: top;\n",
              "    }\n",
              "\n",
              "    .dataframe thead th {\n",
              "        text-align: right;\n",
              "    }\n",
              "</style>\n",
              "<table border=\"1\" class=\"dataframe\">\n",
              "  <thead>\n",
              "    <tr style=\"text-align: right;\">\n",
              "      <th></th>\n",
              "      <th>Time</th>\n",
              "      <th>E_Plug</th>\n",
              "      <th>E_Heat</th>\n",
              "      <th>Price</th>\n",
              "      <th>Temperature</th>\n",
              "      <th>No. Occupants</th>\n",
              "      <th>P/OffP</th>\n",
              "    </tr>\n",
              "  </thead>\n",
              "  <tbody>\n",
              "    <tr>\n",
              "      <th>0</th>\n",
              "      <td>1.0</td>\n",
              "      <td>24.0</td>\n",
              "      <td>28.0</td>\n",
              "      <td>10</td>\n",
              "      <td>-15.0</td>\n",
              "      <td>12.0</td>\n",
              "      <td>OffPeak</td>\n",
              "    </tr>\n",
              "    <tr>\n",
              "      <th>1</th>\n",
              "      <td>2.0</td>\n",
              "      <td>17.0</td>\n",
              "      <td>32.0</td>\n",
              "      <td>12</td>\n",
              "      <td>-17.0</td>\n",
              "      <td>12.0</td>\n",
              "      <td>OffPeak</td>\n",
              "    </tr>\n",
              "    <tr>\n",
              "      <th>2</th>\n",
              "      <td>3.0</td>\n",
              "      <td>16.0</td>\n",
              "      <td>34.0</td>\n",
              "      <td>11</td>\n",
              "      <td>-19.0</td>\n",
              "      <td>12.0</td>\n",
              "      <td>OffPeak</td>\n",
              "    </tr>\n",
              "    <tr>\n",
              "      <th>3</th>\n",
              "      <td>3.0</td>\n",
              "      <td>16.0</td>\n",
              "      <td>34.0</td>\n",
              "      <td>11</td>\n",
              "      <td>-19.0</td>\n",
              "      <td>12.0</td>\n",
              "      <td>OffPeak</td>\n",
              "    </tr>\n",
              "    <tr>\n",
              "      <th>4</th>\n",
              "      <td>4.0</td>\n",
              "      <td>16.0</td>\n",
              "      <td>33.0</td>\n",
              "      <td>12</td>\n",
              "      <td>-18.0</td>\n",
              "      <td>12.0</td>\n",
              "      <td>OffPeak</td>\n",
              "    </tr>\n",
              "  </tbody>\n",
              "</table>\n",
              "</div>"
            ],
            "text/plain": [
              "   Time  E_Plug  E_Heat Price  Temperature  No. Occupants  P/OffP \n",
              "0   1.0    24.0    28.0    10        -15.0           12.0  OffPeak\n",
              "1   2.0    17.0    32.0    12        -17.0           12.0  OffPeak\n",
              "2   3.0    16.0    34.0    11        -19.0           12.0  OffPeak\n",
              "3   3.0    16.0    34.0    11        -19.0           12.0  OffPeak\n",
              "4   4.0    16.0    33.0    12        -18.0           12.0  OffPeak"
            ]
          },
          "metadata": {
            "tags": []
          },
          "execution_count": 108
        }
      ]
    },
    {
      "cell_type": "markdown",
      "metadata": {
        "id": "2B16OEymXIlw"
      },
      "source": [
        "We successfully concat the two different data."
      ]
    },
    {
      "cell_type": "markdown",
      "metadata": {
        "id": "g_EJ17KsXX3d"
      },
      "source": [
        "Now our next task is to change categorical data into numberical(offPeak to 0/1)"
      ]
    },
    {
      "cell_type": "code",
      "metadata": {
        "colab": {
          "base_uri": "https://localhost:8080/",
          "height": 240
        },
        "id": "XFxd4sE7W7P5",
        "outputId": "3235b7bf-a590-429b-d70c-099a890cc06e"
      },
      "source": [
        "Change_data=pd.get_dummies(Fill_data)\n",
        "Change_data.head()"
      ],
      "execution_count": 122,
      "outputs": [
        {
          "output_type": "execute_result",
          "data": {
            "text/html": [
              "<div>\n",
              "<style scoped>\n",
              "    .dataframe tbody tr th:only-of-type {\n",
              "        vertical-align: middle;\n",
              "    }\n",
              "\n",
              "    .dataframe tbody tr th {\n",
              "        vertical-align: top;\n",
              "    }\n",
              "\n",
              "    .dataframe thead th {\n",
              "        text-align: right;\n",
              "    }\n",
              "</style>\n",
              "<table border=\"1\" class=\"dataframe\">\n",
              "  <thead>\n",
              "    <tr style=\"text-align: right;\">\n",
              "      <th></th>\n",
              "      <th>Time</th>\n",
              "      <th>E_Plug</th>\n",
              "      <th>E_Heat</th>\n",
              "      <th>Temperature</th>\n",
              "      <th>No. Occupants</th>\n",
              "      <th>Price_10</th>\n",
              "      <th>Price_11</th>\n",
              "      <th>Price_12</th>\n",
              "      <th>Price_14</th>\n",
              "      <th>Price_16</th>\n",
              "      <th>Price_17</th>\n",
              "      <th>Price_18</th>\n",
              "      <th>Price_20</th>\n",
              "      <th>Price_21</th>\n",
              "      <th>Price_22</th>\n",
              "    </tr>\n",
              "  </thead>\n",
              "  <tbody>\n",
              "    <tr>\n",
              "      <th>0</th>\n",
              "      <td>1</td>\n",
              "      <td>24.0</td>\n",
              "      <td>28</td>\n",
              "      <td>-15</td>\n",
              "      <td>12</td>\n",
              "      <td>1</td>\n",
              "      <td>0</td>\n",
              "      <td>0</td>\n",
              "      <td>0</td>\n",
              "      <td>0</td>\n",
              "      <td>0</td>\n",
              "      <td>0</td>\n",
              "      <td>0</td>\n",
              "      <td>0</td>\n",
              "      <td>0</td>\n",
              "    </tr>\n",
              "    <tr>\n",
              "      <th>1</th>\n",
              "      <td>2</td>\n",
              "      <td>17.0</td>\n",
              "      <td>32</td>\n",
              "      <td>-17</td>\n",
              "      <td>12</td>\n",
              "      <td>0</td>\n",
              "      <td>0</td>\n",
              "      <td>1</td>\n",
              "      <td>0</td>\n",
              "      <td>0</td>\n",
              "      <td>0</td>\n",
              "      <td>0</td>\n",
              "      <td>0</td>\n",
              "      <td>0</td>\n",
              "      <td>0</td>\n",
              "    </tr>\n",
              "    <tr>\n",
              "      <th>2</th>\n",
              "      <td>3</td>\n",
              "      <td>16.0</td>\n",
              "      <td>34</td>\n",
              "      <td>-19</td>\n",
              "      <td>12</td>\n",
              "      <td>0</td>\n",
              "      <td>1</td>\n",
              "      <td>0</td>\n",
              "      <td>0</td>\n",
              "      <td>0</td>\n",
              "      <td>0</td>\n",
              "      <td>0</td>\n",
              "      <td>0</td>\n",
              "      <td>0</td>\n",
              "      <td>0</td>\n",
              "    </tr>\n",
              "    <tr>\n",
              "      <th>3</th>\n",
              "      <td>3</td>\n",
              "      <td>16.0</td>\n",
              "      <td>34</td>\n",
              "      <td>-19</td>\n",
              "      <td>12</td>\n",
              "      <td>0</td>\n",
              "      <td>1</td>\n",
              "      <td>0</td>\n",
              "      <td>0</td>\n",
              "      <td>0</td>\n",
              "      <td>0</td>\n",
              "      <td>0</td>\n",
              "      <td>0</td>\n",
              "      <td>0</td>\n",
              "      <td>0</td>\n",
              "    </tr>\n",
              "    <tr>\n",
              "      <th>4</th>\n",
              "      <td>4</td>\n",
              "      <td>16.0</td>\n",
              "      <td>33</td>\n",
              "      <td>-18</td>\n",
              "      <td>12</td>\n",
              "      <td>0</td>\n",
              "      <td>0</td>\n",
              "      <td>1</td>\n",
              "      <td>0</td>\n",
              "      <td>0</td>\n",
              "      <td>0</td>\n",
              "      <td>0</td>\n",
              "      <td>0</td>\n",
              "      <td>0</td>\n",
              "      <td>0</td>\n",
              "    </tr>\n",
              "  </tbody>\n",
              "</table>\n",
              "</div>"
            ],
            "text/plain": [
              "   Time  E_Plug  E_Heat  Temperature  ...  Price_18  Price_20  Price_21  Price_22\n",
              "0     1    24.0      28          -15  ...         0         0         0         0\n",
              "1     2    17.0      32          -17  ...         0         0         0         0\n",
              "2     3    16.0      34          -19  ...         0         0         0         0\n",
              "3     3    16.0      34          -19  ...         0         0         0         0\n",
              "4     4    16.0      33          -18  ...         0         0         0         0\n",
              "\n",
              "[5 rows x 15 columns]"
            ]
          },
          "metadata": {
            "tags": []
          },
          "execution_count": 122
        }
      ]
    },
    {
      "cell_type": "markdown",
      "metadata": {
        "id": "egOZeUDqYGKd"
      },
      "source": [
        "We change the variables by function get_dummies is change the categorical to numerical"
      ]
    },
    {
      "cell_type": "markdown",
      "metadata": {
        "id": "fkOobe0FYYXz"
      },
      "source": [
        "#Normalization"
      ]
    },
    {
      "cell_type": "code",
      "metadata": {
        "id": "QbuQLDCYXopA"
      },
      "source": [
        "from sklearn.preprocessing import minmax_scale,normalize"
      ],
      "execution_count": 110,
      "outputs": []
    },
    {
      "cell_type": "markdown",
      "metadata": {
        "id": "kkaI-K1bY2vw"
      },
      "source": [
        "First Min and Max Scale"
      ]
    },
    {
      "cell_type": "code",
      "metadata": {
        "colab": {
          "base_uri": "https://localhost:8080/"
        },
        "id": "Sygvt6p5Yxzs",
        "outputId": "8dc970c9-01e2-40f1-b453-8b774e0e8a08"
      },
      "source": [
        "Range_data=minmax_scale(Fill_data,feature_range=(0,1))\n",
        "print(Range_data)"
      ],
      "execution_count": 123,
      "outputs": [
        {
          "output_type": "stream",
          "text": [
            "[[0.         0.25806452 0.63636364 0.         0.14893617 1.        ]\n",
            " [0.04347826 0.03225806 0.81818182 0.16666667 0.10638298 1.        ]\n",
            " [0.08695652 0.         0.90909091 0.08333333 0.06382979 1.        ]\n",
            " [0.08695652 0.         0.90909091 0.08333333 0.06382979 1.        ]\n",
            " [0.13043478 0.         0.86363636 0.16666667 0.08510638 1.        ]\n",
            " [0.17391304 0.         0.72727273 0.         0.17021277 1.        ]\n",
            " [0.2173913  0.         0.77272727 0.         0.12765957 1.        ]\n",
            " [0.26086957 0.09677419 0.63636364 0.33333333 0.17021277 1.        ]\n",
            " [0.30434783 0.19354839 0.68181818 0.16666667 0.14893617 0.625     ]\n",
            " [0.34782609 0.29032258 0.54545455 0.16666667 0.21276596 0.5       ]\n",
            " [0.39130435 0.32258065 0.45454545 0.33333333 0.29787234 0.5       ]\n",
            " [0.43478261 0.35483871 0.27272727 0.33333333 1.         0.5       ]\n",
            " [0.47826087 0.4516129  0.22727273 0.5        0.46808511 0.125     ]\n",
            " [0.60869565 0.35483871 0.         0.58333333 0.53191489 0.        ]\n",
            " [0.65217391 0.35483871 0.09090909 0.58333333 0.5106383  0.25      ]\n",
            " [0.69565217 0.38709677 0.5        0.66666667 0.46808511 0.5       ]\n",
            " [0.73913043 0.5483871  0.54545455 0.83333333 0.34042553 0.625     ]\n",
            " [0.7826087  0.83870968 0.81818182 0.91666667 0.29787234 0.75      ]\n",
            " [0.82608696 0.83870968 0.86363636 0.91666667 0.21276596 1.        ]\n",
            " [0.86956522 1.         0.81818182 0.91666667 0.12765957 1.        ]\n",
            " [0.91304348 0.90322581 0.72727273 1.         0.08510638 1.        ]\n",
            " [1.         0.67741935 1.         0.66666667 0.         1.        ]]\n"
          ],
          "name": "stdout"
        }
      ]
    },
    {
      "cell_type": "code",
      "metadata": {
        "colab": {
          "base_uri": "https://localhost:8080/"
        },
        "id": "c4DF2zGsZOWC",
        "outputId": "f8508d86-db65-4686-eabd-057557f1386c"
      },
      "source": [
        "Norm_data=normalize(Fill_data,norm='l2',axis=0)\n",
        "print(Norm_data)"
      ],
      "execution_count": 126,
      "outputs": [
        {
          "output_type": "stream",
          "text": [
            "[[ 0.01578183  0.17744705  0.20990425  0.13614581 -0.22147611  0.24897552]\n",
            " [ 0.03156365  0.12569166  0.23989057  0.16337497 -0.25100626  0.24897552]\n",
            " [ 0.04734548  0.11829803  0.25488374  0.14976039 -0.28053641  0.24897552]\n",
            " [ 0.04734548  0.11829803  0.25488374  0.14976039 -0.28053641  0.24897552]\n",
            " [ 0.0631273   0.11829803  0.24738716  0.16337497 -0.26577133  0.24897552]\n",
            " [ 0.07890913  0.11829803  0.22489741  0.13614581 -0.20671104  0.24897552]\n",
            " [ 0.09469095  0.11829803  0.23239399  0.13614581 -0.23624119  0.24897552]\n",
            " [ 0.11047278  0.14047891  0.20990425  0.19060413 -0.20671104  0.24897552]\n",
            " [ 0.1262546   0.16265979  0.21740083  0.16337497 -0.22147611  0.18673164]\n",
            " [ 0.14203643  0.18484067  0.19491109  0.16337497 -0.17718089  0.16598368]\n",
            " [ 0.15781825  0.1922343   0.17991793  0.19060413 -0.11812059  0.16598368]\n",
            " [ 0.17360008  0.19962793  0.14993161  0.19060413  0.36912685  0.16598368]\n",
            " [ 0.1893819   0.22180881  0.14243503  0.21783329  0.          0.1037398 ]\n",
            " [ 0.23672738  0.19962793  0.10495213  0.23144787  0.04429522  0.08299184]\n",
            " [ 0.2525092   0.19962793  0.11994529  0.23144787  0.02953015  0.12448776]\n",
            " [ 0.26829103  0.20702155  0.18741451  0.24506246  0.          0.16598368]\n",
            " [ 0.28407285  0.24398969  0.19491109  0.27229162 -0.08859044  0.18673164]\n",
            " [ 0.29985468  0.31053233  0.23989057  0.2859062  -0.11812059  0.2074796 ]\n",
            " [ 0.3156365   0.31053233  0.24738716  0.2859062  -0.17718089  0.24897552]\n",
            " [ 0.33141833  0.34750047  0.23989057  0.2859062  -0.23624119  0.24897552]\n",
            " [ 0.34720015  0.32531958  0.22489741  0.29952078 -0.26577133  0.24897552]\n",
            " [ 0.3787638   0.2735642   0.2698769   0.24506246 -0.32483163  0.24897552]]\n"
          ],
          "name": "stdout"
        }
      ]
    },
    {
      "cell_type": "code",
      "metadata": {
        "id": "4GenCOUJaDlc"
      },
      "source": [
        "Data_s=pd.DataFrame(Fill_data,columns=['Time','E_Plug','E_Heat','Price','Temp','OffPeak','Peak'])\n"
      ],
      "execution_count": 131,
      "outputs": []
    }
  ]
}