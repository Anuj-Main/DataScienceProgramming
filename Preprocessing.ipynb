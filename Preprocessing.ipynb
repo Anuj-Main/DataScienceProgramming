{
  "nbformat": 4,
  "nbformat_minor": 0,
  "metadata": {
    "colab": {
      "name": "Preprocessing.ipynb",
      "provenance": [],
      "collapsed_sections": [],
      "authorship_tag": "ABX9TyPPeueCC1v9iNIif2570XKX",
      "include_colab_link": true
    },
    "kernelspec": {
      "name": "python3",
      "display_name": "Python 3"
    },
    "language_info": {
      "name": "python"
    }
  },
  "cells": [
    {
      "cell_type": "markdown",
      "metadata": {
        "id": "view-in-github",
        "colab_type": "text"
      },
      "source": [
        "<a href=\"https://colab.research.google.com/github/Anuj-Main/DataScienceProgramming/blob/main/Preprocessing.ipynb\" target=\"_parent\"><img src=\"https://colab.research.google.com/assets/colab-badge.svg\" alt=\"Open In Colab\"/></a>"
      ]
    },
    {
      "cell_type": "markdown",
      "metadata": {
        "id": "UYnPGA-1rZAp"
      },
      "source": [
        "# Data Preprocessing\n",
        "Data Modfying or Data Cleaning "
      ]
    },
    {
      "cell_type": "markdown",
      "metadata": {
        "id": "17nLw5cLsL4s"
      },
      "source": [
        "First we importing Libraries"
      ]
    },
    {
      "cell_type": "code",
      "metadata": {
        "id": "aGUCstVartNT"
      },
      "source": [
        "import numpy as np\n",
        "import pandas as pd\n",
        "import matplotlib.pyplot as plt\n",
        "import seaborn as sns\n",
        "from sklearn.impute import SimpleImputer"
      ],
      "execution_count": 292,
      "outputs": []
    },
    {
      "cell_type": "code",
      "metadata": {
        "colab": {
          "base_uri": "https://localhost:8080/",
          "height": 237
        },
        "id": "D6fMHU9csmVt",
        "outputId": "899d942f-9fe9-45ad-eba0-e2117d3cd2d5"
      },
      "source": [
        "Test_homedata=pd.read_csv('/Home_Consumption.csv')\n",
        "Test_homedata.head()"
      ],
      "execution_count": 293,
      "outputs": [
        {
          "output_type": "execute_result",
          "data": {
            "text/html": [
              "<div>\n",
              "<style scoped>\n",
              "    .dataframe tbody tr th:only-of-type {\n",
              "        vertical-align: middle;\n",
              "    }\n",
              "\n",
              "    .dataframe tbody tr th {\n",
              "        vertical-align: top;\n",
              "    }\n",
              "\n",
              "    .dataframe thead th {\n",
              "        text-align: right;\n",
              "    }\n",
              "</style>\n",
              "<table border=\"1\" class=\"dataframe\">\n",
              "  <thead>\n",
              "    <tr style=\"text-align: right;\">\n",
              "      <th></th>\n",
              "      <th>Name of the data = Home Consumption</th>\n",
              "      <th>Unnamed: 1</th>\n",
              "      <th>Unnamed: 2</th>\n",
              "      <th>Unnamed: 3</th>\n",
              "      <th>Unnamed: 4</th>\n",
              "      <th>Unnamed: 5</th>\n",
              "    </tr>\n",
              "  </thead>\n",
              "  <tbody>\n",
              "    <tr>\n",
              "      <th>0</th>\n",
              "      <td>Unit = kW and $/kW</td>\n",
              "      <td>NaN</td>\n",
              "      <td>NaN</td>\n",
              "      <td>NaN</td>\n",
              "      <td>NaN</td>\n",
              "      <td>NaN</td>\n",
              "    </tr>\n",
              "    <tr>\n",
              "      <th>1</th>\n",
              "      <td>Time</td>\n",
              "      <td>E_Plug</td>\n",
              "      <td>E_Heat</td>\n",
              "      <td>Price</td>\n",
              "      <td>Temperature</td>\n",
              "      <td>No. Occupants</td>\n",
              "    </tr>\n",
              "    <tr>\n",
              "      <th>2</th>\n",
              "      <td>1</td>\n",
              "      <td>24</td>\n",
              "      <td>28</td>\n",
              "      <td>10</td>\n",
              "      <td>-15</td>\n",
              "      <td>12</td>\n",
              "    </tr>\n",
              "    <tr>\n",
              "      <th>3</th>\n",
              "      <td>2</td>\n",
              "      <td>17</td>\n",
              "      <td>32</td>\n",
              "      <td>12</td>\n",
              "      <td>-17</td>\n",
              "      <td>12</td>\n",
              "    </tr>\n",
              "    <tr>\n",
              "      <th>4</th>\n",
              "      <td>3</td>\n",
              "      <td>16</td>\n",
              "      <td>34</td>\n",
              "      <td>11</td>\n",
              "      <td>-19</td>\n",
              "      <td>12</td>\n",
              "    </tr>\n",
              "  </tbody>\n",
              "</table>\n",
              "</div>"
            ],
            "text/plain": [
              "  Name of the data = Home Consumption Unnamed: 1  ...   Unnamed: 4     Unnamed: 5\n",
              "0                  Unit = kW and $/kW        NaN  ...          NaN            NaN\n",
              "1                                Time     E_Plug  ...  Temperature  No. Occupants\n",
              "2                                   1         24  ...          -15             12\n",
              "3                                   2         17  ...          -17             12\n",
              "4                                   3         16  ...          -19             12\n",
              "\n",
              "[5 rows x 6 columns]"
            ]
          },
          "metadata": {
            "tags": []
          },
          "execution_count": 293
        }
      ]
    },
    {
      "cell_type": "code",
      "metadata": {
        "colab": {
          "base_uri": "https://localhost:8080/",
          "height": 203
        },
        "id": "gSb3dvK_swAj",
        "outputId": "83d0ff09-7795-49aa-f95f-f3f8798e0852"
      },
      "source": [
        "Test_homedata2=pd.read_csv('/Home_Consumption.csv',header=2)\n",
        "Test_homedata2.head()"
      ],
      "execution_count": 294,
      "outputs": [
        {
          "output_type": "execute_result",
          "data": {
            "text/html": [
              "<div>\n",
              "<style scoped>\n",
              "    .dataframe tbody tr th:only-of-type {\n",
              "        vertical-align: middle;\n",
              "    }\n",
              "\n",
              "    .dataframe tbody tr th {\n",
              "        vertical-align: top;\n",
              "    }\n",
              "\n",
              "    .dataframe thead th {\n",
              "        text-align: right;\n",
              "    }\n",
              "</style>\n",
              "<table border=\"1\" class=\"dataframe\">\n",
              "  <thead>\n",
              "    <tr style=\"text-align: right;\">\n",
              "      <th></th>\n",
              "      <th>Time</th>\n",
              "      <th>E_Plug</th>\n",
              "      <th>E_Heat</th>\n",
              "      <th>Price</th>\n",
              "      <th>Temperature</th>\n",
              "      <th>No. Occupants</th>\n",
              "    </tr>\n",
              "  </thead>\n",
              "  <tbody>\n",
              "    <tr>\n",
              "      <th>0</th>\n",
              "      <td>1</td>\n",
              "      <td>24.0</td>\n",
              "      <td>28</td>\n",
              "      <td>10</td>\n",
              "      <td>-15</td>\n",
              "      <td>12</td>\n",
              "    </tr>\n",
              "    <tr>\n",
              "      <th>1</th>\n",
              "      <td>2</td>\n",
              "      <td>17.0</td>\n",
              "      <td>32</td>\n",
              "      <td>12</td>\n",
              "      <td>-17</td>\n",
              "      <td>12</td>\n",
              "    </tr>\n",
              "    <tr>\n",
              "      <th>2</th>\n",
              "      <td>3</td>\n",
              "      <td>16.0</td>\n",
              "      <td>34</td>\n",
              "      <td>11</td>\n",
              "      <td>-19</td>\n",
              "      <td>12</td>\n",
              "    </tr>\n",
              "    <tr>\n",
              "      <th>3</th>\n",
              "      <td>3</td>\n",
              "      <td>16.0</td>\n",
              "      <td>34</td>\n",
              "      <td>11</td>\n",
              "      <td>-19</td>\n",
              "      <td>12</td>\n",
              "    </tr>\n",
              "    <tr>\n",
              "      <th>4</th>\n",
              "      <td>4</td>\n",
              "      <td>16.0</td>\n",
              "      <td>33</td>\n",
              "      <td>12</td>\n",
              "      <td>-18</td>\n",
              "      <td>12</td>\n",
              "    </tr>\n",
              "  </tbody>\n",
              "</table>\n",
              "</div>"
            ],
            "text/plain": [
              "   Time  E_Plug  E_Heat Price  Temperature  No. Occupants\n",
              "0     1    24.0      28    10          -15             12\n",
              "1     2    17.0      32    12          -17             12\n",
              "2     3    16.0      34    11          -19             12\n",
              "3     3    16.0      34    11          -19             12\n",
              "4     4    16.0      33    12          -18             12"
            ]
          },
          "metadata": {
            "tags": []
          },
          "execution_count": 294
        }
      ]
    },
    {
      "cell_type": "markdown",
      "metadata": {
        "id": "fbuDvn4gvBN0"
      },
      "source": [
        "You can see I remove the Unnecessary Rows for the analysis"
      ]
    },
    {
      "cell_type": "code",
      "metadata": {
        "colab": {
          "base_uri": "https://localhost:8080/",
          "height": 203
        },
        "id": "y0AHsHzZtvAB",
        "outputId": "6cfe6434-e439-4a59-99cb-222227443021"
      },
      "source": [
        "Test_homedata2.rename(columns={'Temperature':'Temp'})\n",
        "Test_homedata2.head()"
      ],
      "execution_count": 295,
      "outputs": [
        {
          "output_type": "execute_result",
          "data": {
            "text/html": [
              "<div>\n",
              "<style scoped>\n",
              "    .dataframe tbody tr th:only-of-type {\n",
              "        vertical-align: middle;\n",
              "    }\n",
              "\n",
              "    .dataframe tbody tr th {\n",
              "        vertical-align: top;\n",
              "    }\n",
              "\n",
              "    .dataframe thead th {\n",
              "        text-align: right;\n",
              "    }\n",
              "</style>\n",
              "<table border=\"1\" class=\"dataframe\">\n",
              "  <thead>\n",
              "    <tr style=\"text-align: right;\">\n",
              "      <th></th>\n",
              "      <th>Time</th>\n",
              "      <th>E_Plug</th>\n",
              "      <th>E_Heat</th>\n",
              "      <th>Price</th>\n",
              "      <th>Temperature</th>\n",
              "      <th>No. Occupants</th>\n",
              "    </tr>\n",
              "  </thead>\n",
              "  <tbody>\n",
              "    <tr>\n",
              "      <th>0</th>\n",
              "      <td>1</td>\n",
              "      <td>24.0</td>\n",
              "      <td>28</td>\n",
              "      <td>10</td>\n",
              "      <td>-15</td>\n",
              "      <td>12</td>\n",
              "    </tr>\n",
              "    <tr>\n",
              "      <th>1</th>\n",
              "      <td>2</td>\n",
              "      <td>17.0</td>\n",
              "      <td>32</td>\n",
              "      <td>12</td>\n",
              "      <td>-17</td>\n",
              "      <td>12</td>\n",
              "    </tr>\n",
              "    <tr>\n",
              "      <th>2</th>\n",
              "      <td>3</td>\n",
              "      <td>16.0</td>\n",
              "      <td>34</td>\n",
              "      <td>11</td>\n",
              "      <td>-19</td>\n",
              "      <td>12</td>\n",
              "    </tr>\n",
              "    <tr>\n",
              "      <th>3</th>\n",
              "      <td>3</td>\n",
              "      <td>16.0</td>\n",
              "      <td>34</td>\n",
              "      <td>11</td>\n",
              "      <td>-19</td>\n",
              "      <td>12</td>\n",
              "    </tr>\n",
              "    <tr>\n",
              "      <th>4</th>\n",
              "      <td>4</td>\n",
              "      <td>16.0</td>\n",
              "      <td>33</td>\n",
              "      <td>12</td>\n",
              "      <td>-18</td>\n",
              "      <td>12</td>\n",
              "    </tr>\n",
              "  </tbody>\n",
              "</table>\n",
              "</div>"
            ],
            "text/plain": [
              "   Time  E_Plug  E_Heat Price  Temperature  No. Occupants\n",
              "0     1    24.0      28    10          -15             12\n",
              "1     2    17.0      32    12          -17             12\n",
              "2     3    16.0      34    11          -19             12\n",
              "3     3    16.0      34    11          -19             12\n",
              "4     4    16.0      33    12          -18             12"
            ]
          },
          "metadata": {
            "tags": []
          },
          "execution_count": 295
        }
      ]
    },
    {
      "cell_type": "markdown",
      "metadata": {
        "id": "TRJZSamwvdpS"
      },
      "source": [
        "We can use this renmae function to change the Columns Name."
      ]
    },
    {
      "cell_type": "markdown",
      "metadata": {
        "id": "4rxm13_tvKmg"
      },
      "source": [
        "**Now we use Drop Function**\n",
        "\n",
        "In drop function or drop function is used for dropping the column or delete the column which are not useful."
      ]
    },
    {
      "cell_type": "code",
      "metadata": {
        "colab": {
          "base_uri": "https://localhost:8080/",
          "height": 203
        },
        "id": "zh_FK_0cupxb",
        "outputId": "5e2dfd1a-1282-462e-9641-5f3c7c4f4313"
      },
      "source": [
        "Drop_col=Test_homedata2.drop('No. Occupants',axis=1)\n",
        "Drop_col.head()"
      ],
      "execution_count": 296,
      "outputs": [
        {
          "output_type": "execute_result",
          "data": {
            "text/html": [
              "<div>\n",
              "<style scoped>\n",
              "    .dataframe tbody tr th:only-of-type {\n",
              "        vertical-align: middle;\n",
              "    }\n",
              "\n",
              "    .dataframe tbody tr th {\n",
              "        vertical-align: top;\n",
              "    }\n",
              "\n",
              "    .dataframe thead th {\n",
              "        text-align: right;\n",
              "    }\n",
              "</style>\n",
              "<table border=\"1\" class=\"dataframe\">\n",
              "  <thead>\n",
              "    <tr style=\"text-align: right;\">\n",
              "      <th></th>\n",
              "      <th>Time</th>\n",
              "      <th>E_Plug</th>\n",
              "      <th>E_Heat</th>\n",
              "      <th>Price</th>\n",
              "      <th>Temperature</th>\n",
              "    </tr>\n",
              "  </thead>\n",
              "  <tbody>\n",
              "    <tr>\n",
              "      <th>0</th>\n",
              "      <td>1</td>\n",
              "      <td>24.0</td>\n",
              "      <td>28</td>\n",
              "      <td>10</td>\n",
              "      <td>-15</td>\n",
              "    </tr>\n",
              "    <tr>\n",
              "      <th>1</th>\n",
              "      <td>2</td>\n",
              "      <td>17.0</td>\n",
              "      <td>32</td>\n",
              "      <td>12</td>\n",
              "      <td>-17</td>\n",
              "    </tr>\n",
              "    <tr>\n",
              "      <th>2</th>\n",
              "      <td>3</td>\n",
              "      <td>16.0</td>\n",
              "      <td>34</td>\n",
              "      <td>11</td>\n",
              "      <td>-19</td>\n",
              "    </tr>\n",
              "    <tr>\n",
              "      <th>3</th>\n",
              "      <td>3</td>\n",
              "      <td>16.0</td>\n",
              "      <td>34</td>\n",
              "      <td>11</td>\n",
              "      <td>-19</td>\n",
              "    </tr>\n",
              "    <tr>\n",
              "      <th>4</th>\n",
              "      <td>4</td>\n",
              "      <td>16.0</td>\n",
              "      <td>33</td>\n",
              "      <td>12</td>\n",
              "      <td>-18</td>\n",
              "    </tr>\n",
              "  </tbody>\n",
              "</table>\n",
              "</div>"
            ],
            "text/plain": [
              "   Time  E_Plug  E_Heat Price  Temperature\n",
              "0     1    24.0      28    10          -15\n",
              "1     2    17.0      32    12          -17\n",
              "2     3    16.0      34    11          -19\n",
              "3     3    16.0      34    11          -19\n",
              "4     4    16.0      33    12          -18"
            ]
          },
          "metadata": {
            "tags": []
          },
          "execution_count": 296
        }
      ]
    },
    {
      "cell_type": "markdown",
      "metadata": {
        "id": "4WOSmcu5xQqL"
      },
      "source": [
        "Now we drop the column\n",
        "\n",
        "*If you want to change this in main dataset.*\n",
        "*you have to just write direectly Test_homedata2.drop() instead of using variable.* "
      ]
    },
    {
      "cell_type": "code",
      "metadata": {
        "colab": {
          "base_uri": "https://localhost:8080/",
          "height": 203
        },
        "id": "aLBBX_Vn9sRB",
        "outputId": "b0f77a66-e87a-46b3-cfac-ae8c88394bb8"
      },
      "source": [
        "Test_homedata2.head()"
      ],
      "execution_count": 297,
      "outputs": [
        {
          "output_type": "execute_result",
          "data": {
            "text/html": [
              "<div>\n",
              "<style scoped>\n",
              "    .dataframe tbody tr th:only-of-type {\n",
              "        vertical-align: middle;\n",
              "    }\n",
              "\n",
              "    .dataframe tbody tr th {\n",
              "        vertical-align: top;\n",
              "    }\n",
              "\n",
              "    .dataframe thead th {\n",
              "        text-align: right;\n",
              "    }\n",
              "</style>\n",
              "<table border=\"1\" class=\"dataframe\">\n",
              "  <thead>\n",
              "    <tr style=\"text-align: right;\">\n",
              "      <th></th>\n",
              "      <th>Time</th>\n",
              "      <th>E_Plug</th>\n",
              "      <th>E_Heat</th>\n",
              "      <th>Price</th>\n",
              "      <th>Temperature</th>\n",
              "      <th>No. Occupants</th>\n",
              "    </tr>\n",
              "  </thead>\n",
              "  <tbody>\n",
              "    <tr>\n",
              "      <th>0</th>\n",
              "      <td>1</td>\n",
              "      <td>24.0</td>\n",
              "      <td>28</td>\n",
              "      <td>10</td>\n",
              "      <td>-15</td>\n",
              "      <td>12</td>\n",
              "    </tr>\n",
              "    <tr>\n",
              "      <th>1</th>\n",
              "      <td>2</td>\n",
              "      <td>17.0</td>\n",
              "      <td>32</td>\n",
              "      <td>12</td>\n",
              "      <td>-17</td>\n",
              "      <td>12</td>\n",
              "    </tr>\n",
              "    <tr>\n",
              "      <th>2</th>\n",
              "      <td>3</td>\n",
              "      <td>16.0</td>\n",
              "      <td>34</td>\n",
              "      <td>11</td>\n",
              "      <td>-19</td>\n",
              "      <td>12</td>\n",
              "    </tr>\n",
              "    <tr>\n",
              "      <th>3</th>\n",
              "      <td>3</td>\n",
              "      <td>16.0</td>\n",
              "      <td>34</td>\n",
              "      <td>11</td>\n",
              "      <td>-19</td>\n",
              "      <td>12</td>\n",
              "    </tr>\n",
              "    <tr>\n",
              "      <th>4</th>\n",
              "      <td>4</td>\n",
              "      <td>16.0</td>\n",
              "      <td>33</td>\n",
              "      <td>12</td>\n",
              "      <td>-18</td>\n",
              "      <td>12</td>\n",
              "    </tr>\n",
              "  </tbody>\n",
              "</table>\n",
              "</div>"
            ],
            "text/plain": [
              "   Time  E_Plug  E_Heat Price  Temperature  No. Occupants\n",
              "0     1    24.0      28    10          -15             12\n",
              "1     2    17.0      32    12          -17             12\n",
              "2     3    16.0      34    11          -19             12\n",
              "3     3    16.0      34    11          -19             12\n",
              "4     4    16.0      33    12          -18             12"
            ]
          },
          "metadata": {
            "tags": []
          },
          "execution_count": 297
        }
      ]
    },
    {
      "cell_type": "code",
      "metadata": {
        "colab": {
          "base_uri": "https://localhost:8080/",
          "height": 819
        },
        "id": "G3YcpW5V9G8j",
        "outputId": "1f53fb2a-0e51-425c-e269-dd1f545bd028"
      },
      "source": [
        "Test_homedata2.drop('No. Occupants',axis=1)"
      ],
      "execution_count": 298,
      "outputs": [
        {
          "output_type": "execute_result",
          "data": {
            "text/html": [
              "<div>\n",
              "<style scoped>\n",
              "    .dataframe tbody tr th:only-of-type {\n",
              "        vertical-align: middle;\n",
              "    }\n",
              "\n",
              "    .dataframe tbody tr th {\n",
              "        vertical-align: top;\n",
              "    }\n",
              "\n",
              "    .dataframe thead th {\n",
              "        text-align: right;\n",
              "    }\n",
              "</style>\n",
              "<table border=\"1\" class=\"dataframe\">\n",
              "  <thead>\n",
              "    <tr style=\"text-align: right;\">\n",
              "      <th></th>\n",
              "      <th>Time</th>\n",
              "      <th>E_Plug</th>\n",
              "      <th>E_Heat</th>\n",
              "      <th>Price</th>\n",
              "      <th>Temperature</th>\n",
              "    </tr>\n",
              "  </thead>\n",
              "  <tbody>\n",
              "    <tr>\n",
              "      <th>0</th>\n",
              "      <td>1</td>\n",
              "      <td>24.0</td>\n",
              "      <td>28</td>\n",
              "      <td>10</td>\n",
              "      <td>-15</td>\n",
              "    </tr>\n",
              "    <tr>\n",
              "      <th>1</th>\n",
              "      <td>2</td>\n",
              "      <td>17.0</td>\n",
              "      <td>32</td>\n",
              "      <td>12</td>\n",
              "      <td>-17</td>\n",
              "    </tr>\n",
              "    <tr>\n",
              "      <th>2</th>\n",
              "      <td>3</td>\n",
              "      <td>16.0</td>\n",
              "      <td>34</td>\n",
              "      <td>11</td>\n",
              "      <td>-19</td>\n",
              "    </tr>\n",
              "    <tr>\n",
              "      <th>3</th>\n",
              "      <td>3</td>\n",
              "      <td>16.0</td>\n",
              "      <td>34</td>\n",
              "      <td>11</td>\n",
              "      <td>-19</td>\n",
              "    </tr>\n",
              "    <tr>\n",
              "      <th>4</th>\n",
              "      <td>4</td>\n",
              "      <td>16.0</td>\n",
              "      <td>33</td>\n",
              "      <td>12</td>\n",
              "      <td>-18</td>\n",
              "    </tr>\n",
              "    <tr>\n",
              "      <th>5</th>\n",
              "      <td>5</td>\n",
              "      <td>16.0</td>\n",
              "      <td>30</td>\n",
              "      <td>10</td>\n",
              "      <td>-14</td>\n",
              "    </tr>\n",
              "    <tr>\n",
              "      <th>6</th>\n",
              "      <td>6</td>\n",
              "      <td>16.0</td>\n",
              "      <td>31</td>\n",
              "      <td>10</td>\n",
              "      <td>-16</td>\n",
              "    </tr>\n",
              "    <tr>\n",
              "      <th>7</th>\n",
              "      <td>7</td>\n",
              "      <td>19.0</td>\n",
              "      <td>28</td>\n",
              "      <td>14</td>\n",
              "      <td>-14</td>\n",
              "    </tr>\n",
              "    <tr>\n",
              "      <th>8</th>\n",
              "      <td>8</td>\n",
              "      <td>22.0</td>\n",
              "      <td>29</td>\n",
              "      <td>12</td>\n",
              "      <td>-15</td>\n",
              "    </tr>\n",
              "    <tr>\n",
              "      <th>9</th>\n",
              "      <td>9</td>\n",
              "      <td>25.0</td>\n",
              "      <td>26</td>\n",
              "      <td>12</td>\n",
              "      <td>-12</td>\n",
              "    </tr>\n",
              "    <tr>\n",
              "      <th>10</th>\n",
              "      <td>10</td>\n",
              "      <td>26.0</td>\n",
              "      <td>24</td>\n",
              "      <td>14</td>\n",
              "      <td>-8</td>\n",
              "    </tr>\n",
              "    <tr>\n",
              "      <th>11</th>\n",
              "      <td>11</td>\n",
              "      <td>27.0</td>\n",
              "      <td>20</td>\n",
              "      <td>14</td>\n",
              "      <td>-4</td>\n",
              "    </tr>\n",
              "    <tr>\n",
              "      <th>12</th>\n",
              "      <td>12</td>\n",
              "      <td>30.0</td>\n",
              "      <td>19</td>\n",
              "      <td>16</td>\n",
              "      <td>0</td>\n",
              "    </tr>\n",
              "    <tr>\n",
              "      <th>13</th>\n",
              "      <td>13</td>\n",
              "      <td>30.0</td>\n",
              "      <td>19</td>\n",
              "      <td>16</td>\n",
              "      <td>0</td>\n",
              "    </tr>\n",
              "    <tr>\n",
              "      <th>14</th>\n",
              "      <td>14</td>\n",
              "      <td>NaN</td>\n",
              "      <td>13</td>\n",
              "      <td>17</td>\n",
              "      <td>2</td>\n",
              "    </tr>\n",
              "    <tr>\n",
              "      <th>15</th>\n",
              "      <td>15</td>\n",
              "      <td>27.0</td>\n",
              "      <td>14</td>\n",
              "      <td>17</td>\n",
              "      <td>3</td>\n",
              "    </tr>\n",
              "    <tr>\n",
              "      <th>16</th>\n",
              "      <td>16</td>\n",
              "      <td>27.0</td>\n",
              "      <td>16</td>\n",
              "      <td>17</td>\n",
              "      <td>2</td>\n",
              "    </tr>\n",
              "    <tr>\n",
              "      <th>17</th>\n",
              "      <td>17</td>\n",
              "      <td>28.0</td>\n",
              "      <td>-4</td>\n",
              "      <td>18</td>\n",
              "      <td>0</td>\n",
              "    </tr>\n",
              "    <tr>\n",
              "      <th>18</th>\n",
              "      <td>18</td>\n",
              "      <td>33.0</td>\n",
              "      <td>26</td>\n",
              "      <td>20</td>\n",
              "      <td>-6</td>\n",
              "    </tr>\n",
              "    <tr>\n",
              "      <th>19</th>\n",
              "      <td>19</td>\n",
              "      <td>42.0</td>\n",
              "      <td>32</td>\n",
              "      <td>21</td>\n",
              "      <td>-8</td>\n",
              "    </tr>\n",
              "    <tr>\n",
              "      <th>20</th>\n",
              "      <td>20</td>\n",
              "      <td>120.0</td>\n",
              "      <td>33</td>\n",
              "      <td>21</td>\n",
              "      <td>-12</td>\n",
              "    </tr>\n",
              "    <tr>\n",
              "      <th>21</th>\n",
              "      <td>21</td>\n",
              "      <td>47.0</td>\n",
              "      <td>32</td>\n",
              "      <td>21</td>\n",
              "      <td>-16</td>\n",
              "    </tr>\n",
              "    <tr>\n",
              "      <th>22</th>\n",
              "      <td>22</td>\n",
              "      <td>44.0</td>\n",
              "      <td>30</td>\n",
              "      <td>22</td>\n",
              "      <td>-18</td>\n",
              "    </tr>\n",
              "    <tr>\n",
              "      <th>23</th>\n",
              "      <td>23</td>\n",
              "      <td>36.0</td>\n",
              "      <td>35</td>\n",
              "      <td>!</td>\n",
              "      <td>-19</td>\n",
              "    </tr>\n",
              "    <tr>\n",
              "      <th>24</th>\n",
              "      <td>24</td>\n",
              "      <td>37.0</td>\n",
              "      <td>36</td>\n",
              "      <td>18</td>\n",
              "      <td>-22</td>\n",
              "    </tr>\n",
              "  </tbody>\n",
              "</table>\n",
              "</div>"
            ],
            "text/plain": [
              "    Time  E_Plug  E_Heat Price  Temperature\n",
              "0      1    24.0      28    10          -15\n",
              "1      2    17.0      32    12          -17\n",
              "2      3    16.0      34    11          -19\n",
              "3      3    16.0      34    11          -19\n",
              "4      4    16.0      33    12          -18\n",
              "5      5    16.0      30    10          -14\n",
              "6      6    16.0      31    10          -16\n",
              "7      7    19.0      28    14          -14\n",
              "8      8    22.0      29    12          -15\n",
              "9      9    25.0      26    12          -12\n",
              "10    10    26.0      24    14           -8\n",
              "11    11    27.0      20    14           -4\n",
              "12    12    30.0      19    16            0\n",
              "13    13    30.0      19    16            0\n",
              "14    14     NaN      13    17            2\n",
              "15    15    27.0      14    17            3\n",
              "16    16    27.0      16    17            2\n",
              "17    17    28.0      -4    18            0\n",
              "18    18    33.0      26    20           -6\n",
              "19    19    42.0      32    21           -8\n",
              "20    20   120.0      33    21          -12\n",
              "21    21    47.0      32    21          -16\n",
              "22    22    44.0      30    22          -18\n",
              "23    23    36.0      35     !          -19\n",
              "24    24    37.0      36    18          -22"
            ]
          },
          "metadata": {
            "tags": []
          },
          "execution_count": 298
        }
      ]
    },
    {
      "cell_type": "markdown",
      "metadata": {
        "id": "ocHzpY0Q9lYs"
      },
      "source": [
        "As we can see we change our main data set."
      ]
    },
    {
      "cell_type": "code",
      "metadata": {
        "colab": {
          "base_uri": "https://localhost:8080/",
          "height": 203
        },
        "id": "OsMYyaGFzy8_",
        "outputId": "d419b455-05a2-42ae-e0f6-84d81766c525"
      },
      "source": [
        "Test_homedata2.drop(2,axis=0)\n",
        "Test_homedata2.head()"
      ],
      "execution_count": 299,
      "outputs": [
        {
          "output_type": "execute_result",
          "data": {
            "text/html": [
              "<div>\n",
              "<style scoped>\n",
              "    .dataframe tbody tr th:only-of-type {\n",
              "        vertical-align: middle;\n",
              "    }\n",
              "\n",
              "    .dataframe tbody tr th {\n",
              "        vertical-align: top;\n",
              "    }\n",
              "\n",
              "    .dataframe thead th {\n",
              "        text-align: right;\n",
              "    }\n",
              "</style>\n",
              "<table border=\"1\" class=\"dataframe\">\n",
              "  <thead>\n",
              "    <tr style=\"text-align: right;\">\n",
              "      <th></th>\n",
              "      <th>Time</th>\n",
              "      <th>E_Plug</th>\n",
              "      <th>E_Heat</th>\n",
              "      <th>Price</th>\n",
              "      <th>Temperature</th>\n",
              "      <th>No. Occupants</th>\n",
              "    </tr>\n",
              "  </thead>\n",
              "  <tbody>\n",
              "    <tr>\n",
              "      <th>0</th>\n",
              "      <td>1</td>\n",
              "      <td>24.0</td>\n",
              "      <td>28</td>\n",
              "      <td>10</td>\n",
              "      <td>-15</td>\n",
              "      <td>12</td>\n",
              "    </tr>\n",
              "    <tr>\n",
              "      <th>1</th>\n",
              "      <td>2</td>\n",
              "      <td>17.0</td>\n",
              "      <td>32</td>\n",
              "      <td>12</td>\n",
              "      <td>-17</td>\n",
              "      <td>12</td>\n",
              "    </tr>\n",
              "    <tr>\n",
              "      <th>2</th>\n",
              "      <td>3</td>\n",
              "      <td>16.0</td>\n",
              "      <td>34</td>\n",
              "      <td>11</td>\n",
              "      <td>-19</td>\n",
              "      <td>12</td>\n",
              "    </tr>\n",
              "    <tr>\n",
              "      <th>3</th>\n",
              "      <td>3</td>\n",
              "      <td>16.0</td>\n",
              "      <td>34</td>\n",
              "      <td>11</td>\n",
              "      <td>-19</td>\n",
              "      <td>12</td>\n",
              "    </tr>\n",
              "    <tr>\n",
              "      <th>4</th>\n",
              "      <td>4</td>\n",
              "      <td>16.0</td>\n",
              "      <td>33</td>\n",
              "      <td>12</td>\n",
              "      <td>-18</td>\n",
              "      <td>12</td>\n",
              "    </tr>\n",
              "  </tbody>\n",
              "</table>\n",
              "</div>"
            ],
            "text/plain": [
              "   Time  E_Plug  E_Heat Price  Temperature  No. Occupants\n",
              "0     1    24.0      28    10          -15             12\n",
              "1     2    17.0      32    12          -17             12\n",
              "2     3    16.0      34    11          -19             12\n",
              "3     3    16.0      34    11          -19             12\n",
              "4     4    16.0      33    12          -18             12"
            ]
          },
          "metadata": {
            "tags": []
          },
          "execution_count": 299
        }
      ]
    },
    {
      "cell_type": "markdown",
      "metadata": {
        "id": "vdnFnJJs0POB"
      },
      "source": [
        "As we can see we delete the row. which are same. but the index our vary so we have corrrect them"
      ]
    },
    {
      "cell_type": "code",
      "metadata": {
        "colab": {
          "base_uri": "https://localhost:8080/",
          "height": 203
        },
        "id": "D82Bva1f0NTJ",
        "outputId": "288ead40-4da5-4f7f-a9ea-d470a8568be0"
      },
      "source": [
        "Corrt_index=Test_homedata2.reset_index(drop=True)\n",
        "Corrt_index.head()"
      ],
      "execution_count": 300,
      "outputs": [
        {
          "output_type": "execute_result",
          "data": {
            "text/html": [
              "<div>\n",
              "<style scoped>\n",
              "    .dataframe tbody tr th:only-of-type {\n",
              "        vertical-align: middle;\n",
              "    }\n",
              "\n",
              "    .dataframe tbody tr th {\n",
              "        vertical-align: top;\n",
              "    }\n",
              "\n",
              "    .dataframe thead th {\n",
              "        text-align: right;\n",
              "    }\n",
              "</style>\n",
              "<table border=\"1\" class=\"dataframe\">\n",
              "  <thead>\n",
              "    <tr style=\"text-align: right;\">\n",
              "      <th></th>\n",
              "      <th>Time</th>\n",
              "      <th>E_Plug</th>\n",
              "      <th>E_Heat</th>\n",
              "      <th>Price</th>\n",
              "      <th>Temperature</th>\n",
              "      <th>No. Occupants</th>\n",
              "    </tr>\n",
              "  </thead>\n",
              "  <tbody>\n",
              "    <tr>\n",
              "      <th>0</th>\n",
              "      <td>1</td>\n",
              "      <td>24.0</td>\n",
              "      <td>28</td>\n",
              "      <td>10</td>\n",
              "      <td>-15</td>\n",
              "      <td>12</td>\n",
              "    </tr>\n",
              "    <tr>\n",
              "      <th>1</th>\n",
              "      <td>2</td>\n",
              "      <td>17.0</td>\n",
              "      <td>32</td>\n",
              "      <td>12</td>\n",
              "      <td>-17</td>\n",
              "      <td>12</td>\n",
              "    </tr>\n",
              "    <tr>\n",
              "      <th>2</th>\n",
              "      <td>3</td>\n",
              "      <td>16.0</td>\n",
              "      <td>34</td>\n",
              "      <td>11</td>\n",
              "      <td>-19</td>\n",
              "      <td>12</td>\n",
              "    </tr>\n",
              "    <tr>\n",
              "      <th>3</th>\n",
              "      <td>3</td>\n",
              "      <td>16.0</td>\n",
              "      <td>34</td>\n",
              "      <td>11</td>\n",
              "      <td>-19</td>\n",
              "      <td>12</td>\n",
              "    </tr>\n",
              "    <tr>\n",
              "      <th>4</th>\n",
              "      <td>4</td>\n",
              "      <td>16.0</td>\n",
              "      <td>33</td>\n",
              "      <td>12</td>\n",
              "      <td>-18</td>\n",
              "      <td>12</td>\n",
              "    </tr>\n",
              "  </tbody>\n",
              "</table>\n",
              "</div>"
            ],
            "text/plain": [
              "   Time  E_Plug  E_Heat Price  Temperature  No. Occupants\n",
              "0     1    24.0      28    10          -15             12\n",
              "1     2    17.0      32    12          -17             12\n",
              "2     3    16.0      34    11          -19             12\n",
              "3     3    16.0      34    11          -19             12\n",
              "4     4    16.0      33    12          -18             12"
            ]
          },
          "metadata": {
            "tags": []
          },
          "execution_count": 300
        }
      ]
    },
    {
      "cell_type": "markdown",
      "metadata": {
        "id": "bCjUBETl02hb"
      },
      "source": [
        "We correct the indexes. all things are set."
      ]
    },
    {
      "cell_type": "markdown",
      "metadata": {
        "id": "y3IbKcuayhE5"
      },
      "source": [
        "# **Statistics**"
      ]
    },
    {
      "cell_type": "code",
      "metadata": {
        "colab": {
          "base_uri": "https://localhost:8080/",
          "height": 295
        },
        "id": "gY7bQAnwwVXH",
        "outputId": "790aaf53-2c04-4ad2-d302-458aa7cab0aa"
      },
      "source": [
        "Test_homedata2.describe()"
      ],
      "execution_count": 301,
      "outputs": [
        {
          "output_type": "execute_result",
          "data": {
            "text/html": [
              "<div>\n",
              "<style scoped>\n",
              "    .dataframe tbody tr th:only-of-type {\n",
              "        vertical-align: middle;\n",
              "    }\n",
              "\n",
              "    .dataframe tbody tr th {\n",
              "        vertical-align: top;\n",
              "    }\n",
              "\n",
              "    .dataframe thead th {\n",
              "        text-align: right;\n",
              "    }\n",
              "</style>\n",
              "<table border=\"1\" class=\"dataframe\">\n",
              "  <thead>\n",
              "    <tr style=\"text-align: right;\">\n",
              "      <th></th>\n",
              "      <th>Time</th>\n",
              "      <th>E_Plug</th>\n",
              "      <th>E_Heat</th>\n",
              "      <th>Temperature</th>\n",
              "      <th>No. Occupants</th>\n",
              "    </tr>\n",
              "  </thead>\n",
              "  <tbody>\n",
              "    <tr>\n",
              "      <th>count</th>\n",
              "      <td>25.000000</td>\n",
              "      <td>24.000</td>\n",
              "      <td>25.000000</td>\n",
              "      <td>25.00000</td>\n",
              "      <td>25.000000</td>\n",
              "    </tr>\n",
              "    <tr>\n",
              "      <th>mean</th>\n",
              "      <td>12.120000</td>\n",
              "      <td>30.875</td>\n",
              "      <td>26.000000</td>\n",
              "      <td>-10.60000</td>\n",
              "      <td>9.560000</td>\n",
              "    </tr>\n",
              "    <tr>\n",
              "      <th>std</th>\n",
              "      <td>7.178208</td>\n",
              "      <td>21.107</td>\n",
              "      <td>9.219544</td>\n",
              "      <td>7.99479</td>\n",
              "      <td>2.987195</td>\n",
              "    </tr>\n",
              "    <tr>\n",
              "      <th>min</th>\n",
              "      <td>1.000000</td>\n",
              "      <td>16.000</td>\n",
              "      <td>-4.000000</td>\n",
              "      <td>-22.00000</td>\n",
              "      <td>4.000000</td>\n",
              "    </tr>\n",
              "    <tr>\n",
              "      <th>25%</th>\n",
              "      <td>6.000000</td>\n",
              "      <td>18.500</td>\n",
              "      <td>20.000000</td>\n",
              "      <td>-17.00000</td>\n",
              "      <td>8.000000</td>\n",
              "    </tr>\n",
              "    <tr>\n",
              "      <th>50%</th>\n",
              "      <td>12.000000</td>\n",
              "      <td>27.000</td>\n",
              "      <td>29.000000</td>\n",
              "      <td>-14.00000</td>\n",
              "      <td>12.000000</td>\n",
              "    </tr>\n",
              "    <tr>\n",
              "      <th>75%</th>\n",
              "      <td>18.000000</td>\n",
              "      <td>33.750</td>\n",
              "      <td>32.000000</td>\n",
              "      <td>-4.00000</td>\n",
              "      <td>12.000000</td>\n",
              "    </tr>\n",
              "    <tr>\n",
              "      <th>max</th>\n",
              "      <td>24.000000</td>\n",
              "      <td>120.000</td>\n",
              "      <td>36.000000</td>\n",
              "      <td>3.00000</td>\n",
              "      <td>12.000000</td>\n",
              "    </tr>\n",
              "  </tbody>\n",
              "</table>\n",
              "</div>"
            ],
            "text/plain": [
              "            Time   E_Plug     E_Heat  Temperature  No. Occupants\n",
              "count  25.000000   24.000  25.000000     25.00000      25.000000\n",
              "mean   12.120000   30.875  26.000000    -10.60000       9.560000\n",
              "std     7.178208   21.107   9.219544      7.99479       2.987195\n",
              "min     1.000000   16.000  -4.000000    -22.00000       4.000000\n",
              "25%     6.000000   18.500  20.000000    -17.00000       8.000000\n",
              "50%    12.000000   27.000  29.000000    -14.00000      12.000000\n",
              "75%    18.000000   33.750  32.000000     -4.00000      12.000000\n",
              "max    24.000000  120.000  36.000000      3.00000      12.000000"
            ]
          },
          "metadata": {
            "tags": []
          },
          "execution_count": 301
        }
      ]
    },
    {
      "cell_type": "markdown",
      "metadata": {
        "id": "AZDecEAz1bYO"
      },
      "source": [
        "This is our current data set information we have all things like mean, count, standard deviation and quartile too. In this We can see the missing value."
      ]
    },
    {
      "cell_type": "code",
      "metadata": {
        "colab": {
          "base_uri": "https://localhost:8080/"
        },
        "id": "Lj9bT2OD1Jsj",
        "outputId": "135506ef-a432-4561-d1bb-7756e5fb43d2"
      },
      "source": [
        "Test_homedata2.info()"
      ],
      "execution_count": 302,
      "outputs": [
        {
          "output_type": "stream",
          "text": [
            "<class 'pandas.core.frame.DataFrame'>\n",
            "RangeIndex: 25 entries, 0 to 24\n",
            "Data columns (total 6 columns):\n",
            " #   Column         Non-Null Count  Dtype  \n",
            "---  ------         --------------  -----  \n",
            " 0   Time           25 non-null     int64  \n",
            " 1   E_Plug         24 non-null     float64\n",
            " 2   E_Heat         25 non-null     int64  \n",
            " 3   Price          25 non-null     object \n",
            " 4   Temperature    25 non-null     int64  \n",
            " 5   No. Occupants  25 non-null     int64  \n",
            "dtypes: float64(1), int64(4), object(1)\n",
            "memory usage: 1.3+ KB\n"
          ],
          "name": "stdout"
        }
      ]
    },
    {
      "cell_type": "markdown",
      "metadata": {
        "id": "P-1peGJd1-sP"
      },
      "source": [
        "We can use info to easily the missing values in our data set. In E_Plug we have missing value"
      ]
    },
    {
      "cell_type": "markdown",
      "metadata": {
        "id": "uN1OXANp2i1z"
      },
      "source": [
        "Now we find minimum in our data"
      ]
    },
    {
      "cell_type": "code",
      "metadata": {
        "colab": {
          "base_uri": "https://localhost:8080/"
        },
        "id": "pjochX1314Tj",
        "outputId": "76fb91d7-f649-4f28-e82f-7f4b0f006c8c"
      },
      "source": [
        "Min_value=Test_homedata2['E_Heat'].min()\n",
        "Test_homedata2['E_Heat'][Test_homedata2['E_Heat']==Min_value]"
      ],
      "execution_count": 303,
      "outputs": [
        {
          "output_type": "execute_result",
          "data": {
            "text/plain": [
              "17   -4\n",
              "Name: E_Heat, dtype: int64"
            ]
          },
          "metadata": {
            "tags": []
          },
          "execution_count": 303
        }
      ]
    },
    {
      "cell_type": "markdown",
      "metadata": {
        "id": "oUioWS8l4Icl"
      },
      "source": [
        "Test_homedata2['E_Heat'] this command says - Go to the Test_homedata2 dataset \n",
        "\n",
        "[Test_homedata2['E_Heat']==Min_value] this will say - In this data set find minimum value"
      ]
    },
    {
      "cell_type": "markdown",
      "metadata": {
        "id": "marn3ZMN4g3D"
      },
      "source": [
        "Now we replace that minimum that is -4 to 25"
      ]
    },
    {
      "cell_type": "code",
      "metadata": {
        "colab": {
          "base_uri": "https://localhost:8080/",
          "height": 203
        },
        "id": "9wMIix_k22u4",
        "outputId": "f5400ab6-d07a-40ec-c2bd-ce39d75a15f8"
      },
      "source": [
        "Test_homedata2.replace(-4,25,inplace=True)\n",
        "Test_homedata2.head(5)"
      ],
      "execution_count": 304,
      "outputs": [
        {
          "output_type": "execute_result",
          "data": {
            "text/html": [
              "<div>\n",
              "<style scoped>\n",
              "    .dataframe tbody tr th:only-of-type {\n",
              "        vertical-align: middle;\n",
              "    }\n",
              "\n",
              "    .dataframe tbody tr th {\n",
              "        vertical-align: top;\n",
              "    }\n",
              "\n",
              "    .dataframe thead th {\n",
              "        text-align: right;\n",
              "    }\n",
              "</style>\n",
              "<table border=\"1\" class=\"dataframe\">\n",
              "  <thead>\n",
              "    <tr style=\"text-align: right;\">\n",
              "      <th></th>\n",
              "      <th>Time</th>\n",
              "      <th>E_Plug</th>\n",
              "      <th>E_Heat</th>\n",
              "      <th>Price</th>\n",
              "      <th>Temperature</th>\n",
              "      <th>No. Occupants</th>\n",
              "    </tr>\n",
              "  </thead>\n",
              "  <tbody>\n",
              "    <tr>\n",
              "      <th>0</th>\n",
              "      <td>1</td>\n",
              "      <td>24.0</td>\n",
              "      <td>28</td>\n",
              "      <td>10</td>\n",
              "      <td>-15</td>\n",
              "      <td>12</td>\n",
              "    </tr>\n",
              "    <tr>\n",
              "      <th>1</th>\n",
              "      <td>2</td>\n",
              "      <td>17.0</td>\n",
              "      <td>32</td>\n",
              "      <td>12</td>\n",
              "      <td>-17</td>\n",
              "      <td>12</td>\n",
              "    </tr>\n",
              "    <tr>\n",
              "      <th>2</th>\n",
              "      <td>3</td>\n",
              "      <td>16.0</td>\n",
              "      <td>34</td>\n",
              "      <td>11</td>\n",
              "      <td>-19</td>\n",
              "      <td>12</td>\n",
              "    </tr>\n",
              "    <tr>\n",
              "      <th>3</th>\n",
              "      <td>3</td>\n",
              "      <td>16.0</td>\n",
              "      <td>34</td>\n",
              "      <td>11</td>\n",
              "      <td>-19</td>\n",
              "      <td>12</td>\n",
              "    </tr>\n",
              "    <tr>\n",
              "      <th>4</th>\n",
              "      <td>4</td>\n",
              "      <td>16.0</td>\n",
              "      <td>33</td>\n",
              "      <td>12</td>\n",
              "      <td>-18</td>\n",
              "      <td>12</td>\n",
              "    </tr>\n",
              "  </tbody>\n",
              "</table>\n",
              "</div>"
            ],
            "text/plain": [
              "   Time  E_Plug  E_Heat Price  Temperature  No. Occupants\n",
              "0     1    24.0      28    10          -15             12\n",
              "1     2    17.0      32    12          -17             12\n",
              "2     3    16.0      34    11          -19             12\n",
              "3     3    16.0      34    11          -19             12\n",
              "4     4    16.0      33    12          -18             12"
            ]
          },
          "metadata": {
            "tags": []
          },
          "execution_count": 304
        }
      ]
    },
    {
      "cell_type": "markdown",
      "metadata": {
        "id": "1061XF3t5Q12"
      },
      "source": [
        "#Covariance"
      ]
    },
    {
      "cell_type": "code",
      "metadata": {
        "colab": {
          "base_uri": "https://localhost:8080/",
          "height": 203
        },
        "id": "iWlINyUs4wmw",
        "outputId": "c00de4ee-fa7f-47d2-ed31-8755129859c2"
      },
      "source": [
        "Test_homedata2.cov()"
      ],
      "execution_count": 305,
      "outputs": [
        {
          "output_type": "execute_result",
          "data": {
            "text/html": [
              "<div>\n",
              "<style scoped>\n",
              "    .dataframe tbody tr th:only-of-type {\n",
              "        vertical-align: middle;\n",
              "    }\n",
              "\n",
              "    .dataframe tbody tr th {\n",
              "        vertical-align: top;\n",
              "    }\n",
              "\n",
              "    .dataframe thead th {\n",
              "        text-align: right;\n",
              "    }\n",
              "</style>\n",
              "<table border=\"1\" class=\"dataframe\">\n",
              "  <thead>\n",
              "    <tr style=\"text-align: right;\">\n",
              "      <th></th>\n",
              "      <th>Time</th>\n",
              "      <th>E_Plug</th>\n",
              "      <th>E_Heat</th>\n",
              "      <th>Temperature</th>\n",
              "      <th>No. Occupants</th>\n",
              "    </tr>\n",
              "  </thead>\n",
              "  <tbody>\n",
              "    <tr>\n",
              "      <th>Time</th>\n",
              "      <td>51.526667</td>\n",
              "      <td>90.788043</td>\n",
              "      <td>-2.436667</td>\n",
              "      <td>9.846667</td>\n",
              "      <td>-3.361667</td>\n",
              "    </tr>\n",
              "    <tr>\n",
              "      <th>E_Plug</th>\n",
              "      <td>90.788043</td>\n",
              "      <td>445.505435</td>\n",
              "      <td>19.880435</td>\n",
              "      <td>0.576087</td>\n",
              "      <td>5.885870</td>\n",
              "    </tr>\n",
              "    <tr>\n",
              "      <th>E_Heat</th>\n",
              "      <td>-2.436667</td>\n",
              "      <td>19.880435</td>\n",
              "      <td>46.140000</td>\n",
              "      <td>-58.510000</td>\n",
              "      <td>18.781667</td>\n",
              "    </tr>\n",
              "    <tr>\n",
              "      <th>Temperature</th>\n",
              "      <td>9.846667</td>\n",
              "      <td>0.576087</td>\n",
              "      <td>-58.510000</td>\n",
              "      <td>113.506667</td>\n",
              "      <td>-23.701667</td>\n",
              "    </tr>\n",
              "    <tr>\n",
              "      <th>No. Occupants</th>\n",
              "      <td>-3.361667</td>\n",
              "      <td>5.885870</td>\n",
              "      <td>18.781667</td>\n",
              "      <td>-23.701667</td>\n",
              "      <td>8.923333</td>\n",
              "    </tr>\n",
              "  </tbody>\n",
              "</table>\n",
              "</div>"
            ],
            "text/plain": [
              "                    Time      E_Plug     E_Heat  Temperature  No. Occupants\n",
              "Time           51.526667   90.788043  -2.436667     9.846667      -3.361667\n",
              "E_Plug         90.788043  445.505435  19.880435     0.576087       5.885870\n",
              "E_Heat         -2.436667   19.880435  46.140000   -58.510000      18.781667\n",
              "Temperature     9.846667    0.576087 -58.510000   113.506667     -23.701667\n",
              "No. Occupants  -3.361667    5.885870  18.781667   -23.701667       8.923333"
            ]
          },
          "metadata": {
            "tags": []
          },
          "execution_count": 305
        }
      ]
    },
    {
      "cell_type": "markdown",
      "metadata": {
        "id": "26D50u1_73sO"
      },
      "source": [
        "This is shows the columns variable how they are realtion to each other but its not easy to understand that's why we are using another method."
      ]
    },
    {
      "cell_type": "code",
      "metadata": {
        "colab": {
          "base_uri": "https://localhost:8080/",
          "height": 349
        },
        "id": "XOttogle7qMR",
        "outputId": "13be3bb4-4ae4-4b39-ebc8-37d46d5d1073"
      },
      "source": [
        "sns.heatmap(Test_homedata2.corr())"
      ],
      "execution_count": 306,
      "outputs": [
        {
          "output_type": "execute_result",
          "data": {
            "text/plain": [
              "<matplotlib.axes._subplots.AxesSubplot at 0x7f6cd7a49550>"
            ]
          },
          "metadata": {
            "tags": []
          },
          "execution_count": 306
        },
        {
          "output_type": "display_data",
          "data": {
            "image/png": "[encoded data removed]",
            "text/plain": [
              "<Figure size 432x288 with 2 Axes>"
            ]
          },
          "metadata": {
            "tags": [],
            "needs_background": "light"
          }
        }
      ]
    },
    {
      "cell_type": "markdown",
      "metadata": {
        "id": "PRmf829W8jTx"
      },
      "source": [
        "Now how beautiful to see the relation between variables"
      ]
    },
    {
      "cell_type": "markdown",
      "metadata": {
        "id": "116oiT7M-g9O"
      },
      "source": [
        "#Missing Value"
      ]
    },
    {
      "cell_type": "code",
      "metadata": {
        "colab": {
          "base_uri": "https://localhost:8080/"
        },
        "id": "YfVj4ceM8aTh",
        "outputId": "3340723f-cff9-4599-9266-b36f9ef6e590"
      },
      "source": [
        "Test_homedata2.info()"
      ],
      "execution_count": 307,
      "outputs": [
        {
          "output_type": "stream",
          "text": [
            "<class 'pandas.core.frame.DataFrame'>\n",
            "RangeIndex: 25 entries, 0 to 24\n",
            "Data columns (total 6 columns):\n",
            " #   Column         Non-Null Count  Dtype  \n",
            "---  ------         --------------  -----  \n",
            " 0   Time           25 non-null     int64  \n",
            " 1   E_Plug         24 non-null     float64\n",
            " 2   E_Heat         25 non-null     int64  \n",
            " 3   Price          25 non-null     object \n",
            " 4   Temperature    25 non-null     int64  \n",
            " 5   No. Occupants  25 non-null     int64  \n",
            "dtypes: float64(1), int64(4), object(1)\n",
            "memory usage: 1.3+ KB\n"
          ],
          "name": "stdout"
        }
      ]
    },
    {
      "cell_type": "markdown",
      "metadata": {
        "id": "EuA9n-6Y-shC"
      },
      "source": [
        "Now we have missing value in E_Plug column"
      ]
    },
    {
      "cell_type": "code",
      "metadata": {
        "colab": {
          "base_uri": "https://localhost:8080/",
          "height": 819
        },
        "id": "zAwq6zOd-pee",
        "outputId": "97e6b31e-2f90-4a32-8073-9d2cd7d7b0e0"
      },
      "source": [
        "Reple_data=Test_homedata2.replace('!',np.NaN)\n",
        "Reple_data.head(25)"
      ],
      "execution_count": 308,
      "outputs": [
        {
          "output_type": "execute_result",
          "data": {
            "text/html": [
              "<div>\n",
              "<style scoped>\n",
              "    .dataframe tbody tr th:only-of-type {\n",
              "        vertical-align: middle;\n",
              "    }\n",
              "\n",
              "    .dataframe tbody tr th {\n",
              "        vertical-align: top;\n",
              "    }\n",
              "\n",
              "    .dataframe thead th {\n",
              "        text-align: right;\n",
              "    }\n",
              "</style>\n",
              "<table border=\"1\" class=\"dataframe\">\n",
              "  <thead>\n",
              "    <tr style=\"text-align: right;\">\n",
              "      <th></th>\n",
              "      <th>Time</th>\n",
              "      <th>E_Plug</th>\n",
              "      <th>E_Heat</th>\n",
              "      <th>Price</th>\n",
              "      <th>Temperature</th>\n",
              "      <th>No. Occupants</th>\n",
              "    </tr>\n",
              "  </thead>\n",
              "  <tbody>\n",
              "    <tr>\n",
              "      <th>0</th>\n",
              "      <td>1</td>\n",
              "      <td>24.0</td>\n",
              "      <td>28</td>\n",
              "      <td>10</td>\n",
              "      <td>-15</td>\n",
              "      <td>12</td>\n",
              "    </tr>\n",
              "    <tr>\n",
              "      <th>1</th>\n",
              "      <td>2</td>\n",
              "      <td>17.0</td>\n",
              "      <td>32</td>\n",
              "      <td>12</td>\n",
              "      <td>-17</td>\n",
              "      <td>12</td>\n",
              "    </tr>\n",
              "    <tr>\n",
              "      <th>2</th>\n",
              "      <td>3</td>\n",
              "      <td>16.0</td>\n",
              "      <td>34</td>\n",
              "      <td>11</td>\n",
              "      <td>-19</td>\n",
              "      <td>12</td>\n",
              "    </tr>\n",
              "    <tr>\n",
              "      <th>3</th>\n",
              "      <td>3</td>\n",
              "      <td>16.0</td>\n",
              "      <td>34</td>\n",
              "      <td>11</td>\n",
              "      <td>-19</td>\n",
              "      <td>12</td>\n",
              "    </tr>\n",
              "    <tr>\n",
              "      <th>4</th>\n",
              "      <td>4</td>\n",
              "      <td>16.0</td>\n",
              "      <td>33</td>\n",
              "      <td>12</td>\n",
              "      <td>-18</td>\n",
              "      <td>12</td>\n",
              "    </tr>\n",
              "    <tr>\n",
              "      <th>5</th>\n",
              "      <td>5</td>\n",
              "      <td>16.0</td>\n",
              "      <td>30</td>\n",
              "      <td>10</td>\n",
              "      <td>-14</td>\n",
              "      <td>12</td>\n",
              "    </tr>\n",
              "    <tr>\n",
              "      <th>6</th>\n",
              "      <td>6</td>\n",
              "      <td>16.0</td>\n",
              "      <td>31</td>\n",
              "      <td>10</td>\n",
              "      <td>-16</td>\n",
              "      <td>12</td>\n",
              "    </tr>\n",
              "    <tr>\n",
              "      <th>7</th>\n",
              "      <td>7</td>\n",
              "      <td>19.0</td>\n",
              "      <td>28</td>\n",
              "      <td>14</td>\n",
              "      <td>-14</td>\n",
              "      <td>12</td>\n",
              "    </tr>\n",
              "    <tr>\n",
              "      <th>8</th>\n",
              "      <td>8</td>\n",
              "      <td>22.0</td>\n",
              "      <td>29</td>\n",
              "      <td>12</td>\n",
              "      <td>-15</td>\n",
              "      <td>9</td>\n",
              "    </tr>\n",
              "    <tr>\n",
              "      <th>9</th>\n",
              "      <td>9</td>\n",
              "      <td>25.0</td>\n",
              "      <td>26</td>\n",
              "      <td>12</td>\n",
              "      <td>-12</td>\n",
              "      <td>8</td>\n",
              "    </tr>\n",
              "    <tr>\n",
              "      <th>10</th>\n",
              "      <td>10</td>\n",
              "      <td>26.0</td>\n",
              "      <td>24</td>\n",
              "      <td>14</td>\n",
              "      <td>-8</td>\n",
              "      <td>8</td>\n",
              "    </tr>\n",
              "    <tr>\n",
              "      <th>11</th>\n",
              "      <td>11</td>\n",
              "      <td>27.0</td>\n",
              "      <td>20</td>\n",
              "      <td>14</td>\n",
              "      <td>25</td>\n",
              "      <td>8</td>\n",
              "    </tr>\n",
              "    <tr>\n",
              "      <th>12</th>\n",
              "      <td>12</td>\n",
              "      <td>30.0</td>\n",
              "      <td>19</td>\n",
              "      <td>16</td>\n",
              "      <td>0</td>\n",
              "      <td>5</td>\n",
              "    </tr>\n",
              "    <tr>\n",
              "      <th>13</th>\n",
              "      <td>13</td>\n",
              "      <td>30.0</td>\n",
              "      <td>19</td>\n",
              "      <td>16</td>\n",
              "      <td>0</td>\n",
              "      <td>4</td>\n",
              "    </tr>\n",
              "    <tr>\n",
              "      <th>14</th>\n",
              "      <td>14</td>\n",
              "      <td>NaN</td>\n",
              "      <td>13</td>\n",
              "      <td>17</td>\n",
              "      <td>2</td>\n",
              "      <td>4</td>\n",
              "    </tr>\n",
              "    <tr>\n",
              "      <th>15</th>\n",
              "      <td>15</td>\n",
              "      <td>27.0</td>\n",
              "      <td>14</td>\n",
              "      <td>17</td>\n",
              "      <td>3</td>\n",
              "      <td>4</td>\n",
              "    </tr>\n",
              "    <tr>\n",
              "      <th>16</th>\n",
              "      <td>16</td>\n",
              "      <td>27.0</td>\n",
              "      <td>16</td>\n",
              "      <td>17</td>\n",
              "      <td>2</td>\n",
              "      <td>6</td>\n",
              "    </tr>\n",
              "    <tr>\n",
              "      <th>17</th>\n",
              "      <td>17</td>\n",
              "      <td>28.0</td>\n",
              "      <td>25</td>\n",
              "      <td>18</td>\n",
              "      <td>0</td>\n",
              "      <td>8</td>\n",
              "    </tr>\n",
              "    <tr>\n",
              "      <th>18</th>\n",
              "      <td>18</td>\n",
              "      <td>33.0</td>\n",
              "      <td>26</td>\n",
              "      <td>20</td>\n",
              "      <td>-6</td>\n",
              "      <td>9</td>\n",
              "    </tr>\n",
              "    <tr>\n",
              "      <th>19</th>\n",
              "      <td>19</td>\n",
              "      <td>42.0</td>\n",
              "      <td>32</td>\n",
              "      <td>21</td>\n",
              "      <td>-8</td>\n",
              "      <td>10</td>\n",
              "    </tr>\n",
              "    <tr>\n",
              "      <th>20</th>\n",
              "      <td>20</td>\n",
              "      <td>120.0</td>\n",
              "      <td>33</td>\n",
              "      <td>21</td>\n",
              "      <td>-12</td>\n",
              "      <td>12</td>\n",
              "    </tr>\n",
              "    <tr>\n",
              "      <th>21</th>\n",
              "      <td>21</td>\n",
              "      <td>47.0</td>\n",
              "      <td>32</td>\n",
              "      <td>21</td>\n",
              "      <td>-16</td>\n",
              "      <td>12</td>\n",
              "    </tr>\n",
              "    <tr>\n",
              "      <th>22</th>\n",
              "      <td>22</td>\n",
              "      <td>44.0</td>\n",
              "      <td>30</td>\n",
              "      <td>22</td>\n",
              "      <td>-18</td>\n",
              "      <td>12</td>\n",
              "    </tr>\n",
              "    <tr>\n",
              "      <th>23</th>\n",
              "      <td>23</td>\n",
              "      <td>36.0</td>\n",
              "      <td>35</td>\n",
              "      <td>NaN</td>\n",
              "      <td>-19</td>\n",
              "      <td>12</td>\n",
              "    </tr>\n",
              "    <tr>\n",
              "      <th>24</th>\n",
              "      <td>24</td>\n",
              "      <td>37.0</td>\n",
              "      <td>36</td>\n",
              "      <td>18</td>\n",
              "      <td>-22</td>\n",
              "      <td>12</td>\n",
              "    </tr>\n",
              "  </tbody>\n",
              "</table>\n",
              "</div>"
            ],
            "text/plain": [
              "    Time  E_Plug  E_Heat Price  Temperature  No. Occupants\n",
              "0      1    24.0      28    10          -15             12\n",
              "1      2    17.0      32    12          -17             12\n",
              "2      3    16.0      34    11          -19             12\n",
              "3      3    16.0      34    11          -19             12\n",
              "4      4    16.0      33    12          -18             12\n",
              "5      5    16.0      30    10          -14             12\n",
              "6      6    16.0      31    10          -16             12\n",
              "7      7    19.0      28    14          -14             12\n",
              "8      8    22.0      29    12          -15              9\n",
              "9      9    25.0      26    12          -12              8\n",
              "10    10    26.0      24    14           -8              8\n",
              "11    11    27.0      20    14           25              8\n",
              "12    12    30.0      19    16            0              5\n",
              "13    13    30.0      19    16            0              4\n",
              "14    14     NaN      13    17            2              4\n",
              "15    15    27.0      14    17            3              4\n",
              "16    16    27.0      16    17            2              6\n",
              "17    17    28.0      25    18            0              8\n",
              "18    18    33.0      26    20           -6              9\n",
              "19    19    42.0      32    21           -8             10\n",
              "20    20   120.0      33    21          -12             12\n",
              "21    21    47.0      32    21          -16             12\n",
              "22    22    44.0      30    22          -18             12\n",
              "23    23    36.0      35   NaN          -19             12\n",
              "24    24    37.0      36    18          -22             12"
            ]
          },
          "metadata": {
            "tags": []
          },
          "execution_count": 308
        }
      ]
    },
    {
      "cell_type": "code",
      "metadata": {
        "colab": {
          "base_uri": "https://localhost:8080/",
          "height": 819
        },
        "id": "zRwiSqXp_xse",
        "outputId": "4c9514c4-afd5-477a-f26f-6e178b36e732"
      },
      "source": [
        "Reple_data.isnull()"
      ],
      "execution_count": 309,
      "outputs": [
        {
          "output_type": "execute_result",
          "data": {
            "text/html": [
              "<div>\n",
              "<style scoped>\n",
              "    .dataframe tbody tr th:only-of-type {\n",
              "        vertical-align: middle;\n",
              "    }\n",
              "\n",
              "    .dataframe tbody tr th {\n",
              "        vertical-align: top;\n",
              "    }\n",
              "\n",
              "    .dataframe thead th {\n",
              "        text-align: right;\n",
              "    }\n",
              "</style>\n",
              "<table border=\"1\" class=\"dataframe\">\n",
              "  <thead>\n",
              "    <tr style=\"text-align: right;\">\n",
              "      <th></th>\n",
              "      <th>Time</th>\n",
              "      <th>E_Plug</th>\n",
              "      <th>E_Heat</th>\n",
              "      <th>Price</th>\n",
              "      <th>Temperature</th>\n",
              "      <th>No. Occupants</th>\n",
              "    </tr>\n",
              "  </thead>\n",
              "  <tbody>\n",
              "    <tr>\n",
              "      <th>0</th>\n",
              "      <td>False</td>\n",
              "      <td>False</td>\n",
              "      <td>False</td>\n",
              "      <td>False</td>\n",
              "      <td>False</td>\n",
              "      <td>False</td>\n",
              "    </tr>\n",
              "    <tr>\n",
              "      <th>1</th>\n",
              "      <td>False</td>\n",
              "      <td>False</td>\n",
              "      <td>False</td>\n",
              "      <td>False</td>\n",
              "      <td>False</td>\n",
              "      <td>False</td>\n",
              "    </tr>\n",
              "    <tr>\n",
              "      <th>2</th>\n",
              "      <td>False</td>\n",
              "      <td>False</td>\n",
              "      <td>False</td>\n",
              "      <td>False</td>\n",
              "      <td>False</td>\n",
              "      <td>False</td>\n",
              "    </tr>\n",
              "    <tr>\n",
              "      <th>3</th>\n",
              "      <td>False</td>\n",
              "      <td>False</td>\n",
              "      <td>False</td>\n",
              "      <td>False</td>\n",
              "      <td>False</td>\n",
              "      <td>False</td>\n",
              "    </tr>\n",
              "    <tr>\n",
              "      <th>4</th>\n",
              "      <td>False</td>\n",
              "      <td>False</td>\n",
              "      <td>False</td>\n",
              "      <td>False</td>\n",
              "      <td>False</td>\n",
              "      <td>False</td>\n",
              "    </tr>\n",
              "    <tr>\n",
              "      <th>5</th>\n",
              "      <td>False</td>\n",
              "      <td>False</td>\n",
              "      <td>False</td>\n",
              "      <td>False</td>\n",
              "      <td>False</td>\n",
              "      <td>False</td>\n",
              "    </tr>\n",
              "    <tr>\n",
              "      <th>6</th>\n",
              "      <td>False</td>\n",
              "      <td>False</td>\n",
              "      <td>False</td>\n",
              "      <td>False</td>\n",
              "      <td>False</td>\n",
              "      <td>False</td>\n",
              "    </tr>\n",
              "    <tr>\n",
              "      <th>7</th>\n",
              "      <td>False</td>\n",
              "      <td>False</td>\n",
              "      <td>False</td>\n",
              "      <td>False</td>\n",
              "      <td>False</td>\n",
              "      <td>False</td>\n",
              "    </tr>\n",
              "    <tr>\n",
              "      <th>8</th>\n",
              "      <td>False</td>\n",
              "      <td>False</td>\n",
              "      <td>False</td>\n",
              "      <td>False</td>\n",
              "      <td>False</td>\n",
              "      <td>False</td>\n",
              "    </tr>\n",
              "    <tr>\n",
              "      <th>9</th>\n",
              "      <td>False</td>\n",
              "      <td>False</td>\n",
              "      <td>False</td>\n",
              "      <td>False</td>\n",
              "      <td>False</td>\n",
              "      <td>False</td>\n",
              "    </tr>\n",
              "    <tr>\n",
              "      <th>10</th>\n",
              "      <td>False</td>\n",
              "      <td>False</td>\n",
              "      <td>False</td>\n",
              "      <td>False</td>\n",
              "      <td>False</td>\n",
              "      <td>False</td>\n",
              "    </tr>\n",
              "    <tr>\n",
              "      <th>11</th>\n",
              "      <td>False</td>\n",
              "      <td>False</td>\n",
              "      <td>False</td>\n",
              "      <td>False</td>\n",
              "      <td>False</td>\n",
              "      <td>False</td>\n",
              "    </tr>\n",
              "    <tr>\n",
              "      <th>12</th>\n",
              "      <td>False</td>\n",
              "      <td>False</td>\n",
              "      <td>False</td>\n",
              "      <td>False</td>\n",
              "      <td>False</td>\n",
              "      <td>False</td>\n",
              "    </tr>\n",
              "    <tr>\n",
              "      <th>13</th>\n",
              "      <td>False</td>\n",
              "      <td>False</td>\n",
              "      <td>False</td>\n",
              "      <td>False</td>\n",
              "      <td>False</td>\n",
              "      <td>False</td>\n",
              "    </tr>\n",
              "    <tr>\n",
              "      <th>14</th>\n",
              "      <td>False</td>\n",
              "      <td>True</td>\n",
              "      <td>False</td>\n",
              "      <td>False</td>\n",
              "      <td>False</td>\n",
              "      <td>False</td>\n",
              "    </tr>\n",
              "    <tr>\n",
              "      <th>15</th>\n",
              "      <td>False</td>\n",
              "      <td>False</td>\n",
              "      <td>False</td>\n",
              "      <td>False</td>\n",
              "      <td>False</td>\n",
              "      <td>False</td>\n",
              "    </tr>\n",
              "    <tr>\n",
              "      <th>16</th>\n",
              "      <td>False</td>\n",
              "      <td>False</td>\n",
              "      <td>False</td>\n",
              "      <td>False</td>\n",
              "      <td>False</td>\n",
              "      <td>False</td>\n",
              "    </tr>\n",
              "    <tr>\n",
              "      <th>17</th>\n",
              "      <td>False</td>\n",
              "      <td>False</td>\n",
              "      <td>False</td>\n",
              "      <td>False</td>\n",
              "      <td>False</td>\n",
              "      <td>False</td>\n",
              "    </tr>\n",
              "    <tr>\n",
              "      <th>18</th>\n",
              "      <td>False</td>\n",
              "      <td>False</td>\n",
              "      <td>False</td>\n",
              "      <td>False</td>\n",
              "      <td>False</td>\n",
              "      <td>False</td>\n",
              "    </tr>\n",
              "    <tr>\n",
              "      <th>19</th>\n",
              "      <td>False</td>\n",
              "      <td>False</td>\n",
              "      <td>False</td>\n",
              "      <td>False</td>\n",
              "      <td>False</td>\n",
              "      <td>False</td>\n",
              "    </tr>\n",
              "    <tr>\n",
              "      <th>20</th>\n",
              "      <td>False</td>\n",
              "      <td>False</td>\n",
              "      <td>False</td>\n",
              "      <td>False</td>\n",
              "      <td>False</td>\n",
              "      <td>False</td>\n",
              "    </tr>\n",
              "    <tr>\n",
              "      <th>21</th>\n",
              "      <td>False</td>\n",
              "      <td>False</td>\n",
              "      <td>False</td>\n",
              "      <td>False</td>\n",
              "      <td>False</td>\n",
              "      <td>False</td>\n",
              "    </tr>\n",
              "    <tr>\n",
              "      <th>22</th>\n",
              "      <td>False</td>\n",
              "      <td>False</td>\n",
              "      <td>False</td>\n",
              "      <td>False</td>\n",
              "      <td>False</td>\n",
              "      <td>False</td>\n",
              "    </tr>\n",
              "    <tr>\n",
              "      <th>23</th>\n",
              "      <td>False</td>\n",
              "      <td>False</td>\n",
              "      <td>False</td>\n",
              "      <td>True</td>\n",
              "      <td>False</td>\n",
              "      <td>False</td>\n",
              "    </tr>\n",
              "    <tr>\n",
              "      <th>24</th>\n",
              "      <td>False</td>\n",
              "      <td>False</td>\n",
              "      <td>False</td>\n",
              "      <td>False</td>\n",
              "      <td>False</td>\n",
              "      <td>False</td>\n",
              "    </tr>\n",
              "  </tbody>\n",
              "</table>\n",
              "</div>"
            ],
            "text/plain": [
              "     Time  E_Plug  E_Heat  Price  Temperature  No. Occupants\n",
              "0   False   False   False  False        False          False\n",
              "1   False   False   False  False        False          False\n",
              "2   False   False   False  False        False          False\n",
              "3   False   False   False  False        False          False\n",
              "4   False   False   False  False        False          False\n",
              "5   False   False   False  False        False          False\n",
              "6   False   False   False  False        False          False\n",
              "7   False   False   False  False        False          False\n",
              "8   False   False   False  False        False          False\n",
              "9   False   False   False  False        False          False\n",
              "10  False   False   False  False        False          False\n",
              "11  False   False   False  False        False          False\n",
              "12  False   False   False  False        False          False\n",
              "13  False   False   False  False        False          False\n",
              "14  False    True   False  False        False          False\n",
              "15  False   False   False  False        False          False\n",
              "16  False   False   False  False        False          False\n",
              "17  False   False   False  False        False          False\n",
              "18  False   False   False  False        False          False\n",
              "19  False   False   False  False        False          False\n",
              "20  False   False   False  False        False          False\n",
              "21  False   False   False  False        False          False\n",
              "22  False   False   False  False        False          False\n",
              "23  False   False   False   True        False          False\n",
              "24  False   False   False  False        False          False"
            ]
          },
          "metadata": {
            "tags": []
          },
          "execution_count": 309
        }
      ]
    },
    {
      "cell_type": "code",
      "metadata": {
        "colab": {
          "base_uri": "https://localhost:8080/"
        },
        "id": "slYEZk05AS5b",
        "outputId": "913ba8b8-c2db-425b-c074-9553541e57e6"
      },
      "source": [
        "Reple_data.isnull().sum()"
      ],
      "execution_count": 310,
      "outputs": [
        {
          "output_type": "execute_result",
          "data": {
            "text/plain": [
              "Time             0\n",
              "E_Plug           1\n",
              "E_Heat           0\n",
              "Price            1\n",
              "Temperature      0\n",
              "No. Occupants    0\n",
              "dtype: int64"
            ]
          },
          "metadata": {
            "tags": []
          },
          "execution_count": 310
        }
      ]
    },
    {
      "cell_type": "markdown",
      "metadata": {
        "id": "GGj5uEFkAgSb"
      },
      "source": [
        "This will show how much values are missing or as a NaN. we have to change or replace"
      ]
    },
    {
      "cell_type": "markdown",
      "metadata": {
        "id": "m0XRhBKhBCl-"
      },
      "source": [
        "We have a small data set so we can see that which columns or row have missing values"
      ]
    },
    {
      "cell_type": "code",
      "metadata": {
        "id": "pBFYOFv5AahD"
      },
      "source": [
        "Reple_data.drop(13,axis=0,inplace=True)\n",
        "Reple_data.dropna(axis=0,inplace=True)"
      ],
      "execution_count": 311,
      "outputs": []
    },
    {
      "cell_type": "code",
      "metadata": {
        "id": "tVh35SvABa4p"
      },
      "source": [
        "Fill_data=Reple_data.fillna(method='ffill')\n",
        "M_val=SimpleImputer(missing_values=np.nan,strategy='mean')"
      ],
      "execution_count": 317,
      "outputs": []
    },
    {
      "cell_type": "markdown",
      "metadata": {
        "id": "befSErpVESNE"
      },
      "source": [
        "SimpleImputer is a methtod to fill the missing values in sklearn libraries"
      ]
    },
    {
      "cell_type": "code",
      "metadata": {
        "id": "uzXNL5gQByXb"
      },
      "source": [
        "M_val.fit(Reple_data)\n",
        "Trans_data=M_val.transform(Reple_data)"
      ],
      "execution_count": 318,
      "outputs": []
    },
    {
      "cell_type": "code",
      "metadata": {
        "id": "ssQudZ10GM0F"
      },
      "source": [
        ""
      ],
      "execution_count": null,
      "outputs": []
    }
  ]
}